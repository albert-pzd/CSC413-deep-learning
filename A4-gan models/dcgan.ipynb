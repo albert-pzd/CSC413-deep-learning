{
  "nbformat": 4,
  "nbformat_minor": 0,
  "metadata": {
    "accelerator": "GPU",
    "colab": {
      "name": "dcgan.ipynb",
      "provenance": [],
      "collapsed_sections": [],
      "toc_visible": true
    },
    "kernelspec": {
      "display_name": "Python 3",
      "language": "python",
      "name": "python3"
    },
    "language_info": {
      "codemirror_mode": {
        "name": "ipython",
        "version": 3
      },
      "file_extension": ".py",
      "mimetype": "text/x-python",
      "name": "python",
      "nbconvert_exporter": "python",
      "pygments_lexer": "ipython3",
      "version": "3.7.6"
    }
  },
  "cells": [
    {
      "cell_type": "markdown",
      "metadata": {
        "colab_type": "text",
        "id": "TjPTaRB4mpCd"
      },
      "source": [
        "# Colab FAQ\n",
        "\n",
        "For some basic overview and features offered in Colab notebooks, check out: [Overview of Colaboratory Features](https://colab.research.google.com/notebooks/basic_features_overview.ipynb)\n",
        "\n",
        "You need to use the colab GPU for this assignmentby selecting:\n",
        "\n",
        "> **Runtime**   →   **Change runtime type**   →   **Hardware Accelerator: GPU**"
      ]
    },
    {
      "cell_type": "markdown",
      "metadata": {
        "colab_type": "text",
        "id": "s9IS9B9-yUU5"
      },
      "source": [
        "## Setup PyTorch\n",
        "All files are stored at /content/csc421/a4/ folder\n"
      ]
    },
    {
      "cell_type": "code",
      "metadata": {
        "colab_type": "code",
        "id": "Z-6MQhMOlHXD",
        "colab": {
          "base_uri": "https://localhost:8080/",
          "height": 343
        },
        "outputId": "77dd0ff2-5ca1-45fb-de4a-b47f5ac49970"
      },
      "source": [
        "######################################################################\n",
        "# Setup python environment and change the current working directory\n",
        "######################################################################\n",
        "!pip install torch torchvision\n",
        "!pip install imageio\n",
        "\n",
        "!pip install matplotlib\n",
        "\n",
        "%mkdir -p /content/csc421/a4/\n",
        "%cd /content/csc421/a4"
      ],
      "execution_count": 23,
      "outputs": [
        {
          "output_type": "stream",
          "text": [
            "Requirement already satisfied: torch in /usr/local/lib/python3.6/dist-packages (1.4.0)\n",
            "Requirement already satisfied: torchvision in /usr/local/lib/python3.6/dist-packages (0.5.0)\n",
            "Requirement already satisfied: numpy in /usr/local/lib/python3.6/dist-packages (from torchvision) (1.18.2)\n",
            "Requirement already satisfied: six in /usr/local/lib/python3.6/dist-packages (from torchvision) (1.12.0)\n",
            "Requirement already satisfied: pillow>=4.1.1 in /usr/local/lib/python3.6/dist-packages (from torchvision) (7.0.0)\n",
            "Requirement already satisfied: imageio in /usr/local/lib/python3.6/dist-packages (2.4.1)\n",
            "Requirement already satisfied: numpy in /usr/local/lib/python3.6/dist-packages (from imageio) (1.18.2)\n",
            "Requirement already satisfied: pillow in /usr/local/lib/python3.6/dist-packages (from imageio) (7.0.0)\n",
            "Requirement already satisfied: matplotlib in /usr/local/lib/python3.6/dist-packages (3.2.1)\n",
            "Requirement already satisfied: python-dateutil>=2.1 in /usr/local/lib/python3.6/dist-packages (from matplotlib) (2.8.1)\n",
            "Requirement already satisfied: pyparsing!=2.0.4,!=2.1.2,!=2.1.6,>=2.0.1 in /usr/local/lib/python3.6/dist-packages (from matplotlib) (2.4.6)\n",
            "Requirement already satisfied: cycler>=0.10 in /usr/local/lib/python3.6/dist-packages (from matplotlib) (0.10.0)\n",
            "Requirement already satisfied: numpy>=1.11 in /usr/local/lib/python3.6/dist-packages (from matplotlib) (1.18.2)\n",
            "Requirement already satisfied: kiwisolver>=1.0.1 in /usr/local/lib/python3.6/dist-packages (from matplotlib) (1.1.0)\n",
            "Requirement already satisfied: six>=1.5 in /usr/local/lib/python3.6/dist-packages (from python-dateutil>=2.1->matplotlib) (1.12.0)\n",
            "Requirement already satisfied: setuptools in /usr/local/lib/python3.6/dist-packages (from kiwisolver>=1.0.1->matplotlib) (46.0.0)\n",
            "/content/csc421/a4\n"
          ],
          "name": "stdout"
        }
      ]
    },
    {
      "cell_type": "markdown",
      "metadata": {
        "colab_type": "text",
        "id": "9DaTdRNuUra7"
      },
      "source": [
        "# Helper code"
      ]
    },
    {
      "cell_type": "markdown",
      "metadata": {
        "colab_type": "text",
        "id": "4BIpGwANoQOg"
      },
      "source": [
        "## Utility functions"
      ]
    },
    {
      "cell_type": "code",
      "metadata": {
        "colab_type": "code",
        "id": "D-UJHBYZkh7f",
        "colab": {}
      },
      "source": [
        "import os\n",
        "\n",
        "import numpy as np\n",
        "import matplotlib.pyplot as plt\n",
        "\n",
        "import torch\n",
        "from torch import nn\n",
        "from torch.nn import Parameter\n",
        "import torch.nn.functional as F\n",
        "import torch.optim as optim\n",
        "from torch.autograd import Variable\n",
        "from torch.utils.data import DataLoader\n",
        "from torchvision import datasets\n",
        "from torchvision import transforms\n",
        "\n",
        "from six.moves.urllib.request import urlretrieve\n",
        "import tarfile\n",
        "\n",
        "import imageio\n",
        "from urllib.error import URLError\n",
        "from urllib.error import HTTPError\n",
        "\n",
        "\n",
        "def get_file(fname,\n",
        "             origin,\n",
        "             untar=False,\n",
        "             extract=False,\n",
        "             archive_format='auto',\n",
        "             cache_dir='data'):\n",
        "    datadir = os.path.join(cache_dir)\n",
        "    if not os.path.exists(datadir):\n",
        "        os.makedirs(datadir)\n",
        "\n",
        "    if untar:\n",
        "        untar_fpath = os.path.join(datadir, fname)\n",
        "        fpath = untar_fpath + '.tar.gz'\n",
        "    else:\n",
        "        fpath = os.path.join(datadir, fname)\n",
        "\n",
        "    print(fpath)\n",
        "    if not os.path.exists(fpath):\n",
        "        print('Downloading data from', origin)\n",
        "\n",
        "        error_msg = 'URL fetch failure on {}: {} -- {}'\n",
        "        try:\n",
        "            try:\n",
        "                urlretrieve(origin, fpath)\n",
        "            except URLError as e:\n",
        "                raise Exception(error_msg.format(origin, e.errno, e.reason))\n",
        "            except HTTPError as e:\n",
        "                raise Exception(error_msg.format(origin, e.code, e.msg))\n",
        "        except (Exception, KeyboardInterrupt) as e:\n",
        "            if os.path.exists(fpath):\n",
        "                os.remove(fpath)\n",
        "            raise\n",
        "\n",
        "    if untar:\n",
        "        if not os.path.exists(untar_fpath):\n",
        "            print('Extracting file.')\n",
        "            with tarfile.open(fpath) as archive:\n",
        "                archive.extractall(datadir)\n",
        "        return untar_fpath\n",
        "\n",
        "    return fpath\n",
        "\n",
        "\n",
        "class AttrDict(dict):\n",
        "    def __init__(self, *args, **kwargs):\n",
        "        super(AttrDict, self).__init__(*args, **kwargs)\n",
        "        self.__dict__ = self\n",
        "\n",
        "                \n",
        "def to_var(tensor, cuda=True):\n",
        "    \"\"\"Wraps a Tensor in a Variable, optionally placing it on the GPU.\n",
        "\n",
        "        Arguments:\n",
        "            tensor: A Tensor object.\n",
        "            cuda: A boolean flag indicating whether to use the GPU.\n",
        "\n",
        "        Returns:\n",
        "            A Variable object, on the GPU if cuda==True.\n",
        "    \"\"\"\n",
        "    if cuda:\n",
        "        return Variable(tensor.cuda())\n",
        "    else:\n",
        "        return Variable(tensor)\n",
        "\n",
        "    \n",
        "def to_data(x):\n",
        "    \"\"\"Converts variable to numpy.\"\"\"\n",
        "    if torch.cuda.is_available():\n",
        "        x = x.cpu()\n",
        "    return x.data.numpy()\n",
        "\n",
        "\n",
        "def create_dir(directory):\n",
        "    \"\"\"Creates a directory if it doesn't already exist.\n",
        "    \"\"\"\n",
        "    if not os.path.exists(directory):\n",
        "        os.makedirs(directory)\n",
        "\n",
        "\n",
        "def gan_checkpoint(iteration, G, D, opts):\n",
        "    \"\"\"Saves the parameters of the generator G and discriminator D.\n",
        "    \"\"\"\n",
        "    G_path = os.path.join(opts.checkpoint_dir, 'G.pkl')\n",
        "    D_path = os.path.join(opts.checkpoint_dir, 'D.pkl')\n",
        "    torch.save(G.state_dict(), G_path)\n",
        "    torch.save(D.state_dict(), D_path)\n",
        "\n",
        "\n",
        "def cyclegan_checkpoint(iteration, G_XtoY, G_YtoX, D_X, D_Y, opts):\n",
        "    \"\"\"Saves the parameters of both generators G_YtoX, G_XtoY and discriminators D_X, D_Y.\n",
        "    \"\"\"\n",
        "    G_XtoY_path = os.path.join(opts.checkpoint_dir, 'G_XtoY.pkl')\n",
        "    G_YtoX_path = os.path.join(opts.checkpoint_dir, 'G_YtoX.pkl')\n",
        "    D_X_path = os.path.join(opts.checkpoint_dir, 'D_X.pkl')\n",
        "    D_Y_path = os.path.join(opts.checkpoint_dir, 'D_Y.pkl')\n",
        "    torch.save(G_XtoY.state_dict(), G_XtoY_path)\n",
        "    torch.save(G_YtoX.state_dict(), G_YtoX_path)\n",
        "    torch.save(D_X.state_dict(), D_X_path)\n",
        "    torch.save(D_Y.state_dict(), D_Y_path)\n",
        "\n",
        "\n",
        "def load_checkpoint(opts):\n",
        "    \"\"\"Loads the generator and discriminator models from checkpoints.\n",
        "    \"\"\"\n",
        "    G_XtoY_path = os.path.join(opts.load, 'G_XtoY.pkl')\n",
        "    G_YtoX_path = os.path.join(opts.load, 'G_YtoX.pkl')\n",
        "    D_X_path = os.path.join(opts.load, 'D_X.pkl')\n",
        "    D_Y_path = os.path.join(opts.load, 'D_Y.pkl')\n",
        "\n",
        "    G_XtoY = CycleGenerator(conv_dim=opts.g_conv_dim, init_zero_weights=opts.init_zero_weights)\n",
        "    G_YtoX = CycleGenerator(conv_dim=opts.g_conv_dim, init_zero_weights=opts.init_zero_weights)\n",
        "    D_X = DCDiscriminator(conv_dim=opts.d_conv_dim)\n",
        "    D_Y = DCDiscriminator(conv_dim=opts.d_conv_dim)\n",
        "\n",
        "    G_XtoY.load_state_dict(torch.load(G_XtoY_path, map_location=lambda storage, loc: storage))\n",
        "    G_YtoX.load_state_dict(torch.load(G_YtoX_path, map_location=lambda storage, loc: storage))\n",
        "    D_X.load_state_dict(torch.load(D_X_path, map_location=lambda storage, loc: storage))\n",
        "    D_Y.load_state_dict(torch.load(D_Y_path, map_location=lambda storage, loc: storage))\n",
        "\n",
        "    if torch.cuda.is_available():\n",
        "        G_XtoY.cuda()\n",
        "        G_YtoX.cuda()\n",
        "        D_X.cuda()\n",
        "        D_Y.cuda()\n",
        "        print('Models moved to GPU.')\n",
        "\n",
        "    return G_XtoY, G_YtoX, D_X, D_Y\n",
        "\n",
        "\n",
        "def merge_images(sources, targets, opts):\n",
        "    \"\"\"Creates a grid consisting of pairs of columns, where the first column in\n",
        "    each pair contains images source images and the second column in each pair\n",
        "    contains images generated by the CycleGAN from the corresponding images in\n",
        "    the first column.\n",
        "    \"\"\"\n",
        "    _, _, h, w = sources.shape\n",
        "    row = int(np.sqrt(opts.batch_size))\n",
        "    merged = np.zeros([3, row * h, row * w * 2])\n",
        "    for (idx, s, t) in (zip(range(row ** 2), sources, targets, )):\n",
        "        i = idx // row\n",
        "        j = idx % row\n",
        "        merged[:, i * h:(i + 1) * h, (j * 2) * h:(j * 2 + 1) * h] = s\n",
        "        merged[:, i * h:(i + 1) * h, (j * 2 + 1) * h:(j * 2 + 2) * h] = t\n",
        "    return merged.transpose(1, 2, 0)\n",
        "\n",
        "\n",
        "def generate_gif(directory_path, keyword=None):\n",
        "    images = []\n",
        "    for filename in sorted(os.listdir(directory_path)):\n",
        "        if filename.endswith(\".png\") and (keyword is None or keyword in filename):\n",
        "            img_path = os.path.join(directory_path, filename)\n",
        "            print(\"adding image {}\".format(img_path))\n",
        "            images.append(imageio.imread(img_path))\n",
        "\n",
        "    if keyword:\n",
        "        imageio.mimsave(\n",
        "            os.path.join(directory_path, 'anim_{}.gif'.format(keyword)), images)\n",
        "    else:\n",
        "        imageio.mimsave(os.path.join(directory_path, 'anim.gif'), images)\n",
        "\n",
        "\n",
        "def create_image_grid(array, ncols=None):\n",
        "    \"\"\"\n",
        "    \"\"\"\n",
        "    num_images, channels, cell_h, cell_w = array.shape\n",
        "    if not ncols:\n",
        "        ncols = int(np.sqrt(num_images))\n",
        "    nrows = int(np.math.floor(num_images / float(ncols)))\n",
        "    result = np.zeros((cell_h * nrows, cell_w * ncols, channels), dtype=array.dtype)\n",
        "    for i in range(0, nrows):\n",
        "        for j in range(0, ncols):\n",
        "            result[i * cell_h:(i + 1) * cell_h, j * cell_w:(j + 1) * cell_w, :] = array[i * ncols + j].transpose(1, 2,\n",
        "                                                                                                                 0)\n",
        "\n",
        "    if channels == 1:\n",
        "        result = result.squeeze()\n",
        "    return result\n",
        "\n",
        "\n",
        "def gan_save_samples(G, fixed_noise, iteration, opts):\n",
        "    generated_images = G(fixed_noise)\n",
        "    generated_images = to_data(generated_images)\n",
        "\n",
        "    grid = create_image_grid(generated_images)\n",
        "\n",
        "    # merged = merge_images(X, fake_Y, opts)\n",
        "    path = os.path.join(opts.sample_dir, 'sample-{:06d}.png'.format(iteration))\n",
        "    imageio.imwrite(path, grid)\n",
        "    print('Saved {}'.format(path))\n",
        "\n",
        "\n",
        "def cyclegan_save_samples(iteration, fixed_Y, fixed_X, G_YtoX, G_XtoY, opts):\n",
        "    \"\"\"Saves samples from both generators X->Y and Y->X.\n",
        "    \"\"\"\n",
        "    fake_X = G_YtoX(fixed_Y)\n",
        "    fake_Y = G_XtoY(fixed_X)\n",
        "\n",
        "    X, fake_X = to_data(fixed_X), to_data(fake_X)\n",
        "    Y, fake_Y = to_data(fixed_Y), to_data(fake_Y)\n",
        "\n",
        "    merged = merge_images(X, fake_Y, opts)\n",
        "    path = os.path.join(opts.sample_dir, 'sample-{:06d}-X-Y.png'.format(iteration))\n",
        "    imageio.imwrite(path, merged)\n",
        "    print('Saved {}'.format(path))\n",
        "\n",
        "    merged = merge_images(Y, fake_X, opts)\n",
        "    path = os.path.join(opts.sample_dir, 'sample-{:06d}-Y-X.png'.format(iteration))\n",
        "    imageio.imwrite(path, merged)\n",
        "    print('Saved {}'.format(path))"
      ],
      "execution_count": 0,
      "outputs": []
    },
    {
      "cell_type": "markdown",
      "metadata": {
        "colab_type": "text",
        "id": "pbvpn4MaV0I1"
      },
      "source": [
        "## Data loader"
      ]
    },
    {
      "cell_type": "code",
      "metadata": {
        "colab_type": "code",
        "id": "XVT4TNTOV3Eg",
        "colab": {}
      },
      "source": [
        "def get_emoji_loader(emoji_type, opts):\n",
        "    \"\"\"Creates training and test data loaders.\n",
        "    \"\"\"\n",
        "    transform = transforms.Compose([\n",
        "                    transforms.Scale(opts.image_size),\n",
        "                    transforms.ToTensor(),\n",
        "                    transforms.Normalize((0.5, 0.5, 0.5), (0.5, 0.5, 0.5))\n",
        "                ])\n",
        "\n",
        "    train_path = os.path.join('data/emojis', emoji_type)\n",
        "    test_path = os.path.join('data/emojis', 'Test_{}'.format(emoji_type))\n",
        "\n",
        "    train_dataset = datasets.ImageFolder(train_path, transform)\n",
        "    test_dataset = datasets.ImageFolder(test_path, transform)\n",
        "\n",
        "    train_dloader = DataLoader(dataset=train_dataset, batch_size=opts.batch_size, shuffle=True, num_workers=opts.num_workers)\n",
        "    test_dloader = DataLoader(dataset=test_dataset, batch_size=opts.batch_size, shuffle=False, num_workers=opts.num_workers)\n",
        "\n",
        "    return train_dloader, test_dloader"
      ],
      "execution_count": 0,
      "outputs": []
    },
    {
      "cell_type": "markdown",
      "metadata": {
        "colab_type": "text",
        "id": "bRWfRdmVVjUl"
      },
      "source": [
        "## Training and evaluation code"
      ]
    },
    {
      "cell_type": "code",
      "metadata": {
        "colab_type": "code",
        "id": "nSIhQp41q_Nu",
        "colab": {}
      },
      "source": [
        "def print_models(G_XtoY, G_YtoX, D_X, D_Y):\n",
        "    \"\"\"Prints model information for the generators and discriminators.\n",
        "    \"\"\"\n",
        "    if G_YtoX:\n",
        "        print(\"                 G_XtoY                \")\n",
        "        print(\"---------------------------------------\")\n",
        "        print(G_XtoY)\n",
        "        print(\"---------------------------------------\")\n",
        "\n",
        "        print(\"                 G_YtoX                \")\n",
        "        print(\"---------------------------------------\")\n",
        "        print(G_YtoX)\n",
        "        print(\"---------------------------------------\")\n",
        "\n",
        "        print(\"                  D_X                  \")\n",
        "        print(\"---------------------------------------\")\n",
        "        print(D_X)\n",
        "        print(\"---------------------------------------\")\n",
        "\n",
        "        print(\"                  D_Y                  \")\n",
        "        print(\"---------------------------------------\")\n",
        "        print(D_Y)\n",
        "        print(\"---------------------------------------\")\n",
        "    else:\n",
        "        print(\"                 G                     \")\n",
        "        print(\"---------------------------------------\")\n",
        "        print(G_XtoY)\n",
        "        print(\"---------------------------------------\")\n",
        "\n",
        "        print(\"                  D                    \")\n",
        "        print(\"---------------------------------------\")\n",
        "        print(D_X)\n",
        "        print(\"---------------------------------------\")\n",
        "\n",
        "\n",
        "def create_model(opts):\n",
        "    \"\"\"Builds the generators and discriminators.\n",
        "    \"\"\"\n",
        "    if opts.Y is None:\n",
        "        ### GAN\n",
        "        G = DCGenerator(noise_size=opts.noise_size, conv_dim=opts.g_conv_dim, spectral_norm=opts.spectral_norm)\n",
        "        D = DCDiscriminator(conv_dim=opts.d_conv_dim, spectral_norm=opts.spectral_norm)\n",
        "\n",
        "        print_models(G, None, D, None)\n",
        "\n",
        "        if torch.cuda.is_available():\n",
        "            G.cuda()\n",
        "            D.cuda()\n",
        "            print('Models moved to GPU.')\n",
        "        return G, D\n",
        "          \n",
        "    else:\n",
        "        ### CycleGAN\n",
        "        G_XtoY = CycleGenerator(conv_dim=opts.g_conv_dim, init_zero_weights=opts.init_zero_weights)\n",
        "        G_YtoX = CycleGenerator(conv_dim=opts.g_conv_dim, init_zero_weights=opts.init_zero_weights)\n",
        "        D_X = DCDiscriminator(conv_dim=opts.d_conv_dim)\n",
        "        D_Y = DCDiscriminator(conv_dim=opts.d_conv_dim)\n",
        "\n",
        "        print_models(G_XtoY, G_YtoX, D_X, D_Y)\n",
        "\n",
        "        if torch.cuda.is_available():\n",
        "            G_XtoY.cuda()\n",
        "            G_YtoX.cuda()\n",
        "            D_X.cuda()\n",
        "            D_Y.cuda()\n",
        "            print('Models moved to GPU.')\n",
        "        return G_XtoY, G_YtoX, D_X, D_Y\n",
        "\n",
        "\n",
        "def train(opts):\n",
        "    \"\"\"Loads the data, creates checkpoint and sample directories, and starts the training loop.\n",
        "    \"\"\"\n",
        "\n",
        "    # Create train and test dataloaders for images from the two domains X and Y\n",
        "    dataloader_X, test_dataloader_X = get_emoji_loader(emoji_type=opts.X, opts=opts)\n",
        "    if opts.Y:\n",
        "        dataloader_Y, test_dataloader_Y = get_emoji_loader(emoji_type=opts.Y, opts=opts)\n",
        "\n",
        "    # Create checkpoint and sample directories\n",
        "    create_dir(opts.checkpoint_dir)\n",
        "    create_dir(opts.sample_dir)\n",
        "\n",
        "    # Start training\n",
        "    if opts.Y is None:\n",
        "        G, D = gan_training_loop(dataloader_X, test_dataloader_X, opts)\n",
        "        return G, D\n",
        "    else:\n",
        "        G_XtoY, G_YtoX, D_X, D_Y = cyclegan_training_loop(dataloader_X, dataloader_Y, test_dataloader_X, test_dataloader_Y, opts)\n",
        "        return G_XtoY, G_YtoX, D_X, D_Y\n",
        "\n",
        "\n",
        "def print_opts(opts):\n",
        "    \"\"\"Prints the values of all command-line arguments.\n",
        "    \"\"\"\n",
        "    print('=' * 80)\n",
        "    print('Opts'.center(80))\n",
        "    print('-' * 80)\n",
        "    for key in opts.__dict__:\n",
        "        if opts.__dict__[key]:\n",
        "            print('{:>30}: {:<30}'.format(key, opts.__dict__[key]).center(80))\n",
        "    print('=' * 80)\n"
      ],
      "execution_count": 0,
      "outputs": []
    },
    {
      "cell_type": "markdown",
      "metadata": {
        "colab_type": "text",
        "id": "bXNsLNkOn38w"
      },
      "source": [
        "# Your code for generators and discriminators"
      ]
    },
    {
      "cell_type": "markdown",
      "metadata": {
        "colab_type": "text",
        "id": "u0KxX0sDpXKb"
      },
      "source": [
        "## Helper modules"
      ]
    },
    {
      "cell_type": "code",
      "metadata": {
        "colab_type": "code",
        "id": "y7s0etAmpUgT",
        "colab": {}
      },
      "source": [
        "def sample_noise(batch_size, dim):\n",
        "    \"\"\"\n",
        "    Generate a PyTorch Tensor of uniform random noise.\n",
        "\n",
        "    Input:\n",
        "    - batch_size: Integer giving the batch size of noise to generate.\n",
        "    - dim: Integer giving the dimension of noise to generate.\n",
        "\n",
        "    Output:\n",
        "    - A PyTorch Tensor of shape (batch_size, dim, 1, 1) containing uniform\n",
        "      random noise in the range (-1, 1).\n",
        "    \"\"\"\n",
        "    return to_var(torch.rand(batch_size, dim) * 2 - 1).unsqueeze(2).unsqueeze(3)\n",
        "  \n",
        "\n",
        "def upconv(in_channels, out_channels, kernel_size, stride=2, padding=2, batch_norm=True, spectral_norm=False):\n",
        "    \"\"\"Creates a upsample-and-convolution layer, with optional batch normalization.\n",
        "    \"\"\"\n",
        "    layers = []\n",
        "    if stride>1:\n",
        "        layers.append(nn.Upsample(scale_factor=stride))\n",
        "    conv_layer = nn.Conv2d(in_channels=in_channels, out_channels=out_channels, kernel_size=kernel_size, stride=1, padding=padding, bias=False)\n",
        "    if spectral_norm:\n",
        "        layers.append(SpectralNorm(conv_layer))\n",
        "    else:\n",
        "        layers.append(conv_layer)\n",
        "    if batch_norm:\n",
        "        layers.append(nn.BatchNorm2d(out_channels))\n",
        "    return nn.Sequential(*layers)\n",
        "\n",
        "\n",
        "def conv(in_channels, out_channels, kernel_size, stride=2, padding=2, batch_norm=True, init_zero_weights=False, spectral_norm=False):\n",
        "    \"\"\"Creates a convolutional layer, with optional batch normalization.\n",
        "    \"\"\"\n",
        "    layers = []\n",
        "    conv_layer = nn.Conv2d(in_channels=in_channels, out_channels=out_channels, kernel_size=kernel_size, stride=stride, padding=padding, bias=False)\n",
        "    if init_zero_weights:\n",
        "        conv_layer.weight.data = torch.randn(out_channels, in_channels, kernel_size, kernel_size) * 0.001\n",
        "            \n",
        "    if spectral_norm:\n",
        "        layers.append(SpectralNorm(conv_layer))\n",
        "    else:\n",
        "        layers.append(conv_layer)\n",
        "\n",
        "    if batch_norm:\n",
        "        layers.append(nn.BatchNorm2d(out_channels))\n",
        "    return nn.Sequential(*layers)\n",
        "  \n",
        "\n",
        "class ResnetBlock(nn.Module):\n",
        "    def __init__(self, conv_dim):\n",
        "        super(ResnetBlock, self).__init__()\n",
        "        self.conv_layer = conv(in_channels=conv_dim, out_channels=conv_dim, kernel_size=3, stride=1, padding=1)\n",
        "\n",
        "    def forward(self, x):\n",
        "        out = x + self.conv_layer(x)\n",
        "        return out"
      ],
      "execution_count": 0,
      "outputs": []
    },
    {
      "cell_type": "markdown",
      "metadata": {
        "colab_type": "text",
        "id": "S0_YbBwe5k35"
      },
      "source": [
        "## DCGAN"
      ]
    },
    {
      "cell_type": "markdown",
      "metadata": {
        "id": "m1E_jDaBLT1P",
        "colab_type": "text"
      },
      "source": [
        "## Spectral Norm class"
      ]
    },
    {
      "cell_type": "code",
      "metadata": {
        "id": "2hy97i1-LT1Q",
        "colab_type": "code",
        "colab": {}
      },
      "source": [
        "def l2normalize(v, eps=1e-12):\n",
        "    return v / (v.norm() + eps)\n",
        "\n",
        "\n",
        "class SpectralNorm(nn.Module):\n",
        "    def __init__(self, module, name='weight', power_iterations=1):\n",
        "        super(SpectralNorm, self).__init__()\n",
        "        self.module = module\n",
        "        self.name = name\n",
        "        self.power_iterations = power_iterations\n",
        "        if not self._made_params():\n",
        "            self._make_params()\n",
        "\n",
        "    def _update_u_v(self):\n",
        "        u = getattr(self.module, self.name + \"_u\")\n",
        "        v = getattr(self.module, self.name + \"_v\")\n",
        "        w = getattr(self.module, self.name + \"_bar\")\n",
        "\n",
        "        height = w.data.shape[0]\n",
        "        for _ in range(self.power_iterations):\n",
        "            v.data = l2normalize(torch.mv(torch.t(w.view(height,-1).data), u.data))\n",
        "            u.data = l2normalize(torch.mv(w.view(height,-1).data, v.data))\n",
        "\n",
        "        # sigma = torch.dot(u.data, torch.mv(w.view(height,-1).data, v.data))\n",
        "        sigma = u.dot(w.view(height, -1).mv(v))\n",
        "        setattr(self.module, self.name, w / sigma.expand_as(w))\n",
        "\n",
        "    def _made_params(self):\n",
        "        try:\n",
        "            u = getattr(self.module, self.name + \"_u\")\n",
        "            v = getattr(self.module, self.name + \"_v\")\n",
        "            w = getattr(self.module, self.name + \"_bar\")\n",
        "            return True\n",
        "        except AttributeError:\n",
        "            return False\n",
        "\n",
        "    def _make_params(self):\n",
        "        w = getattr(self.module, self.name)\n",
        "\n",
        "        height = w.data.shape[0]\n",
        "        width = w.view(height, -1).data.shape[1]\n",
        "\n",
        "        u = Parameter(w.data.new(height).normal_(0, 1), requires_grad=False)\n",
        "        v = Parameter(w.data.new(width).normal_(0, 1), requires_grad=False)\n",
        "        u.data = l2normalize(u.data)\n",
        "        v.data = l2normalize(v.data)\n",
        "        w_bar = Parameter(w.data)\n",
        "\n",
        "        del self.module._parameters[self.name]\n",
        "\n",
        "        self.module.register_parameter(self.name + \"_u\", u)\n",
        "        self.module.register_parameter(self.name + \"_v\", v)\n",
        "        self.module.register_parameter(self.name + \"_bar\", w_bar)\n",
        "\n",
        "    def forward(self, *args):\n",
        "        self._update_u_v()\n",
        "        return self.module.forward(*args)"
      ],
      "execution_count": 0,
      "outputs": []
    },
    {
      "cell_type": "markdown",
      "metadata": {
        "colab_type": "text",
        "id": "_BAfi_8yWB3y"
      },
      "source": [
        "### GAN generator"
      ]
    },
    {
      "cell_type": "code",
      "metadata": {
        "colab_type": "code",
        "id": "9ztmyA5Ro67o",
        "colab": {}
      },
      "source": [
        "class DCGenerator(nn.Module):\n",
        "    def __init__(self, noise_size, conv_dim, spectral_norm=False):\n",
        "        super(DCGenerator, self).__init__()\n",
        "\n",
        "        self.conv_dim = conv_dim\n",
        "        ###########################################\n",
        "        ##   FILL THIS IN: CREATE ARCHITECTURE   ##\n",
        "        ###########################################\n",
        "        self.linear_bn = upconv(noise_size, self.conv_dim*4, kernel_size=5, stride=4)\n",
        "        self.upconv1 = upconv(self.conv_dim*4, self.conv_dim*2, kernel_size=5, stride=2)\n",
        "        self.upconv2 = upconv(self.conv_dim*2, self.conv_dim, kernel_size=5, stride=2)\n",
        "        self.upconv3 = upconv(self.conv_dim, 3, kernel_size=5, stride=2, batch_norm=False)\n",
        "\n",
        "    def forward(self, z):\n",
        "        \"\"\"Generates an image given a sample of random noise.\n",
        "\n",
        "            Input\n",
        "            -----\n",
        "                z: BS x noise_size x 1 x 1   -->  BSx100x1x1 (during training)\n",
        "\n",
        "            Output\n",
        "            ------\n",
        "                out: BS x channels x image_width x image_height  -->  BSx3x32x32 (during training)\n",
        "        \"\"\"\n",
        "        batch_size = z.size(0)\n",
        "        \n",
        "        out = F.relu(self.linear_bn(z)).view(-1, self.conv_dim*4, 4, 4)    # BS x 128 x 4 x 4\n",
        "        out = F.relu(self.upconv1(out))  # BS x 64 x 8 x 8\n",
        "        out = F.relu(self.upconv2(out))  # BS x 32 x 16 x 16\n",
        "        out = F.tanh(self.upconv3(out))  # BS x 3 x 32 x 32\n",
        "        \n",
        "        out_size = out.size()\n",
        "        if out_size != torch.Size([batch_size, 3, 32, 32]):\n",
        "            raise ValueError(\"expect {} x 3 x 32 x 32, but get {}\".format(batch_size, out_size))\n",
        "        return out\n"
      ],
      "execution_count": 0,
      "outputs": []
    },
    {
      "cell_type": "markdown",
      "metadata": {
        "colab_type": "text",
        "id": "cG4uqAVPp8_B"
      },
      "source": [
        "### GAN discriminator"
      ]
    },
    {
      "cell_type": "code",
      "metadata": {
        "colab_type": "code",
        "id": "0GkjXydnqARR",
        "colab": {}
      },
      "source": [
        "class DCDiscriminator(nn.Module):\n",
        "    \"\"\"Defines the architecture of the discriminator network.\n",
        "       Note: Both discriminators D_X and D_Y have the same architecture in this assignment.\n",
        "    \"\"\"\n",
        "    def __init__(self, conv_dim=64, spectral_norm=False):\n",
        "        super(DCDiscriminator, self).__init__()\n",
        "\n",
        "        ###########################################\n",
        "        ##   FILL THIS IN: CREATE ARCHITECTURE   ##\n",
        "        ###########################################\n",
        "\n",
        "        self.conv1 = conv(in_channels=3, out_channels=conv_dim, kernel_size=5, stride=2, spectral_norm=spectral_norm)\n",
        "        self.conv2 = conv(in_channels=conv_dim, out_channels=conv_dim*2, kernel_size=5, stride=2, spectral_norm=spectral_norm)\n",
        "        self.conv3 = conv(in_channels=conv_dim*2, out_channels=conv_dim*4, kernel_size=5, stride=2, spectral_norm=spectral_norm)\n",
        "        self.conv4 = conv(in_channels=conv_dim*4, out_channels=1, kernel_size=5, stride=2, padding=1, batch_norm=False, spectral_norm=spectral_norm)\n",
        "\n",
        "    def forward(self, x):\n",
        "        batch_size = x.size(0)\n",
        "\n",
        "        out = F.relu(self.conv1(x))    # BS x 64 x 16 x 16\n",
        "        out = F.relu(self.conv2(out))    # BS x 64 x 8 x 8\n",
        "        out = F.relu(self.conv3(out))    # BS x 64 x 4 x 4\n",
        "\n",
        "        out = self.conv4(out).squeeze()\n",
        "        out_size = out.size()\n",
        "        if out_size != torch.Size([batch_size,]):\n",
        "            raise ValueError(\"expect {} x 1, but get {}\".format(batch_size, out_size))\n",
        "        return out"
      ],
      "execution_count": 0,
      "outputs": []
    },
    {
      "cell_type": "markdown",
      "metadata": {
        "colab_type": "text",
        "id": "G8RtBMu55ysm"
      },
      "source": [
        "### GAN training loop"
      ]
    },
    {
      "cell_type": "code",
      "metadata": {
        "colab_type": "code",
        "id": "MxIJ2Zua51KI",
        "colab": {}
      },
      "source": [
        "def gan_training_loop(dataloader, test_dataloader, opts):\n",
        "    \"\"\"Runs the training loop.\n",
        "        * Saves checkpoint every opts.checkpoint_every iterations\n",
        "        * Saves generated samples every opts.sample_every iterations\n",
        "    \"\"\"\n",
        "\n",
        "    # Create generators and discriminators\n",
        "    G, D = create_model(opts)\n",
        "\n",
        "    g_params = G.parameters()  # Get generator parameters\n",
        "    d_params = D.parameters()  # Get discriminator parameters\n",
        "\n",
        "    # Create optimizers for the generators and discriminators\n",
        "    g_optimizer = optim.Adam(g_params, opts.lr, [opts.beta1, opts.beta2])\n",
        "    d_optimizer = optim.Adam(d_params, opts.lr * 2., [opts.beta1, opts.beta2])\n",
        "\n",
        "    train_iter = iter(dataloader)\n",
        "\n",
        "    test_iter = iter(test_dataloader)\n",
        "\n",
        "    # Get some fixed data from domains X and Y for sampling. These are images that are held\n",
        "    # constant throughout training, that allow us to inspect the model's performance.\n",
        "    fixed_noise = sample_noise(100, opts.noise_size)  # # 100 x noise_size x 1 x 1\n",
        "\n",
        "    iter_per_epoch = len(train_iter)\n",
        "    total_train_iters = opts.train_iters\n",
        "\n",
        "    losses = {\"iteration\": [], \"D_fake_loss\": [], \"D_real_loss\": [], \"G_loss\": []}\n",
        "\n",
        "    gp_weight = 10\n",
        "\n",
        "    try:\n",
        "        for iteration in range(1, opts.train_iters + 1):\n",
        "\n",
        "            # Reset data_iter for each epoch\n",
        "            if iteration % iter_per_epoch == 0:\n",
        "                train_iter = iter(dataloader)\n",
        "\n",
        "            real_images, real_labels = train_iter.next()\n",
        "            real_images, real_labels = to_var(real_images), to_var(real_labels).long().squeeze()\n",
        "\n",
        "            # ones = Variable(torch.Tensor(real_images.shape[0]).float().cuda().fill_(1.0), requires_grad=False)\n",
        "\n",
        "            for d_i in range(opts.d_train_iters):\n",
        "                d_optimizer.zero_grad()\n",
        "\n",
        "                # FILL THIS IN\n",
        "                # 1. Compute the discriminator loss on real images\n",
        "                D_real_loss = torch.mean((D(real_images) - 1)**2)/2\n",
        "\n",
        "                # 2. Sample noise\n",
        "                noise = sample_noise(100, opts.noise_size)\n",
        "\n",
        "                # 3. Generate fake images from the noise\n",
        "                fake_images = G(noise)\n",
        "                \n",
        "                # 4. Compute the discriminator loss on the fake images\n",
        "                D_fake_loss = torch.mean(D(fake_images)**2)/2 \n",
        "\n",
        "                # ---- Gradient Penalty ----\n",
        "                if opts.gradient_penalty:\n",
        "                    alpha = torch.rand(real_images.shape[0], 1, 1, 1)\n",
        "                    alpha = alpha.expand_as(real_images).cuda()\n",
        "                    interp_images = Variable(alpha * real_images.size(0) + (1 - alpha) * fake_images.size(0), requires_grad=True).cuda()\n",
        "                    D_interp_output = D(interp_images)\n",
        "\n",
        "                    gradients = torch.autograd.grad(outputs=D_interp_output, inputs=interp_images,\n",
        "                                                    grad_outputs=torch.ones(D_interp_output.size()).cuda(),\n",
        "                                                    create_graph=True, retain_graph=True)[0]\n",
        "                    gradients = gradients.view(real_images.shape[0], -1)\n",
        "                    gradients_norm = torch.sqrt(torch.sum(gradients ** 2, dim=1) + 1e-12)\n",
        "\n",
        "                    gp = gp_weight * gradients_norm.mean()\n",
        "                else:\n",
        "                    gp = 0.0\n",
        "\n",
        "                # --------------------------\n",
        "                # 5. Compute the total discriminator loss\n",
        "                D_total_loss = D_real_loss + D_fake_loss\n",
        "\n",
        "                D_total_loss.backward()\n",
        "                d_optimizer.step()\n",
        "\n",
        "            ###########################################\n",
        "            ###          TRAIN THE GENERATOR        ###\n",
        "            ###########################################\n",
        "\n",
        "            g_optimizer.zero_grad()\n",
        "\n",
        "            # FILL THIS IN\n",
        "            # 1. Sample noise\n",
        "            noise = sample_noise(100, opts.noise_size)\n",
        "\n",
        "            # 2. Generate fake images from the noise\n",
        "            fake_images = G(noise)\n",
        "\n",
        "            # 3. Compute the generator loss\n",
        "            G_loss = torch.mean((D(fake_images) - 1)**2)\n",
        "\n",
        "            G_loss.backward()\n",
        "            g_optimizer.step()\n",
        "\n",
        "            # Print the log info\n",
        "            if iteration % opts.log_step == 0:\n",
        "                losses['iteration'].append(iteration)\n",
        "                losses['D_real_loss'].append(D_real_loss.item())\n",
        "                losses['D_fake_loss'].append(D_fake_loss.item())\n",
        "                losses['G_loss'].append(G_loss.item())\n",
        "                print('Iteration [{:4d}/{:4d}] | D_real_loss: {:6.4f} | D_fake_loss: {:6.4f} | G_loss: {:6.4f}'.format(\n",
        "                    iteration, total_train_iters, D_real_loss.item(), D_fake_loss.item(), G_loss.item()))\n",
        "\n",
        "            # Save the generated samples\n",
        "            if iteration % opts.sample_every == 0:\n",
        "                gan_save_samples(G, fixed_noise, iteration, opts)\n",
        "\n",
        "            # Save the model parameters\n",
        "            if iteration % opts.checkpoint_every == 0:\n",
        "                gan_checkpoint(iteration, G, D, opts)\n",
        "\n",
        "    except KeyboardInterrupt:\n",
        "        print('Exiting early from training.')\n",
        "        return G, D\n",
        "\n",
        "    plt.figure()\n",
        "    plt.plot(losses['iteration'], losses['D_real_loss'], label='D_real')\n",
        "    plt.plot(losses['iteration'], losses['D_fake_loss'], label='D_fake')\n",
        "    plt.plot(losses['iteration'], losses['G_loss'], label='G')\n",
        "    plt.legend()\n",
        "    plt.savefig(os.path.join(opts.sample_dir, 'losses.png'))\n",
        "    plt.close()\n",
        "    return G, D"
      ],
      "execution_count": 0,
      "outputs": []
    },
    {
      "cell_type": "markdown",
      "metadata": {
        "colab_type": "text",
        "id": "ptSA0rHUuNHa"
      },
      "source": [
        "## CycleGAN"
      ]
    },
    {
      "cell_type": "markdown",
      "metadata": {
        "colab_type": "text",
        "id": "I8lIyRNGuOrv"
      },
      "source": [
        "### CycleGAN generator"
      ]
    },
    {
      "cell_type": "code",
      "metadata": {
        "colab_type": "code",
        "id": "VVswO-M-uXLo",
        "colab": {}
      },
      "source": [
        "class CycleGenerator(nn.Module):\n",
        "    \"\"\"Defines the architecture of the generator network.\n",
        "       Note: Both generators G_XtoY and G_YtoX have the same architecture in this assignment.\n",
        "    \"\"\"\n",
        "    def __init__(self, conv_dim=64, init_zero_weights=False):\n",
        "        super(CycleGenerator, self).__init__()\n",
        "\n",
        "        # 1. Define the encoder part of the generator (that extracts features from the input image)\n",
        "        self.conv1 = conv(in_channels=3, out_channels=conv_dim, kernel_size=5, init_zero_weights=init_zero_weights)\n",
        "        self.conv2 = conv(in_channels=conv_dim, out_channels=conv_dim*2, kernel_size=5, init_zero_weights=init_zero_weights)\n",
        "\n",
        "        # 2. Define the transformation part of the generator\n",
        "        self.resnet_block  = ResnetBlock(conv_dim*2)\n",
        "\n",
        "        # 3. Define the decoder part of the generator (that builds up the output image from features)\n",
        "        self.upconv1 = upconv(in_channels=conv_dim*2, out_channels=conv_dim, kernel_size=5)\n",
        "        self.upconv2 = upconv(in_channels=conv_dim, out_channels=3, kernel_size=5, batch_norm=False)\n",
        "\n",
        "    def forward(self, x):\n",
        "        \"\"\"Generates an image conditioned on an input image.\n",
        "\n",
        "            Input\n",
        "            -----\n",
        "                x: BS x 3 x 32 x 32\n",
        "\n",
        "            Output\n",
        "            ------\n",
        "                out: BS x 3 x 32 x 32\n",
        "        \"\"\"\n",
        "        batch_size = x.size(0)\n",
        "        \n",
        "        out = F.relu(self.conv1(x))            # BS x 32 x 16 x 16\n",
        "        out = F.relu(self.conv2(out))          # BS x 64 x 8 x 8\n",
        "        \n",
        "        out = F.relu(self.resnet_block(out))   # BS x 64 x 8 x 8\n",
        "\n",
        "        out = F.relu(self.upconv1(out))        # BS x 32 x 16 x 16\n",
        "\n",
        "        out = F.tanh(self.upconv2(out))        # BS x 3 x 32 x 32\n",
        "        \n",
        "        out_size = out.size()\n",
        "        if out_size != torch.Size([batch_size, 3, 32, 32]):\n",
        "            raise ValueError(\"expect {} x 3 x 32 x 32, but get {}\".format(batch_size, out_size))\n",
        "\n",
        "\n",
        "        return out"
      ],
      "execution_count": 0,
      "outputs": []
    },
    {
      "cell_type": "markdown",
      "metadata": {
        "colab_type": "text",
        "id": "oYVbPQ6OuB1w"
      },
      "source": [
        "### CycleGAN training loop"
      ]
    },
    {
      "cell_type": "code",
      "metadata": {
        "colab_type": "code",
        "id": "CFfQjxstuGaA",
        "colab": {}
      },
      "source": [
        "def cyclegan_training_loop(dataloader_X, dataloader_Y, test_dataloader_X, test_dataloader_Y, opts):\n",
        "    \"\"\"Runs the training loop.\n",
        "        * Saves checkpoint every opts.checkpoint_every iterations\n",
        "        * Saves generated samples every opts.sample_every iterations\n",
        "    \"\"\"\n",
        "\n",
        "    # Create generators and discriminators\n",
        "    G_XtoY, G_YtoX, D_X, D_Y = create_model(opts)\n",
        "\n",
        "    g_params = list(G_XtoY.parameters()) + list(G_YtoX.parameters())  # Get generator parameters\n",
        "    d_params = list(D_X.parameters()) + list(D_Y.parameters())  # Get discriminator parameters\n",
        "\n",
        "    # Create optimizers for the generators and discriminators\n",
        "    g_optimizer = optim.Adam(g_params, opts.lr, [opts.beta1, opts.beta2])\n",
        "    d_optimizer = optim.Adam(d_params, opts.lr, [opts.beta1, opts.beta2])\n",
        "\n",
        "    iter_X = iter(dataloader_X)\n",
        "    iter_Y = iter(dataloader_Y)\n",
        "\n",
        "    test_iter_X = iter(test_dataloader_X)\n",
        "    test_iter_Y = iter(test_dataloader_Y)\n",
        "\n",
        "    # Get some fixed data from domains X and Y for sampling. These are images that are held\n",
        "    # constant throughout training, that allow us to inspect the model's performance.\n",
        "    fixed_X = to_var(test_iter_X.next()[0])\n",
        "    fixed_Y = to_var(test_iter_Y.next()[0])\n",
        "\n",
        "    iter_per_epoch = min(len(iter_X), len(iter_Y))\n",
        "\n",
        "    try:\n",
        "        for iteration in range(1, opts.train_iters+1):\n",
        "\n",
        "            # Reset data_iter for each epoch\n",
        "            if iteration % iter_per_epoch == 0:\n",
        "                iter_X = iter(dataloader_X)\n",
        "                iter_Y = iter(dataloader_Y)\n",
        "\n",
        "            images_X, labels_X = iter_X.next()\n",
        "            images_X, labels_X = to_var(images_X), to_var(labels_X).long().squeeze()\n",
        "\n",
        "            images_Y, labels_Y = iter_Y.next()\n",
        "            images_Y, labels_Y = to_var(images_Y), to_var(labels_Y).long().squeeze()\n",
        "\n",
        "\n",
        "            # ============================================\n",
        "            #            TRAIN THE DISCRIMINATORS\n",
        "            # ============================================\n",
        "\n",
        "            #########################################\n",
        "            ##             FILL THIS IN            ##\n",
        "            #########################################\n",
        "\n",
        "            # Train with real images\n",
        "            d_optimizer.zero_grad()\n",
        "\n",
        "            # 1. Compute the discriminator losses on real images\n",
        "            # D_X_loss = ...\n",
        "            # D_Y_loss = ...\n",
        "            D_X_loss = torch.mean((D_X(images_X) - 1)**2)\n",
        "            D_Y_loss = torch.mean((D_Y(images_Y) - 1)**2)\n",
        "\n",
        "            d_real_loss = D_X_loss + D_Y_loss\n",
        "            d_real_loss.backward()\n",
        "            d_optimizer.step()\n",
        "\n",
        "            # Train with fake images\n",
        "            d_optimizer.zero_grad()\n",
        "\n",
        "            # 2. Generate fake images that look like domain X based on real images in domain Y\n",
        "            # fake_X = ...\n",
        "            fake_X = G_YtoX(images_Y)\n",
        "\n",
        "            # 3. Compute the loss for D_X\n",
        "            # D_X_loss = ...\n",
        "            D_X_loss = torch.mean(D_X(fake_X)**2)\n",
        "\n",
        "            # 4. Generate fake images that look like domain Y based on real images in domain X\n",
        "            # fake_Y = ...\n",
        "            fake_Y = G_XtoY(images_X)\n",
        "\n",
        "            # 5. Compute the loss for D_Y\n",
        "            # D_Y_loss = ...\n",
        "            D_Y_loss = torch.mean(D_Y(fake_Y)**2)\n",
        "\n",
        "            d_fake_loss = D_X_loss + D_Y_loss\n",
        "            d_fake_loss.backward()\n",
        "            d_optimizer.step()\n",
        "\n",
        "\n",
        "\n",
        "            # =========================================\n",
        "            #            TRAIN THE GENERATORS\n",
        "            # =========================================\n",
        "\n",
        "\n",
        "            #########################################\n",
        "            ##    FILL THIS IN: Y--X-->Y CYCLE     ##\n",
        "            #########################################\n",
        "            g_optimizer.zero_grad()\n",
        "\n",
        "            # 1. Generate fake images that look like domain X based on real images in domain Y\n",
        "            # fake_X = ...\n",
        "            fake_X = G_YtoX(images_Y)\n",
        "\n",
        "            # 2. Compute the generator loss based on domain X\n",
        "            # g_loss = ...\n",
        "            g_loss = torch.mean((D_X(fake_X) - 1)**2)\n",
        "\n",
        "            reconstructed_Y = G_XtoY(fake_X)\n",
        "            # 3. Compute the cycle consistency loss (the reconstruction loss)\n",
        "            # cycle_consistency_loss = ...\n",
        "            cycle_consistency_loss = torch.mean(torch.sum(torch.abs(images_Y - reconstructed_Y), [1,2,3]))\n",
        "\n",
        "            g_loss += opts.lambda_cycle * cycle_consistency_loss\n",
        "\n",
        "            g_loss.backward()\n",
        "            g_optimizer.step()\n",
        "\n",
        "\n",
        "\n",
        "            #########################################\n",
        "            ##    FILL THIS IN: X--Y-->X CYCLE     ##\n",
        "            #########################################\n",
        "\n",
        "            g_optimizer.zero_grad()\n",
        "\n",
        "            # 1. Generate fake images that look like domain Y based on real images in domain X\n",
        "            # fake_Y = ...\n",
        "            fake_Y = G_XtoY(images_X)\n",
        "\n",
        "            # 2. Compute the generator loss based on domain Y\n",
        "            # g_loss = ...\n",
        "            g_loss = torch.mean((D_Y(fake_Y) - 1)**2)\n",
        "\n",
        "            reconstructed_X = G_YtoX(fake_Y)\n",
        "            # 3. Compute the cycle consistency loss (the reconstruction loss)\n",
        "            # cycle_consistency_loss = ...\n",
        "            cycle_consistency_loss = torch.mean(torch.sum(torch.abs(images_X - reconstructed_X),[1,2,3]))\n",
        "\n",
        "            g_loss += opts.lambda_cycle * cycle_consistency_loss\n",
        "\n",
        "            g_loss.backward()\n",
        "            g_optimizer.step()\n",
        "\n",
        "\n",
        "            # Print the log info\n",
        "            if iteration % opts.log_step == 0:\n",
        "                print('Iteration [{:5d}/{:5d}] | d_real_loss: {:6.4f} | d_Y_loss: {:6.4f} | d_X_loss: {:6.4f} | '\n",
        "                    'd_fake_loss: {:6.4f} | g_loss: {:6.4f}'.format(\n",
        "                      iteration, opts.train_iters, d_real_loss.item(), D_Y_loss.item(),\n",
        "                      D_X_loss.item(), d_fake_loss.item(), g_loss.item()))\n",
        "\n",
        "\n",
        "            # Save the generated samples\n",
        "            if iteration % opts.sample_every == 0:\n",
        "                cyclegan_save_samples(iteration, fixed_Y, fixed_X, G_YtoX, G_XtoY, opts)\n",
        "\n",
        "\n",
        "            # Save the model parameters\n",
        "            if iteration % opts.checkpoint_every == 0:\n",
        "                cyclegan_checkpoint(iteration, G_XtoY, G_YtoX, D_X, D_Y, opts)\n",
        "\n",
        "    except KeyboardInterrupt:\n",
        "        print('Exiting early from training.')\n",
        "        return G_XtoY, G_YtoX, D_X, D_Y\n",
        "\n",
        "    return G_XtoY, G_YtoX, D_X, D_Y\n"
      ],
      "execution_count": 0,
      "outputs": []
    },
    {
      "cell_type": "markdown",
      "metadata": {
        "colab_type": "text",
        "id": "XuNFd6LNo0-o"
      },
      "source": [
        "# Training\n"
      ]
    },
    {
      "cell_type": "markdown",
      "metadata": {
        "colab_type": "text",
        "id": "kiUwiOITHTW4"
      },
      "source": [
        "## Download dataset"
      ]
    },
    {
      "cell_type": "code",
      "metadata": {
        "colab_type": "code",
        "id": "xwcFjsEpHRbI",
        "colab": {
          "base_uri": "https://localhost:8080/",
          "height": 35
        },
        "outputId": "80c2ec70-9026-4557-a1f2-49efeb63d254"
      },
      "source": [
        "######################################################################\n",
        "# Download Translation datasets\n",
        "######################################################################\n",
        "data_fpath = get_file(fname='emojis', \n",
        "                         origin='http://www.cs.toronto.edu/~jba/emojis.tar.gz', \n",
        "                         untar=True)"
      ],
      "execution_count": 21,
      "outputs": [
        {
          "output_type": "stream",
          "text": [
            "data/emojis.tar.gz\n"
          ],
          "name": "stdout"
        }
      ]
    },
    {
      "cell_type": "markdown",
      "metadata": {
        "colab_type": "text",
        "id": "hmQmyJDSRFKR"
      },
      "source": [
        "## DCGAN"
      ]
    },
    {
      "cell_type": "code",
      "metadata": {
        "colab_type": "code",
        "id": "0LKaRF1jwhH7",
        "scrolled": true,
        "colab": {
          "base_uri": "https://localhost:8080/",
          "height": 1000
        },
        "outputId": "51736a27-9b65-4348-80f0-2070d25b6381"
      },
      "source": [
        "SEED = 6\n",
        "\n",
        "# Set the random seed manually for reproducibility.\n",
        "np.random.seed(SEED)\n",
        "torch.manual_seed(SEED)\n",
        "if torch.cuda.is_available():\n",
        "    torch.cuda.manual_seed(SEED)\n",
        "\n",
        "\n",
        "args = AttrDict()\n",
        "args_dict = {\n",
        "              'image_size':32, \n",
        "              'g_conv_dim':32, \n",
        "              'd_conv_dim':64,\n",
        "              'noise_size':100,\n",
        "              'num_workers': 0,\n",
        "              'train_iters':20000,\n",
        "              'X':'Windows',  # options: 'Windows' / 'Apple'\n",
        "              'Y': None,\n",
        "              'lr':0.0003,\n",
        "              'beta1':0.5,\n",
        "              'beta2':0.999,\n",
        "              'batch_size':32, \n",
        "              'checkpoint_dir': 'results/checkpoints_gan',\n",
        "              'sample_dir': 'results/samples_gan',\n",
        "              'load': None,\n",
        "              'log_step':200,\n",
        "              'sample_every':200,\n",
        "              'checkpoint_every':1000,\n",
        "              'spectral_norm': False,\n",
        "              'gradient_penalty': True,\n",
        "              'd_train_iters': 1\n",
        "}\n",
        "args.update(args_dict)\n",
        "\n",
        "print_opts(args)\n",
        "G, D = train(args)\n",
        "\n",
        "generate_gif(\"results/samples_gan\")"
      ],
      "execution_count": 37,
      "outputs": [
        {
          "output_type": "stream",
          "text": [
            "================================================================================\n",
            "                                      Opts                                      \n",
            "--------------------------------------------------------------------------------\n",
            "                             image_size: 32                                     \n",
            "                             g_conv_dim: 32                                     \n",
            "                             d_conv_dim: 64                                     \n",
            "                             noise_size: 100                                    \n",
            "                            train_iters: 20000                                  \n",
            "                                      X: Windows                                \n",
            "                                     lr: 0.0003                                 \n",
            "                                  beta1: 0.5                                    \n",
            "                                  beta2: 0.999                                  \n",
            "                             batch_size: 32                                     \n",
            "                         checkpoint_dir: results/checkpoints_gan                \n",
            "                             sample_dir: results/samples_gan                    \n",
            "                               log_step: 200                                    \n",
            "                           sample_every: 200                                    \n",
            "                       checkpoint_every: 1000                                   \n",
            "                       gradient_penalty: 1                                      \n",
            "                          d_train_iters: 1                                      \n",
            "================================================================================\n",
            "                 G                     \n",
            "---------------------------------------\n",
            "DCGenerator(\n",
            "  (linear_bn): Sequential(\n",
            "    (0): Upsample(scale_factor=4.0, mode=nearest)\n",
            "    (1): Conv2d(100, 128, kernel_size=(5, 5), stride=(1, 1), padding=(2, 2), bias=False)\n",
            "    (2): BatchNorm2d(128, eps=1e-05, momentum=0.1, affine=True, track_running_stats=True)\n",
            "  )\n",
            "  (upconv1): Sequential(\n",
            "    (0): Upsample(scale_factor=2.0, mode=nearest)\n",
            "    (1): Conv2d(128, 64, kernel_size=(5, 5), stride=(1, 1), padding=(2, 2), bias=False)\n",
            "    (2): BatchNorm2d(64, eps=1e-05, momentum=0.1, affine=True, track_running_stats=True)\n",
            "  )\n",
            "  (upconv2): Sequential(\n",
            "    (0): Upsample(scale_factor=2.0, mode=nearest)\n",
            "    (1): Conv2d(64, 32, kernel_size=(5, 5), stride=(1, 1), padding=(2, 2), bias=False)\n",
            "    (2): BatchNorm2d(32, eps=1e-05, momentum=0.1, affine=True, track_running_stats=True)\n",
            "  )\n",
            "  (upconv3): Sequential(\n",
            "    (0): Upsample(scale_factor=2.0, mode=nearest)\n",
            "    (1): Conv2d(32, 3, kernel_size=(5, 5), stride=(1, 1), padding=(2, 2), bias=False)\n",
            "  )\n",
            ")\n",
            "---------------------------------------\n",
            "                  D                    \n",
            "---------------------------------------\n",
            "DCDiscriminator(\n",
            "  (conv1): Sequential(\n",
            "    (0): Conv2d(3, 64, kernel_size=(5, 5), stride=(2, 2), padding=(2, 2), bias=False)\n",
            "    (1): BatchNorm2d(64, eps=1e-05, momentum=0.1, affine=True, track_running_stats=True)\n",
            "  )\n",
            "  (conv2): Sequential(\n",
            "    (0): Conv2d(64, 128, kernel_size=(5, 5), stride=(2, 2), padding=(2, 2), bias=False)\n",
            "    (1): BatchNorm2d(128, eps=1e-05, momentum=0.1, affine=True, track_running_stats=True)\n",
            "  )\n",
            "  (conv3): Sequential(\n",
            "    (0): Conv2d(128, 256, kernel_size=(5, 5), stride=(2, 2), padding=(2, 2), bias=False)\n",
            "    (1): BatchNorm2d(256, eps=1e-05, momentum=0.1, affine=True, track_running_stats=True)\n",
            "  )\n",
            "  (conv4): Sequential(\n",
            "    (0): Conv2d(256, 1, kernel_size=(5, 5), stride=(2, 2), padding=(1, 1), bias=False)\n",
            "  )\n",
            ")\n",
            "---------------------------------------\n",
            "Models moved to GPU.\n"
          ],
          "name": "stdout"
        },
        {
          "output_type": "stream",
          "text": [
            "/usr/local/lib/python3.6/dist-packages/torchvision/transforms/transforms.py:220: UserWarning: The use of the transforms.Scale transform is deprecated, please use transforms.Resize instead.\n",
            "  \"please use transforms.Resize instead.\")\n",
            "/usr/local/lib/python3.6/dist-packages/PIL/Image.py:932: UserWarning: Palette images with Transparency expressed in bytes should be converted to RGBA images\n",
            "  \"Palette images with Transparency expressed in bytes should be \"\n",
            "/usr/local/lib/python3.6/dist-packages/torch/nn/functional.py:1340: UserWarning: nn.functional.tanh is deprecated. Use torch.tanh instead.\n",
            "  warnings.warn(\"nn.functional.tanh is deprecated. Use torch.tanh instead.\")\n",
            "WARNING:root:Lossy conversion from float32 to uint8. Range [-0.9791167378425598, 0.9938560724258423]. Convert image to uint8 prior to saving to suppress this warning.\n"
          ],
          "name": "stderr"
        },
        {
          "output_type": "stream",
          "text": [
            "Iteration [ 200/20000] | D_real_loss: 0.0168 | D_fake_loss: 0.0110 | G_loss: 0.9848\n",
            "Saved results/samples_gan/sample-000200.png\n"
          ],
          "name": "stdout"
        },
        {
          "output_type": "stream",
          "text": [
            "WARNING:root:Lossy conversion from float32 to uint8. Range [-0.9403868913650513, 0.9928860664367676]. Convert image to uint8 prior to saving to suppress this warning.\n"
          ],
          "name": "stderr"
        },
        {
          "output_type": "stream",
          "text": [
            "Iteration [ 400/20000] | D_real_loss: 0.0959 | D_fake_loss: 0.0139 | G_loss: 0.7969\n",
            "Saved results/samples_gan/sample-000400.png\n"
          ],
          "name": "stdout"
        },
        {
          "output_type": "stream",
          "text": [
            "WARNING:root:Lossy conversion from float32 to uint8. Range [-0.9696888327598572, 0.9910579919815063]. Convert image to uint8 prior to saving to suppress this warning.\n"
          ],
          "name": "stderr"
        },
        {
          "output_type": "stream",
          "text": [
            "Iteration [ 600/20000] | D_real_loss: 0.1199 | D_fake_loss: 0.0392 | G_loss: 0.4770\n",
            "Saved results/samples_gan/sample-000600.png\n"
          ],
          "name": "stdout"
        },
        {
          "output_type": "stream",
          "text": [
            "WARNING:root:Lossy conversion from float32 to uint8. Range [-0.9742903709411621, 0.9852970838546753]. Convert image to uint8 prior to saving to suppress this warning.\n"
          ],
          "name": "stderr"
        },
        {
          "output_type": "stream",
          "text": [
            "Iteration [ 800/20000] | D_real_loss: 0.0103 | D_fake_loss: 0.0382 | G_loss: 1.0034\n",
            "Saved results/samples_gan/sample-000800.png\n"
          ],
          "name": "stdout"
        },
        {
          "output_type": "stream",
          "text": [
            "WARNING:root:Lossy conversion from float32 to uint8. Range [-0.8977689743041992, 0.8872058987617493]. Convert image to uint8 prior to saving to suppress this warning.\n"
          ],
          "name": "stderr"
        },
        {
          "output_type": "stream",
          "text": [
            "Iteration [1000/20000] | D_real_loss: 0.0120 | D_fake_loss: 0.0087 | G_loss: 1.0311\n",
            "Saved results/samples_gan/sample-001000.png\n"
          ],
          "name": "stdout"
        },
        {
          "output_type": "stream",
          "text": [
            "WARNING:root:Lossy conversion from float32 to uint8. Range [-0.8809009790420532, 0.8502781391143799]. Convert image to uint8 prior to saving to suppress this warning.\n"
          ],
          "name": "stderr"
        },
        {
          "output_type": "stream",
          "text": [
            "Iteration [1200/20000] | D_real_loss: 0.0366 | D_fake_loss: 0.0077 | G_loss: 0.7953\n",
            "Saved results/samples_gan/sample-001200.png\n"
          ],
          "name": "stdout"
        },
        {
          "output_type": "stream",
          "text": [
            "WARNING:root:Lossy conversion from float32 to uint8. Range [-0.7911632061004639, 0.9299222230911255]. Convert image to uint8 prior to saving to suppress this warning.\n"
          ],
          "name": "stderr"
        },
        {
          "output_type": "stream",
          "text": [
            "Iteration [1400/20000] | D_real_loss: 0.0304 | D_fake_loss: 0.0095 | G_loss: 0.9630\n",
            "Saved results/samples_gan/sample-001400.png\n"
          ],
          "name": "stdout"
        },
        {
          "output_type": "stream",
          "text": [
            "WARNING:root:Lossy conversion from float32 to uint8. Range [-0.8767790198326111, 0.8456981778144836]. Convert image to uint8 prior to saving to suppress this warning.\n"
          ],
          "name": "stderr"
        },
        {
          "output_type": "stream",
          "text": [
            "Iteration [1600/20000] | D_real_loss: 0.0076 | D_fake_loss: 0.0162 | G_loss: 0.8515\n",
            "Saved results/samples_gan/sample-001600.png\n"
          ],
          "name": "stdout"
        },
        {
          "output_type": "stream",
          "text": [
            "WARNING:root:Lossy conversion from float32 to uint8. Range [-0.7960492372512817, 0.8765459060668945]. Convert image to uint8 prior to saving to suppress this warning.\n"
          ],
          "name": "stderr"
        },
        {
          "output_type": "stream",
          "text": [
            "Iteration [1800/20000] | D_real_loss: 0.0166 | D_fake_loss: 0.0092 | G_loss: 1.0784\n",
            "Saved results/samples_gan/sample-001800.png\n"
          ],
          "name": "stdout"
        },
        {
          "output_type": "stream",
          "text": [
            "WARNING:root:Lossy conversion from float32 to uint8. Range [-0.812713623046875, 0.8704620599746704]. Convert image to uint8 prior to saving to suppress this warning.\n"
          ],
          "name": "stderr"
        },
        {
          "output_type": "stream",
          "text": [
            "Iteration [2000/20000] | D_real_loss: 0.0105 | D_fake_loss: 0.0283 | G_loss: 1.0710\n",
            "Saved results/samples_gan/sample-002000.png\n"
          ],
          "name": "stdout"
        },
        {
          "output_type": "stream",
          "text": [
            "WARNING:root:Lossy conversion from float32 to uint8. Range [-0.7943993806838989, 0.8771060109138489]. Convert image to uint8 prior to saving to suppress this warning.\n"
          ],
          "name": "stderr"
        },
        {
          "output_type": "stream",
          "text": [
            "Iteration [2200/20000] | D_real_loss: 0.0032 | D_fake_loss: 0.0040 | G_loss: 1.0888\n",
            "Saved results/samples_gan/sample-002200.png\n"
          ],
          "name": "stdout"
        },
        {
          "output_type": "stream",
          "text": [
            "WARNING:root:Lossy conversion from float32 to uint8. Range [-0.7726459503173828, 0.9481216073036194]. Convert image to uint8 prior to saving to suppress this warning.\n"
          ],
          "name": "stderr"
        },
        {
          "output_type": "stream",
          "text": [
            "Iteration [2400/20000] | D_real_loss: 0.0159 | D_fake_loss: 0.0081 | G_loss: 0.7883\n",
            "Saved results/samples_gan/sample-002400.png\n"
          ],
          "name": "stdout"
        },
        {
          "output_type": "stream",
          "text": [
            "WARNING:root:Lossy conversion from float32 to uint8. Range [-0.83929443359375, 0.8296718001365662]. Convert image to uint8 prior to saving to suppress this warning.\n"
          ],
          "name": "stderr"
        },
        {
          "output_type": "stream",
          "text": [
            "Iteration [2600/20000] | D_real_loss: 0.0380 | D_fake_loss: 0.0156 | G_loss: 0.8455\n",
            "Saved results/samples_gan/sample-002600.png\n"
          ],
          "name": "stdout"
        },
        {
          "output_type": "stream",
          "text": [
            "WARNING:root:Lossy conversion from float32 to uint8. Range [-0.8189645409584045, 0.8079472184181213]. Convert image to uint8 prior to saving to suppress this warning.\n"
          ],
          "name": "stderr"
        },
        {
          "output_type": "stream",
          "text": [
            "Iteration [2800/20000] | D_real_loss: 0.0128 | D_fake_loss: 0.0071 | G_loss: 0.9051\n",
            "Saved results/samples_gan/sample-002800.png\n"
          ],
          "name": "stdout"
        },
        {
          "output_type": "stream",
          "text": [
            "WARNING:root:Lossy conversion from float32 to uint8. Range [-0.823408305644989, 0.822467565536499]. Convert image to uint8 prior to saving to suppress this warning.\n"
          ],
          "name": "stderr"
        },
        {
          "output_type": "stream",
          "text": [
            "Iteration [3000/20000] | D_real_loss: 0.0086 | D_fake_loss: 0.0338 | G_loss: 1.0474\n",
            "Saved results/samples_gan/sample-003000.png\n"
          ],
          "name": "stdout"
        },
        {
          "output_type": "stream",
          "text": [
            "WARNING:root:Lossy conversion from float32 to uint8. Range [-0.7560580372810364, 0.8699018359184265]. Convert image to uint8 prior to saving to suppress this warning.\n"
          ],
          "name": "stderr"
        },
        {
          "output_type": "stream",
          "text": [
            "Iteration [3200/20000] | D_real_loss: 0.0039 | D_fake_loss: 0.0063 | G_loss: 1.0933\n",
            "Saved results/samples_gan/sample-003200.png\n"
          ],
          "name": "stdout"
        },
        {
          "output_type": "stream",
          "text": [
            "WARNING:root:Lossy conversion from float32 to uint8. Range [-0.7600992918014526, 0.8092851042747498]. Convert image to uint8 prior to saving to suppress this warning.\n"
          ],
          "name": "stderr"
        },
        {
          "output_type": "stream",
          "text": [
            "Iteration [3400/20000] | D_real_loss: 0.0038 | D_fake_loss: 0.0080 | G_loss: 1.1392\n",
            "Saved results/samples_gan/sample-003400.png\n"
          ],
          "name": "stdout"
        },
        {
          "output_type": "stream",
          "text": [
            "WARNING:root:Lossy conversion from float32 to uint8. Range [-0.7861163020133972, 0.8441555500030518]. Convert image to uint8 prior to saving to suppress this warning.\n"
          ],
          "name": "stderr"
        },
        {
          "output_type": "stream",
          "text": [
            "Iteration [3600/20000] | D_real_loss: 0.0074 | D_fake_loss: 0.0052 | G_loss: 1.2467\n",
            "Saved results/samples_gan/sample-003600.png\n"
          ],
          "name": "stdout"
        },
        {
          "output_type": "stream",
          "text": [
            "WARNING:root:Lossy conversion from float32 to uint8. Range [-0.7431896328926086, 0.9044305086135864]. Convert image to uint8 prior to saving to suppress this warning.\n"
          ],
          "name": "stderr"
        },
        {
          "output_type": "stream",
          "text": [
            "Iteration [3800/20000] | D_real_loss: 0.0061 | D_fake_loss: 0.0119 | G_loss: 1.0720\n",
            "Saved results/samples_gan/sample-003800.png\n"
          ],
          "name": "stdout"
        },
        {
          "output_type": "stream",
          "text": [
            "WARNING:root:Lossy conversion from float32 to uint8. Range [-0.7865577936172485, 0.8930044174194336]. Convert image to uint8 prior to saving to suppress this warning.\n"
          ],
          "name": "stderr"
        },
        {
          "output_type": "stream",
          "text": [
            "Iteration [4000/20000] | D_real_loss: 0.0045 | D_fake_loss: 0.0040 | G_loss: 0.9818\n",
            "Saved results/samples_gan/sample-004000.png\n"
          ],
          "name": "stdout"
        },
        {
          "output_type": "stream",
          "text": [
            "WARNING:root:Lossy conversion from float32 to uint8. Range [-0.742891788482666, 0.9408361315727234]. Convert image to uint8 prior to saving to suppress this warning.\n"
          ],
          "name": "stderr"
        },
        {
          "output_type": "stream",
          "text": [
            "Iteration [4200/20000] | D_real_loss: 0.0133 | D_fake_loss: 0.0038 | G_loss: 0.9090\n",
            "Saved results/samples_gan/sample-004200.png\n"
          ],
          "name": "stdout"
        },
        {
          "output_type": "stream",
          "text": [
            "WARNING:root:Lossy conversion from float32 to uint8. Range [-0.8241759538650513, 0.9135764837265015]. Convert image to uint8 prior to saving to suppress this warning.\n"
          ],
          "name": "stderr"
        },
        {
          "output_type": "stream",
          "text": [
            "Iteration [4400/20000] | D_real_loss: 0.0159 | D_fake_loss: 0.0045 | G_loss: 0.7682\n",
            "Saved results/samples_gan/sample-004400.png\n"
          ],
          "name": "stdout"
        },
        {
          "output_type": "stream",
          "text": [
            "WARNING:root:Lossy conversion from float32 to uint8. Range [-0.7162168025970459, 0.8715330362319946]. Convert image to uint8 prior to saving to suppress this warning.\n"
          ],
          "name": "stderr"
        },
        {
          "output_type": "stream",
          "text": [
            "Iteration [4600/20000] | D_real_loss: 0.0049 | D_fake_loss: 0.0033 | G_loss: 0.8955\n",
            "Saved results/samples_gan/sample-004600.png\n"
          ],
          "name": "stdout"
        },
        {
          "output_type": "stream",
          "text": [
            "WARNING:root:Lossy conversion from float32 to uint8. Range [-0.7500066757202148, 0.8656653165817261]. Convert image to uint8 prior to saving to suppress this warning.\n"
          ],
          "name": "stderr"
        },
        {
          "output_type": "stream",
          "text": [
            "Iteration [4800/20000] | D_real_loss: 0.0165 | D_fake_loss: 0.0044 | G_loss: 0.8617\n",
            "Saved results/samples_gan/sample-004800.png\n"
          ],
          "name": "stdout"
        },
        {
          "output_type": "stream",
          "text": [
            "WARNING:root:Lossy conversion from float32 to uint8. Range [-0.8655916452407837, 0.8435205817222595]. Convert image to uint8 prior to saving to suppress this warning.\n"
          ],
          "name": "stderr"
        },
        {
          "output_type": "stream",
          "text": [
            "Iteration [5000/20000] | D_real_loss: 0.0079 | D_fake_loss: 0.0026 | G_loss: 1.0673\n",
            "Saved results/samples_gan/sample-005000.png\n"
          ],
          "name": "stdout"
        },
        {
          "output_type": "stream",
          "text": [
            "WARNING:root:Lossy conversion from float32 to uint8. Range [-0.7973346710205078, 0.8018842935562134]. Convert image to uint8 prior to saving to suppress this warning.\n"
          ],
          "name": "stderr"
        },
        {
          "output_type": "stream",
          "text": [
            "Iteration [5200/20000] | D_real_loss: 0.0196 | D_fake_loss: 0.0075 | G_loss: 0.8783\n",
            "Saved results/samples_gan/sample-005200.png\n"
          ],
          "name": "stdout"
        },
        {
          "output_type": "stream",
          "text": [
            "WARNING:root:Lossy conversion from float32 to uint8. Range [-0.7065943479537964, 0.9283305406570435]. Convert image to uint8 prior to saving to suppress this warning.\n"
          ],
          "name": "stderr"
        },
        {
          "output_type": "stream",
          "text": [
            "Iteration [5400/20000] | D_real_loss: 0.0031 | D_fake_loss: 0.0068 | G_loss: 0.6403\n",
            "Saved results/samples_gan/sample-005400.png\n"
          ],
          "name": "stdout"
        },
        {
          "output_type": "stream",
          "text": [
            "WARNING:root:Lossy conversion from float32 to uint8. Range [-0.8676252961158752, 0.8446619510650635]. Convert image to uint8 prior to saving to suppress this warning.\n"
          ],
          "name": "stderr"
        },
        {
          "output_type": "stream",
          "text": [
            "Iteration [5600/20000] | D_real_loss: 0.0041 | D_fake_loss: 0.0041 | G_loss: 1.0982\n",
            "Saved results/samples_gan/sample-005600.png\n"
          ],
          "name": "stdout"
        },
        {
          "output_type": "stream",
          "text": [
            "WARNING:root:Lossy conversion from float32 to uint8. Range [-0.8138135075569153, 0.8624231815338135]. Convert image to uint8 prior to saving to suppress this warning.\n"
          ],
          "name": "stderr"
        },
        {
          "output_type": "stream",
          "text": [
            "Iteration [5800/20000] | D_real_loss: 0.0036 | D_fake_loss: 0.0060 | G_loss: 0.9777\n",
            "Saved results/samples_gan/sample-005800.png\n"
          ],
          "name": "stdout"
        },
        {
          "output_type": "stream",
          "text": [
            "WARNING:root:Lossy conversion from float32 to uint8. Range [-0.7478200197219849, 0.8815099000930786]. Convert image to uint8 prior to saving to suppress this warning.\n"
          ],
          "name": "stderr"
        },
        {
          "output_type": "stream",
          "text": [
            "Iteration [6000/20000] | D_real_loss: 0.0392 | D_fake_loss: 0.0186 | G_loss: 0.8110\n",
            "Saved results/samples_gan/sample-006000.png\n"
          ],
          "name": "stdout"
        },
        {
          "output_type": "stream",
          "text": [
            "WARNING:root:Lossy conversion from float32 to uint8. Range [-0.8247764706611633, 0.9359799027442932]. Convert image to uint8 prior to saving to suppress this warning.\n"
          ],
          "name": "stderr"
        },
        {
          "output_type": "stream",
          "text": [
            "Iteration [6200/20000] | D_real_loss: 0.0022 | D_fake_loss: 0.0050 | G_loss: 0.8808\n",
            "Saved results/samples_gan/sample-006200.png\n"
          ],
          "name": "stdout"
        },
        {
          "output_type": "stream",
          "text": [
            "WARNING:root:Lossy conversion from float32 to uint8. Range [-0.870032548904419, 0.8171743154525757]. Convert image to uint8 prior to saving to suppress this warning.\n"
          ],
          "name": "stderr"
        },
        {
          "output_type": "stream",
          "text": [
            "Iteration [6400/20000] | D_real_loss: 0.0061 | D_fake_loss: 0.0035 | G_loss: 1.0089\n",
            "Saved results/samples_gan/sample-006400.png\n"
          ],
          "name": "stdout"
        },
        {
          "output_type": "stream",
          "text": [
            "WARNING:root:Lossy conversion from float32 to uint8. Range [-0.8602328896522522, 0.8797122836112976]. Convert image to uint8 prior to saving to suppress this warning.\n"
          ],
          "name": "stderr"
        },
        {
          "output_type": "stream",
          "text": [
            "Iteration [6600/20000] | D_real_loss: 0.0079 | D_fake_loss: 0.0035 | G_loss: 1.1010\n",
            "Saved results/samples_gan/sample-006600.png\n"
          ],
          "name": "stdout"
        },
        {
          "output_type": "stream",
          "text": [
            "WARNING:root:Lossy conversion from float32 to uint8. Range [-0.8740929961204529, 0.8372966051101685]. Convert image to uint8 prior to saving to suppress this warning.\n"
          ],
          "name": "stderr"
        },
        {
          "output_type": "stream",
          "text": [
            "Iteration [6800/20000] | D_real_loss: 0.0055 | D_fake_loss: 0.0038 | G_loss: 0.8909\n",
            "Saved results/samples_gan/sample-006800.png\n"
          ],
          "name": "stdout"
        },
        {
          "output_type": "stream",
          "text": [
            "WARNING:root:Lossy conversion from float32 to uint8. Range [-0.836230993270874, 0.8968825936317444]. Convert image to uint8 prior to saving to suppress this warning.\n"
          ],
          "name": "stderr"
        },
        {
          "output_type": "stream",
          "text": [
            "Iteration [7000/20000] | D_real_loss: 0.0462 | D_fake_loss: 0.0098 | G_loss: 1.7839\n",
            "Saved results/samples_gan/sample-007000.png\n"
          ],
          "name": "stdout"
        },
        {
          "output_type": "stream",
          "text": [
            "WARNING:root:Lossy conversion from float32 to uint8. Range [-0.7846100926399231, 0.915168046951294]. Convert image to uint8 prior to saving to suppress this warning.\n"
          ],
          "name": "stderr"
        },
        {
          "output_type": "stream",
          "text": [
            "Iteration [7200/20000] | D_real_loss: 0.0155 | D_fake_loss: 0.0128 | G_loss: 1.1683\n",
            "Saved results/samples_gan/sample-007200.png\n"
          ],
          "name": "stdout"
        },
        {
          "output_type": "stream",
          "text": [
            "WARNING:root:Lossy conversion from float32 to uint8. Range [-0.7714152336120605, 0.8906561136245728]. Convert image to uint8 prior to saving to suppress this warning.\n"
          ],
          "name": "stderr"
        },
        {
          "output_type": "stream",
          "text": [
            "Iteration [7400/20000] | D_real_loss: 0.0031 | D_fake_loss: 0.0031 | G_loss: 1.0373\n",
            "Saved results/samples_gan/sample-007400.png\n"
          ],
          "name": "stdout"
        },
        {
          "output_type": "stream",
          "text": [
            "WARNING:root:Lossy conversion from float32 to uint8. Range [-0.8552771210670471, 0.8886892199516296]. Convert image to uint8 prior to saving to suppress this warning.\n"
          ],
          "name": "stderr"
        },
        {
          "output_type": "stream",
          "text": [
            "Iteration [7600/20000] | D_real_loss: 0.0036 | D_fake_loss: 0.0022 | G_loss: 1.0973\n",
            "Saved results/samples_gan/sample-007600.png\n"
          ],
          "name": "stdout"
        },
        {
          "output_type": "stream",
          "text": [
            "WARNING:root:Lossy conversion from float32 to uint8. Range [-0.7643747925758362, 0.8298963904380798]. Convert image to uint8 prior to saving to suppress this warning.\n"
          ],
          "name": "stderr"
        },
        {
          "output_type": "stream",
          "text": [
            "Iteration [7800/20000] | D_real_loss: 0.0033 | D_fake_loss: 0.0015 | G_loss: 1.0015\n",
            "Saved results/samples_gan/sample-007800.png\n"
          ],
          "name": "stdout"
        },
        {
          "output_type": "stream",
          "text": [
            "WARNING:root:Lossy conversion from float32 to uint8. Range [-0.807161808013916, 0.9264964461326599]. Convert image to uint8 prior to saving to suppress this warning.\n"
          ],
          "name": "stderr"
        },
        {
          "output_type": "stream",
          "text": [
            "Iteration [8000/20000] | D_real_loss: 0.0032 | D_fake_loss: 0.0069 | G_loss: 1.1445\n",
            "Saved results/samples_gan/sample-008000.png\n"
          ],
          "name": "stdout"
        },
        {
          "output_type": "stream",
          "text": [
            "WARNING:root:Lossy conversion from float32 to uint8. Range [-0.7705413103103638, 0.9748601317405701]. Convert image to uint8 prior to saving to suppress this warning.\n"
          ],
          "name": "stderr"
        },
        {
          "output_type": "stream",
          "text": [
            "Iteration [8200/20000] | D_real_loss: 0.0045 | D_fake_loss: 0.0032 | G_loss: 1.1092\n",
            "Saved results/samples_gan/sample-008200.png\n"
          ],
          "name": "stdout"
        },
        {
          "output_type": "stream",
          "text": [
            "WARNING:root:Lossy conversion from float32 to uint8. Range [-0.9153762459754944, 0.9740222692489624]. Convert image to uint8 prior to saving to suppress this warning.\n"
          ],
          "name": "stderr"
        },
        {
          "output_type": "stream",
          "text": [
            "Iteration [8400/20000] | D_real_loss: 0.0035 | D_fake_loss: 0.0021 | G_loss: 0.9507\n",
            "Saved results/samples_gan/sample-008400.png\n"
          ],
          "name": "stdout"
        },
        {
          "output_type": "stream",
          "text": [
            "WARNING:root:Lossy conversion from float32 to uint8. Range [-0.7571395635604858, 0.8883495330810547]. Convert image to uint8 prior to saving to suppress this warning.\n"
          ],
          "name": "stderr"
        },
        {
          "output_type": "stream",
          "text": [
            "Iteration [8600/20000] | D_real_loss: 0.0066 | D_fake_loss: 0.0023 | G_loss: 0.9129\n",
            "Saved results/samples_gan/sample-008600.png\n"
          ],
          "name": "stdout"
        },
        {
          "output_type": "stream",
          "text": [
            "WARNING:root:Lossy conversion from float32 to uint8. Range [-0.9529290795326233, 0.973537802696228]. Convert image to uint8 prior to saving to suppress this warning.\n"
          ],
          "name": "stderr"
        },
        {
          "output_type": "stream",
          "text": [
            "Iteration [8800/20000] | D_real_loss: 0.0036 | D_fake_loss: 0.0022 | G_loss: 1.1109\n",
            "Saved results/samples_gan/sample-008800.png\n"
          ],
          "name": "stdout"
        },
        {
          "output_type": "stream",
          "text": [
            "WARNING:root:Lossy conversion from float32 to uint8. Range [-0.8300595879554749, 0.9410622715950012]. Convert image to uint8 prior to saving to suppress this warning.\n"
          ],
          "name": "stderr"
        },
        {
          "output_type": "stream",
          "text": [
            "Iteration [9000/20000] | D_real_loss: 0.0076 | D_fake_loss: 0.0067 | G_loss: 1.0669\n",
            "Saved results/samples_gan/sample-009000.png\n"
          ],
          "name": "stdout"
        },
        {
          "output_type": "stream",
          "text": [
            "WARNING:root:Lossy conversion from float32 to uint8. Range [-0.7825150489807129, 0.8969937562942505]. Convert image to uint8 prior to saving to suppress this warning.\n"
          ],
          "name": "stderr"
        },
        {
          "output_type": "stream",
          "text": [
            "Iteration [9200/20000] | D_real_loss: 0.0025 | D_fake_loss: 0.0056 | G_loss: 1.0840\n",
            "Saved results/samples_gan/sample-009200.png\n"
          ],
          "name": "stdout"
        },
        {
          "output_type": "stream",
          "text": [
            "WARNING:root:Lossy conversion from float32 to uint8. Range [-0.7676771879196167, 0.847243070602417]. Convert image to uint8 prior to saving to suppress this warning.\n"
          ],
          "name": "stderr"
        },
        {
          "output_type": "stream",
          "text": [
            "Iteration [9400/20000] | D_real_loss: 0.0079 | D_fake_loss: 0.0025 | G_loss: 1.1157\n",
            "Saved results/samples_gan/sample-009400.png\n"
          ],
          "name": "stdout"
        },
        {
          "output_type": "stream",
          "text": [
            "WARNING:root:Lossy conversion from float32 to uint8. Range [-0.7436027526855469, 0.8748449087142944]. Convert image to uint8 prior to saving to suppress this warning.\n"
          ],
          "name": "stderr"
        },
        {
          "output_type": "stream",
          "text": [
            "Iteration [9600/20000] | D_real_loss: 0.0059 | D_fake_loss: 0.0022 | G_loss: 0.8723\n",
            "Saved results/samples_gan/sample-009600.png\n"
          ],
          "name": "stdout"
        },
        {
          "output_type": "stream",
          "text": [
            "WARNING:root:Lossy conversion from float32 to uint8. Range [-0.719110369682312, 0.8574785590171814]. Convert image to uint8 prior to saving to suppress this warning.\n"
          ],
          "name": "stderr"
        },
        {
          "output_type": "stream",
          "text": [
            "Iteration [9800/20000] | D_real_loss: 0.0036 | D_fake_loss: 0.0025 | G_loss: 0.8001\n",
            "Saved results/samples_gan/sample-009800.png\n"
          ],
          "name": "stdout"
        },
        {
          "output_type": "stream",
          "text": [
            "WARNING:root:Lossy conversion from float32 to uint8. Range [-0.7816563248634338, 0.8180915713310242]. Convert image to uint8 prior to saving to suppress this warning.\n"
          ],
          "name": "stderr"
        },
        {
          "output_type": "stream",
          "text": [
            "Iteration [10000/20000] | D_real_loss: 0.0063 | D_fake_loss: 0.0134 | G_loss: 1.2070\n",
            "Saved results/samples_gan/sample-010000.png\n"
          ],
          "name": "stdout"
        },
        {
          "output_type": "stream",
          "text": [
            "WARNING:root:Lossy conversion from float32 to uint8. Range [-0.7400130033493042, 0.9316087961196899]. Convert image to uint8 prior to saving to suppress this warning.\n"
          ],
          "name": "stderr"
        },
        {
          "output_type": "stream",
          "text": [
            "Iteration [10200/20000] | D_real_loss: 0.0042 | D_fake_loss: 0.0011 | G_loss: 0.9994\n",
            "Saved results/samples_gan/sample-010200.png\n"
          ],
          "name": "stdout"
        },
        {
          "output_type": "stream",
          "text": [
            "WARNING:root:Lossy conversion from float32 to uint8. Range [-0.6955505609512329, 0.7667823433876038]. Convert image to uint8 prior to saving to suppress this warning.\n"
          ],
          "name": "stderr"
        },
        {
          "output_type": "stream",
          "text": [
            "Iteration [10400/20000] | D_real_loss: 0.0180 | D_fake_loss: 0.0060 | G_loss: 0.9338\n",
            "Saved results/samples_gan/sample-010400.png\n"
          ],
          "name": "stdout"
        },
        {
          "output_type": "stream",
          "text": [
            "WARNING:root:Lossy conversion from float32 to uint8. Range [-0.6791739463806152, 0.8480647802352905]. Convert image to uint8 prior to saving to suppress this warning.\n"
          ],
          "name": "stderr"
        },
        {
          "output_type": "stream",
          "text": [
            "Iteration [10600/20000] | D_real_loss: 0.0041 | D_fake_loss: 0.0039 | G_loss: 1.1202\n",
            "Saved results/samples_gan/sample-010600.png\n"
          ],
          "name": "stdout"
        },
        {
          "output_type": "stream",
          "text": [
            "WARNING:root:Lossy conversion from float32 to uint8. Range [-0.6516018509864807, 0.8688649535179138]. Convert image to uint8 prior to saving to suppress this warning.\n"
          ],
          "name": "stderr"
        },
        {
          "output_type": "stream",
          "text": [
            "Iteration [10800/20000] | D_real_loss: 0.0021 | D_fake_loss: 0.0093 | G_loss: 0.9044\n",
            "Saved results/samples_gan/sample-010800.png\n"
          ],
          "name": "stdout"
        },
        {
          "output_type": "stream",
          "text": [
            "WARNING:root:Lossy conversion from float32 to uint8. Range [-0.8139073252677917, 0.8309369087219238]. Convert image to uint8 prior to saving to suppress this warning.\n"
          ],
          "name": "stderr"
        },
        {
          "output_type": "stream",
          "text": [
            "Iteration [11000/20000] | D_real_loss: 0.0020 | D_fake_loss: 0.0047 | G_loss: 1.0168\n",
            "Saved results/samples_gan/sample-011000.png\n"
          ],
          "name": "stdout"
        },
        {
          "output_type": "stream",
          "text": [
            "WARNING:root:Lossy conversion from float32 to uint8. Range [-0.7571011781692505, 0.8453620672225952]. Convert image to uint8 prior to saving to suppress this warning.\n"
          ],
          "name": "stderr"
        },
        {
          "output_type": "stream",
          "text": [
            "Iteration [11200/20000] | D_real_loss: 0.0029 | D_fake_loss: 0.0039 | G_loss: 1.1818\n",
            "Saved results/samples_gan/sample-011200.png\n"
          ],
          "name": "stdout"
        },
        {
          "output_type": "stream",
          "text": [
            "WARNING:root:Lossy conversion from float32 to uint8. Range [-0.9075441360473633, 0.897752046585083]. Convert image to uint8 prior to saving to suppress this warning.\n"
          ],
          "name": "stderr"
        },
        {
          "output_type": "stream",
          "text": [
            "Iteration [11400/20000] | D_real_loss: 0.0042 | D_fake_loss: 0.0015 | G_loss: 0.9803\n",
            "Saved results/samples_gan/sample-011400.png\n"
          ],
          "name": "stdout"
        },
        {
          "output_type": "stream",
          "text": [
            "WARNING:root:Lossy conversion from float32 to uint8. Range [-0.8238288164138794, 0.9822200536727905]. Convert image to uint8 prior to saving to suppress this warning.\n"
          ],
          "name": "stderr"
        },
        {
          "output_type": "stream",
          "text": [
            "Iteration [11600/20000] | D_real_loss: 0.0042 | D_fake_loss: 0.0061 | G_loss: 1.2631\n",
            "Saved results/samples_gan/sample-011600.png\n"
          ],
          "name": "stdout"
        },
        {
          "output_type": "stream",
          "text": [
            "WARNING:root:Lossy conversion from float32 to uint8. Range [-0.8087189793586731, 0.8538991212844849]. Convert image to uint8 prior to saving to suppress this warning.\n"
          ],
          "name": "stderr"
        },
        {
          "output_type": "stream",
          "text": [
            "Iteration [11800/20000] | D_real_loss: 0.0041 | D_fake_loss: 0.0026 | G_loss: 1.2180\n",
            "Saved results/samples_gan/sample-011800.png\n"
          ],
          "name": "stdout"
        },
        {
          "output_type": "stream",
          "text": [
            "WARNING:root:Lossy conversion from float32 to uint8. Range [-0.8263062834739685, 0.8643285632133484]. Convert image to uint8 prior to saving to suppress this warning.\n"
          ],
          "name": "stderr"
        },
        {
          "output_type": "stream",
          "text": [
            "Iteration [12000/20000] | D_real_loss: 0.0015 | D_fake_loss: 0.0013 | G_loss: 1.0106\n",
            "Saved results/samples_gan/sample-012000.png\n"
          ],
          "name": "stdout"
        },
        {
          "output_type": "stream",
          "text": [
            "WARNING:root:Lossy conversion from float32 to uint8. Range [-0.8596851229667664, 0.8415131568908691]. Convert image to uint8 prior to saving to suppress this warning.\n"
          ],
          "name": "stderr"
        },
        {
          "output_type": "stream",
          "text": [
            "Iteration [12200/20000] | D_real_loss: 0.0032 | D_fake_loss: 0.0036 | G_loss: 1.1507\n",
            "Saved results/samples_gan/sample-012200.png\n"
          ],
          "name": "stdout"
        },
        {
          "output_type": "stream",
          "text": [
            "WARNING:root:Lossy conversion from float32 to uint8. Range [-0.7944836616516113, 0.9356043934822083]. Convert image to uint8 prior to saving to suppress this warning.\n"
          ],
          "name": "stderr"
        },
        {
          "output_type": "stream",
          "text": [
            "Iteration [12400/20000] | D_real_loss: 0.0016 | D_fake_loss: 0.0014 | G_loss: 0.9323\n",
            "Saved results/samples_gan/sample-012400.png\n"
          ],
          "name": "stdout"
        },
        {
          "output_type": "stream",
          "text": [
            "WARNING:root:Lossy conversion from float32 to uint8. Range [-0.8499116897583008, 0.7780725359916687]. Convert image to uint8 prior to saving to suppress this warning.\n"
          ],
          "name": "stderr"
        },
        {
          "output_type": "stream",
          "text": [
            "Iteration [12600/20000] | D_real_loss: 0.0020 | D_fake_loss: 0.0021 | G_loss: 0.9544\n",
            "Saved results/samples_gan/sample-012600.png\n"
          ],
          "name": "stdout"
        },
        {
          "output_type": "stream",
          "text": [
            "WARNING:root:Lossy conversion from float32 to uint8. Range [-0.7561830282211304, 0.8442126512527466]. Convert image to uint8 prior to saving to suppress this warning.\n"
          ],
          "name": "stderr"
        },
        {
          "output_type": "stream",
          "text": [
            "Iteration [12800/20000] | D_real_loss: 0.0116 | D_fake_loss: 0.0018 | G_loss: 0.8166\n",
            "Saved results/samples_gan/sample-012800.png\n"
          ],
          "name": "stdout"
        },
        {
          "output_type": "stream",
          "text": [
            "WARNING:root:Lossy conversion from float32 to uint8. Range [-0.7130669355392456, 0.9296574592590332]. Convert image to uint8 prior to saving to suppress this warning.\n"
          ],
          "name": "stderr"
        },
        {
          "output_type": "stream",
          "text": [
            "Iteration [13000/20000] | D_real_loss: 0.0038 | D_fake_loss: 0.0028 | G_loss: 1.0197\n",
            "Saved results/samples_gan/sample-013000.png\n"
          ],
          "name": "stdout"
        },
        {
          "output_type": "stream",
          "text": [
            "WARNING:root:Lossy conversion from float32 to uint8. Range [-0.8404499888420105, 0.8935195803642273]. Convert image to uint8 prior to saving to suppress this warning.\n"
          ],
          "name": "stderr"
        },
        {
          "output_type": "stream",
          "text": [
            "Iteration [13200/20000] | D_real_loss: 0.0023 | D_fake_loss: 0.0052 | G_loss: 1.1417\n",
            "Saved results/samples_gan/sample-013200.png\n"
          ],
          "name": "stdout"
        },
        {
          "output_type": "stream",
          "text": [
            "WARNING:root:Lossy conversion from float32 to uint8. Range [-0.8508462905883789, 0.9565083384513855]. Convert image to uint8 prior to saving to suppress this warning.\n"
          ],
          "name": "stderr"
        },
        {
          "output_type": "stream",
          "text": [
            "Iteration [13400/20000] | D_real_loss: 0.0018 | D_fake_loss: 0.0015 | G_loss: 1.0311\n",
            "Saved results/samples_gan/sample-013400.png\n"
          ],
          "name": "stdout"
        },
        {
          "output_type": "stream",
          "text": [
            "WARNING:root:Lossy conversion from float32 to uint8. Range [-0.8481513261795044, 0.9305635094642639]. Convert image to uint8 prior to saving to suppress this warning.\n"
          ],
          "name": "stderr"
        },
        {
          "output_type": "stream",
          "text": [
            "Iteration [13600/20000] | D_real_loss: 0.0026 | D_fake_loss: 0.0014 | G_loss: 0.9883\n",
            "Saved results/samples_gan/sample-013600.png\n"
          ],
          "name": "stdout"
        },
        {
          "output_type": "stream",
          "text": [
            "WARNING:root:Lossy conversion from float32 to uint8. Range [-0.8346914649009705, 0.9720055460929871]. Convert image to uint8 prior to saving to suppress this warning.\n"
          ],
          "name": "stderr"
        },
        {
          "output_type": "stream",
          "text": [
            "Iteration [13800/20000] | D_real_loss: 0.0018 | D_fake_loss: 0.0018 | G_loss: 0.9738\n",
            "Saved results/samples_gan/sample-013800.png\n"
          ],
          "name": "stdout"
        },
        {
          "output_type": "stream",
          "text": [
            "WARNING:root:Lossy conversion from float32 to uint8. Range [-0.8881427645683289, 0.93732088804245]. Convert image to uint8 prior to saving to suppress this warning.\n"
          ],
          "name": "stderr"
        },
        {
          "output_type": "stream",
          "text": [
            "Iteration [14000/20000] | D_real_loss: 0.0022 | D_fake_loss: 0.0038 | G_loss: 1.0393\n",
            "Saved results/samples_gan/sample-014000.png\n"
          ],
          "name": "stdout"
        },
        {
          "output_type": "stream",
          "text": [
            "WARNING:root:Lossy conversion from float32 to uint8. Range [-0.919212818145752, 0.9957621693611145]. Convert image to uint8 prior to saving to suppress this warning.\n"
          ],
          "name": "stderr"
        },
        {
          "output_type": "stream",
          "text": [
            "Iteration [14200/20000] | D_real_loss: 0.0083 | D_fake_loss: 0.0190 | G_loss: 1.2211\n",
            "Saved results/samples_gan/sample-014200.png\n"
          ],
          "name": "stdout"
        },
        {
          "output_type": "stream",
          "text": [
            "WARNING:root:Lossy conversion from float32 to uint8. Range [-0.9414161443710327, 0.9901156425476074]. Convert image to uint8 prior to saving to suppress this warning.\n"
          ],
          "name": "stderr"
        },
        {
          "output_type": "stream",
          "text": [
            "Iteration [14400/20000] | D_real_loss: 0.0065 | D_fake_loss: 0.0011 | G_loss: 1.0369\n",
            "Saved results/samples_gan/sample-014400.png\n"
          ],
          "name": "stdout"
        },
        {
          "output_type": "stream",
          "text": [
            "WARNING:root:Lossy conversion from float32 to uint8. Range [-0.9976068139076233, 0.9913118481636047]. Convert image to uint8 prior to saving to suppress this warning.\n"
          ],
          "name": "stderr"
        },
        {
          "output_type": "stream",
          "text": [
            "Iteration [14600/20000] | D_real_loss: 0.0038 | D_fake_loss: 0.0004 | G_loss: 1.0867\n",
            "Saved results/samples_gan/sample-014600.png\n"
          ],
          "name": "stdout"
        },
        {
          "output_type": "stream",
          "text": [
            "WARNING:root:Lossy conversion from float32 to uint8. Range [-0.934447705745697, 0.9982892870903015]. Convert image to uint8 prior to saving to suppress this warning.\n"
          ],
          "name": "stderr"
        },
        {
          "output_type": "stream",
          "text": [
            "Iteration [14800/20000] | D_real_loss: 0.0060 | D_fake_loss: 0.0020 | G_loss: 1.1012\n",
            "Saved results/samples_gan/sample-014800.png\n"
          ],
          "name": "stdout"
        },
        {
          "output_type": "stream",
          "text": [
            "WARNING:root:Lossy conversion from float32 to uint8. Range [-0.994141161441803, 0.9998846054077148]. Convert image to uint8 prior to saving to suppress this warning.\n"
          ],
          "name": "stderr"
        },
        {
          "output_type": "stream",
          "text": [
            "Iteration [15000/20000] | D_real_loss: 0.0070 | D_fake_loss: 0.0028 | G_loss: 1.0453\n",
            "Saved results/samples_gan/sample-015000.png\n"
          ],
          "name": "stdout"
        },
        {
          "output_type": "stream",
          "text": [
            "WARNING:root:Lossy conversion from float32 to uint8. Range [-0.9736639857292175, 0.9858054518699646]. Convert image to uint8 prior to saving to suppress this warning.\n"
          ],
          "name": "stderr"
        },
        {
          "output_type": "stream",
          "text": [
            "Iteration [15200/20000] | D_real_loss: 0.0015 | D_fake_loss: 0.0125 | G_loss: 1.4563\n",
            "Saved results/samples_gan/sample-015200.png\n"
          ],
          "name": "stdout"
        },
        {
          "output_type": "stream",
          "text": [
            "WARNING:root:Lossy conversion from float32 to uint8. Range [-0.9552260637283325, 0.9531193375587463]. Convert image to uint8 prior to saving to suppress this warning.\n"
          ],
          "name": "stderr"
        },
        {
          "output_type": "stream",
          "text": [
            "Iteration [15400/20000] | D_real_loss: 0.0033 | D_fake_loss: 0.0007 | G_loss: 0.9567\n",
            "Saved results/samples_gan/sample-015400.png\n"
          ],
          "name": "stdout"
        },
        {
          "output_type": "stream",
          "text": [
            "WARNING:root:Lossy conversion from float32 to uint8. Range [-0.9649002552032471, 0.9823825359344482]. Convert image to uint8 prior to saving to suppress this warning.\n"
          ],
          "name": "stderr"
        },
        {
          "output_type": "stream",
          "text": [
            "Iteration [15600/20000] | D_real_loss: 0.0024 | D_fake_loss: 0.0013 | G_loss: 1.0044\n",
            "Saved results/samples_gan/sample-015600.png\n"
          ],
          "name": "stdout"
        },
        {
          "output_type": "stream",
          "text": [
            "WARNING:root:Lossy conversion from float32 to uint8. Range [-0.9969925880432129, 0.9996073842048645]. Convert image to uint8 prior to saving to suppress this warning.\n"
          ],
          "name": "stderr"
        },
        {
          "output_type": "stream",
          "text": [
            "Iteration [15800/20000] | D_real_loss: 0.0061 | D_fake_loss: 0.0008 | G_loss: 0.8807\n",
            "Saved results/samples_gan/sample-015800.png\n"
          ],
          "name": "stdout"
        },
        {
          "output_type": "stream",
          "text": [
            "WARNING:root:Lossy conversion from float32 to uint8. Range [-0.9842379689216614, 0.9965527653694153]. Convert image to uint8 prior to saving to suppress this warning.\n"
          ],
          "name": "stderr"
        },
        {
          "output_type": "stream",
          "text": [
            "Iteration [16000/20000] | D_real_loss: 0.0023 | D_fake_loss: 0.0005 | G_loss: 1.1620\n",
            "Saved results/samples_gan/sample-016000.png\n"
          ],
          "name": "stdout"
        },
        {
          "output_type": "stream",
          "text": [
            "WARNING:root:Lossy conversion from float32 to uint8. Range [-0.9347365498542786, 0.998155951499939]. Convert image to uint8 prior to saving to suppress this warning.\n"
          ],
          "name": "stderr"
        },
        {
          "output_type": "stream",
          "text": [
            "Iteration [16200/20000] | D_real_loss: 0.0010 | D_fake_loss: 0.0007 | G_loss: 1.1204\n",
            "Saved results/samples_gan/sample-016200.png\n"
          ],
          "name": "stdout"
        },
        {
          "output_type": "stream",
          "text": [
            "WARNING:root:Lossy conversion from float32 to uint8. Range [-0.9847906231880188, 0.9999909400939941]. Convert image to uint8 prior to saving to suppress this warning.\n"
          ],
          "name": "stderr"
        },
        {
          "output_type": "stream",
          "text": [
            "Iteration [16400/20000] | D_real_loss: 0.0018 | D_fake_loss: 0.0008 | G_loss: 1.1480\n",
            "Saved results/samples_gan/sample-016400.png\n"
          ],
          "name": "stdout"
        },
        {
          "output_type": "stream",
          "text": [
            "WARNING:root:Lossy conversion from float32 to uint8. Range [-0.9986643195152283, 0.9999997019767761]. Convert image to uint8 prior to saving to suppress this warning.\n"
          ],
          "name": "stderr"
        },
        {
          "output_type": "stream",
          "text": [
            "Iteration [16600/20000] | D_real_loss: 0.0014 | D_fake_loss: 0.0005 | G_loss: 0.9561\n",
            "Saved results/samples_gan/sample-016600.png\n"
          ],
          "name": "stdout"
        },
        {
          "output_type": "stream",
          "text": [
            "WARNING:root:Lossy conversion from float32 to uint8. Range [-0.9788771867752075, 0.9997348785400391]. Convert image to uint8 prior to saving to suppress this warning.\n"
          ],
          "name": "stderr"
        },
        {
          "output_type": "stream",
          "text": [
            "Iteration [16800/20000] | D_real_loss: 0.0016 | D_fake_loss: 0.0012 | G_loss: 0.9877\n",
            "Saved results/samples_gan/sample-016800.png\n"
          ],
          "name": "stdout"
        },
        {
          "output_type": "stream",
          "text": [
            "WARNING:root:Lossy conversion from float32 to uint8. Range [-0.9922441840171814, 0.9999647736549377]. Convert image to uint8 prior to saving to suppress this warning.\n"
          ],
          "name": "stderr"
        },
        {
          "output_type": "stream",
          "text": [
            "Iteration [17000/20000] | D_real_loss: 0.0014 | D_fake_loss: 0.0012 | G_loss: 0.9058\n",
            "Saved results/samples_gan/sample-017000.png\n"
          ],
          "name": "stdout"
        },
        {
          "output_type": "stream",
          "text": [
            "WARNING:root:Lossy conversion from float32 to uint8. Range [-0.994583785533905, 0.999948263168335]. Convert image to uint8 prior to saving to suppress this warning.\n"
          ],
          "name": "stderr"
        },
        {
          "output_type": "stream",
          "text": [
            "Iteration [17200/20000] | D_real_loss: 0.0019 | D_fake_loss: 0.0043 | G_loss: 1.1113\n",
            "Saved results/samples_gan/sample-017200.png\n"
          ],
          "name": "stdout"
        },
        {
          "output_type": "stream",
          "text": [
            "WARNING:root:Lossy conversion from float32 to uint8. Range [-0.945382833480835, 0.9943569898605347]. Convert image to uint8 prior to saving to suppress this warning.\n"
          ],
          "name": "stderr"
        },
        {
          "output_type": "stream",
          "text": [
            "Iteration [17400/20000] | D_real_loss: 0.0075 | D_fake_loss: 0.0029 | G_loss: 1.1597\n",
            "Saved results/samples_gan/sample-017400.png\n"
          ],
          "name": "stdout"
        },
        {
          "output_type": "stream",
          "text": [
            "WARNING:root:Lossy conversion from float32 to uint8. Range [-0.9558993577957153, 0.9953845143318176]. Convert image to uint8 prior to saving to suppress this warning.\n"
          ],
          "name": "stderr"
        },
        {
          "output_type": "stream",
          "text": [
            "Iteration [17600/20000] | D_real_loss: 0.0014 | D_fake_loss: 0.0005 | G_loss: 0.9024\n",
            "Saved results/samples_gan/sample-017600.png\n"
          ],
          "name": "stdout"
        },
        {
          "output_type": "stream",
          "text": [
            "WARNING:root:Lossy conversion from float32 to uint8. Range [-0.9781922101974487, 0.9998353123664856]. Convert image to uint8 prior to saving to suppress this warning.\n"
          ],
          "name": "stderr"
        },
        {
          "output_type": "stream",
          "text": [
            "Iteration [17800/20000] | D_real_loss: 0.0049 | D_fake_loss: 0.0025 | G_loss: 0.8611\n",
            "Saved results/samples_gan/sample-017800.png\n"
          ],
          "name": "stdout"
        },
        {
          "output_type": "stream",
          "text": [
            "WARNING:root:Lossy conversion from float32 to uint8. Range [-0.9887003898620605, 0.9979304671287537]. Convert image to uint8 prior to saving to suppress this warning.\n"
          ],
          "name": "stderr"
        },
        {
          "output_type": "stream",
          "text": [
            "Iteration [18000/20000] | D_real_loss: 0.0009 | D_fake_loss: 0.0023 | G_loss: 0.9938\n",
            "Saved results/samples_gan/sample-018000.png\n"
          ],
          "name": "stdout"
        },
        {
          "output_type": "stream",
          "text": [
            "WARNING:root:Lossy conversion from float32 to uint8. Range [-0.9977513551712036, 0.9998803734779358]. Convert image to uint8 prior to saving to suppress this warning.\n"
          ],
          "name": "stderr"
        },
        {
          "output_type": "stream",
          "text": [
            "Iteration [18200/20000] | D_real_loss: 0.0011 | D_fake_loss: 0.0015 | G_loss: 1.1184\n",
            "Saved results/samples_gan/sample-018200.png\n"
          ],
          "name": "stdout"
        },
        {
          "output_type": "stream",
          "text": [
            "WARNING:root:Lossy conversion from float32 to uint8. Range [-0.9937105774879456, 0.9946444034576416]. Convert image to uint8 prior to saving to suppress this warning.\n"
          ],
          "name": "stderr"
        },
        {
          "output_type": "stream",
          "text": [
            "Iteration [18400/20000] | D_real_loss: 0.0020 | D_fake_loss: 0.0004 | G_loss: 0.9576\n",
            "Saved results/samples_gan/sample-018400.png\n"
          ],
          "name": "stdout"
        },
        {
          "output_type": "stream",
          "text": [
            "WARNING:root:Lossy conversion from float32 to uint8. Range [-0.9990226626396179, 0.9995348453521729]. Convert image to uint8 prior to saving to suppress this warning.\n"
          ],
          "name": "stderr"
        },
        {
          "output_type": "stream",
          "text": [
            "Iteration [18600/20000] | D_real_loss: 0.0009 | D_fake_loss: 0.0005 | G_loss: 1.1860\n",
            "Saved results/samples_gan/sample-018600.png\n"
          ],
          "name": "stdout"
        },
        {
          "output_type": "stream",
          "text": [
            "WARNING:root:Lossy conversion from float32 to uint8. Range [-0.9976714849472046, 0.9925193786621094]. Convert image to uint8 prior to saving to suppress this warning.\n"
          ],
          "name": "stderr"
        },
        {
          "output_type": "stream",
          "text": [
            "Iteration [18800/20000] | D_real_loss: 0.0025 | D_fake_loss: 0.0008 | G_loss: 1.0605\n",
            "Saved results/samples_gan/sample-018800.png\n"
          ],
          "name": "stdout"
        },
        {
          "output_type": "stream",
          "text": [
            "WARNING:root:Lossy conversion from float32 to uint8. Range [-0.9832197427749634, 0.9968520402908325]. Convert image to uint8 prior to saving to suppress this warning.\n"
          ],
          "name": "stderr"
        },
        {
          "output_type": "stream",
          "text": [
            "Iteration [19000/20000] | D_real_loss: 0.0097 | D_fake_loss: 0.0037 | G_loss: 1.2649\n",
            "Saved results/samples_gan/sample-019000.png\n"
          ],
          "name": "stdout"
        },
        {
          "output_type": "stream",
          "text": [
            "WARNING:root:Lossy conversion from float32 to uint8. Range [-0.9724271297454834, 0.9975284337997437]. Convert image to uint8 prior to saving to suppress this warning.\n"
          ],
          "name": "stderr"
        },
        {
          "output_type": "stream",
          "text": [
            "Iteration [19200/20000] | D_real_loss: 0.0018 | D_fake_loss: 0.0004 | G_loss: 0.9607\n",
            "Saved results/samples_gan/sample-019200.png\n"
          ],
          "name": "stdout"
        },
        {
          "output_type": "stream",
          "text": [
            "WARNING:root:Lossy conversion from float32 to uint8. Range [-0.972798228263855, 0.9938529133796692]. Convert image to uint8 prior to saving to suppress this warning.\n"
          ],
          "name": "stderr"
        },
        {
          "output_type": "stream",
          "text": [
            "Iteration [19400/20000] | D_real_loss: 0.0013 | D_fake_loss: 0.0005 | G_loss: 0.9516\n",
            "Saved results/samples_gan/sample-019400.png\n"
          ],
          "name": "stdout"
        },
        {
          "output_type": "stream",
          "text": [
            "WARNING:root:Lossy conversion from float32 to uint8. Range [-0.9763974547386169, 0.999030590057373]. Convert image to uint8 prior to saving to suppress this warning.\n"
          ],
          "name": "stderr"
        },
        {
          "output_type": "stream",
          "text": [
            "Iteration [19600/20000] | D_real_loss: 0.0054 | D_fake_loss: 0.0033 | G_loss: 1.1376\n",
            "Saved results/samples_gan/sample-019600.png\n"
          ],
          "name": "stdout"
        },
        {
          "output_type": "stream",
          "text": [
            "WARNING:root:Lossy conversion from float32 to uint8. Range [-0.9870307445526123, 0.9871765375137329]. Convert image to uint8 prior to saving to suppress this warning.\n"
          ],
          "name": "stderr"
        },
        {
          "output_type": "stream",
          "text": [
            "Iteration [19800/20000] | D_real_loss: 0.0015 | D_fake_loss: 0.0018 | G_loss: 0.9960\n",
            "Saved results/samples_gan/sample-019800.png\n"
          ],
          "name": "stdout"
        },
        {
          "output_type": "stream",
          "text": [
            "WARNING:root:Lossy conversion from float32 to uint8. Range [-0.9646573662757874, 0.9935575127601624]. Convert image to uint8 prior to saving to suppress this warning.\n"
          ],
          "name": "stderr"
        },
        {
          "output_type": "stream",
          "text": [
            "Iteration [20000/20000] | D_real_loss: 0.0014 | D_fake_loss: 0.0015 | G_loss: 1.1446\n",
            "Saved results/samples_gan/sample-020000.png\n",
            "adding image results/samples_gan/losses.png\n",
            "adding image results/samples_gan/sample-000200.png\n",
            "adding image results/samples_gan/sample-000400.png\n",
            "adding image results/samples_gan/sample-000600.png\n",
            "adding image results/samples_gan/sample-000800.png\n",
            "adding image results/samples_gan/sample-001000.png\n",
            "adding image results/samples_gan/sample-001200.png\n",
            "adding image results/samples_gan/sample-001400.png\n",
            "adding image results/samples_gan/sample-001600.png\n",
            "adding image results/samples_gan/sample-001800.png\n",
            "adding image results/samples_gan/sample-002000.png\n",
            "adding image results/samples_gan/sample-002200.png\n",
            "adding image results/samples_gan/sample-002400.png\n",
            "adding image results/samples_gan/sample-002600.png\n",
            "adding image results/samples_gan/sample-002800.png\n",
            "adding image results/samples_gan/sample-003000.png\n",
            "adding image results/samples_gan/sample-003200.png\n",
            "adding image results/samples_gan/sample-003400.png\n",
            "adding image results/samples_gan/sample-003600.png\n",
            "adding image results/samples_gan/sample-003800.png\n",
            "adding image results/samples_gan/sample-004000.png\n",
            "adding image results/samples_gan/sample-004200.png\n",
            "adding image results/samples_gan/sample-004400.png\n",
            "adding image results/samples_gan/sample-004600.png\n",
            "adding image results/samples_gan/sample-004800.png\n",
            "adding image results/samples_gan/sample-005000.png\n",
            "adding image results/samples_gan/sample-005200.png\n",
            "adding image results/samples_gan/sample-005400.png\n",
            "adding image results/samples_gan/sample-005600.png\n",
            "adding image results/samples_gan/sample-005800.png\n",
            "adding image results/samples_gan/sample-006000.png\n",
            "adding image results/samples_gan/sample-006200.png\n",
            "adding image results/samples_gan/sample-006400.png\n",
            "adding image results/samples_gan/sample-006600.png\n",
            "adding image results/samples_gan/sample-006800.png\n",
            "adding image results/samples_gan/sample-007000.png\n",
            "adding image results/samples_gan/sample-007200.png\n",
            "adding image results/samples_gan/sample-007400.png\n",
            "adding image results/samples_gan/sample-007600.png\n",
            "adding image results/samples_gan/sample-007800.png\n",
            "adding image results/samples_gan/sample-008000.png\n",
            "adding image results/samples_gan/sample-008200.png\n",
            "adding image results/samples_gan/sample-008400.png\n",
            "adding image results/samples_gan/sample-008600.png\n",
            "adding image results/samples_gan/sample-008800.png\n",
            "adding image results/samples_gan/sample-009000.png\n",
            "adding image results/samples_gan/sample-009200.png\n",
            "adding image results/samples_gan/sample-009400.png\n",
            "adding image results/samples_gan/sample-009600.png\n",
            "adding image results/samples_gan/sample-009800.png\n",
            "adding image results/samples_gan/sample-010000.png\n",
            "adding image results/samples_gan/sample-010200.png\n",
            "adding image results/samples_gan/sample-010400.png\n",
            "adding image results/samples_gan/sample-010600.png\n",
            "adding image results/samples_gan/sample-010800.png\n",
            "adding image results/samples_gan/sample-011000.png\n",
            "adding image results/samples_gan/sample-011200.png\n",
            "adding image results/samples_gan/sample-011400.png\n",
            "adding image results/samples_gan/sample-011600.png\n",
            "adding image results/samples_gan/sample-011800.png\n",
            "adding image results/samples_gan/sample-012000.png\n",
            "adding image results/samples_gan/sample-012200.png\n",
            "adding image results/samples_gan/sample-012400.png\n",
            "adding image results/samples_gan/sample-012600.png\n",
            "adding image results/samples_gan/sample-012800.png\n",
            "adding image results/samples_gan/sample-013000.png\n",
            "adding image results/samples_gan/sample-013200.png\n",
            "adding image results/samples_gan/sample-013400.png\n",
            "adding image results/samples_gan/sample-013600.png\n",
            "adding image results/samples_gan/sample-013800.png\n",
            "adding image results/samples_gan/sample-014000.png\n",
            "adding image results/samples_gan/sample-014200.png\n",
            "adding image results/samples_gan/sample-014400.png\n",
            "adding image results/samples_gan/sample-014600.png\n",
            "adding image results/samples_gan/sample-014800.png\n",
            "adding image results/samples_gan/sample-015000.png\n",
            "adding image results/samples_gan/sample-015200.png\n",
            "adding image results/samples_gan/sample-015400.png\n",
            "adding image results/samples_gan/sample-015600.png\n",
            "adding image results/samples_gan/sample-015800.png\n",
            "adding image results/samples_gan/sample-016000.png\n",
            "adding image results/samples_gan/sample-016200.png\n",
            "adding image results/samples_gan/sample-016400.png\n",
            "adding image results/samples_gan/sample-016600.png\n",
            "adding image results/samples_gan/sample-016800.png\n",
            "adding image results/samples_gan/sample-017000.png\n",
            "adding image results/samples_gan/sample-017200.png\n",
            "adding image results/samples_gan/sample-017400.png\n",
            "adding image results/samples_gan/sample-017600.png\n",
            "adding image results/samples_gan/sample-017800.png\n",
            "adding image results/samples_gan/sample-018000.png\n",
            "adding image results/samples_gan/sample-018200.png\n",
            "adding image results/samples_gan/sample-018400.png\n",
            "adding image results/samples_gan/sample-018600.png\n",
            "adding image results/samples_gan/sample-018800.png\n",
            "adding image results/samples_gan/sample-019000.png\n",
            "adding image results/samples_gan/sample-019200.png\n",
            "adding image results/samples_gan/sample-019400.png\n",
            "adding image results/samples_gan/sample-019600.png\n",
            "adding image results/samples_gan/sample-019800.png\n",
            "adding image results/samples_gan/sample-020000.png\n"
          ],
          "name": "stdout"
        }
      ]
    },
    {
      "cell_type": "markdown",
      "metadata": {
        "colab_type": "text",
        "id": "7cP7nl5NRJbu"
      },
      "source": [
        "## CycleGAN"
      ]
    },
    {
      "cell_type": "code",
      "metadata": {
        "colab_type": "code",
        "id": "nKlyfbuPDXDR",
        "colab": {
          "base_uri": "https://localhost:8080/",
          "height": 1000
        },
        "outputId": "49f1056e-2c86-41fe-9aea-cd9122180f18"
      },
      "source": [
        "SEED = 30\n",
        "\n",
        "# Set the random seed manually for reproducibility.\n",
        "np.random.seed(SEED)\n",
        "torch.manual_seed(SEED)\n",
        "if torch.cuda.is_available():\n",
        "    torch.cuda.manual_seed(SEED)\n",
        "\n",
        "\n",
        "args = AttrDict()\n",
        "args_dict = {\n",
        "              'image_size':32, \n",
        "              'g_conv_dim':32, \n",
        "              'd_conv_dim':32,\n",
        "              'init_zero_weights': False,\n",
        "              'num_workers': 0,\n",
        "              'train_iters':5000,\n",
        "              'X':'Apple',\n",
        "              'Y':'Windows',\n",
        "              'lambda_cycle': 0.015,\n",
        "              'lr':0.0003,\n",
        "              'beta1':0.3,\n",
        "              'beta2':0.999,\n",
        "              'batch_size':32, \n",
        "              'checkpoint_dir': 'results/checkpoints_cyclegan',\n",
        "              'sample_dir': 'results/samples_cyclegan',\n",
        "              'load': None,\n",
        "              'log_step':200,\n",
        "              'sample_every':200,\n",
        "              'checkpoint_every':1000\n",
        "}\n",
        "args.update(args_dict)\n",
        "\n",
        "\n",
        "print_opts(args)\n",
        "G_XtoY, G_YtoX, D_X, D_Y = train(args)\n",
        "generate_gif(\"results/samples_cyclegan\", keyword='X-Y')\n",
        "generate_gif(\"results/samples_cyclegan\", keyword='Y-X')"
      ],
      "execution_count": 36,
      "outputs": [
        {
          "output_type": "stream",
          "text": [
            "================================================================================\n",
            "                                      Opts                                      \n",
            "--------------------------------------------------------------------------------\n",
            "                             image_size: 32                                     \n",
            "                             g_conv_dim: 32                                     \n",
            "                             d_conv_dim: 32                                     \n",
            "                            train_iters: 5000                                   \n",
            "                                      X: Apple                                  \n",
            "                                      Y: Windows                                \n",
            "                           lambda_cycle: 0.015                                  \n",
            "                                     lr: 0.0003                                 \n",
            "                                  beta1: 0.3                                    \n",
            "                                  beta2: 0.999                                  \n",
            "                             batch_size: 32                                     \n",
            "                         checkpoint_dir: results/checkpoints_cyclegan           \n",
            "                             sample_dir: results/samples_cyclegan               \n",
            "                               log_step: 200                                    \n",
            "                           sample_every: 200                                    \n",
            "                       checkpoint_every: 1000                                   \n",
            "================================================================================\n",
            "                 G_XtoY                \n",
            "---------------------------------------\n",
            "CycleGenerator(\n",
            "  (conv1): Sequential(\n",
            "    (0): Conv2d(3, 32, kernel_size=(5, 5), stride=(2, 2), padding=(2, 2), bias=False)\n",
            "    (1): BatchNorm2d(32, eps=1e-05, momentum=0.1, affine=True, track_running_stats=True)\n",
            "  )\n",
            "  (conv2): Sequential(\n",
            "    (0): Conv2d(32, 64, kernel_size=(5, 5), stride=(2, 2), padding=(2, 2), bias=False)\n",
            "    (1): BatchNorm2d(64, eps=1e-05, momentum=0.1, affine=True, track_running_stats=True)\n",
            "  )\n",
            "  (resnet_block): ResnetBlock(\n",
            "    (conv_layer): Sequential(\n",
            "      (0): Conv2d(64, 64, kernel_size=(3, 3), stride=(1, 1), padding=(1, 1), bias=False)\n",
            "      (1): BatchNorm2d(64, eps=1e-05, momentum=0.1, affine=True, track_running_stats=True)\n",
            "    )\n",
            "  )\n",
            "  (upconv1): Sequential(\n",
            "    (0): Upsample(scale_factor=2.0, mode=nearest)\n",
            "    (1): Conv2d(64, 32, kernel_size=(5, 5), stride=(1, 1), padding=(2, 2), bias=False)\n",
            "    (2): BatchNorm2d(32, eps=1e-05, momentum=0.1, affine=True, track_running_stats=True)\n",
            "  )\n",
            "  (upconv2): Sequential(\n",
            "    (0): Upsample(scale_factor=2.0, mode=nearest)\n",
            "    (1): Conv2d(32, 3, kernel_size=(5, 5), stride=(1, 1), padding=(2, 2), bias=False)\n",
            "  )\n",
            ")\n",
            "---------------------------------------\n",
            "                 G_YtoX                \n",
            "---------------------------------------\n",
            "CycleGenerator(\n",
            "  (conv1): Sequential(\n",
            "    (0): Conv2d(3, 32, kernel_size=(5, 5), stride=(2, 2), padding=(2, 2), bias=False)\n",
            "    (1): BatchNorm2d(32, eps=1e-05, momentum=0.1, affine=True, track_running_stats=True)\n",
            "  )\n",
            "  (conv2): Sequential(\n",
            "    (0): Conv2d(32, 64, kernel_size=(5, 5), stride=(2, 2), padding=(2, 2), bias=False)\n",
            "    (1): BatchNorm2d(64, eps=1e-05, momentum=0.1, affine=True, track_running_stats=True)\n",
            "  )\n",
            "  (resnet_block): ResnetBlock(\n",
            "    (conv_layer): Sequential(\n",
            "      (0): Conv2d(64, 64, kernel_size=(3, 3), stride=(1, 1), padding=(1, 1), bias=False)\n",
            "      (1): BatchNorm2d(64, eps=1e-05, momentum=0.1, affine=True, track_running_stats=True)\n",
            "    )\n",
            "  )\n",
            "  (upconv1): Sequential(\n",
            "    (0): Upsample(scale_factor=2.0, mode=nearest)\n",
            "    (1): Conv2d(64, 32, kernel_size=(5, 5), stride=(1, 1), padding=(2, 2), bias=False)\n",
            "    (2): BatchNorm2d(32, eps=1e-05, momentum=0.1, affine=True, track_running_stats=True)\n",
            "  )\n",
            "  (upconv2): Sequential(\n",
            "    (0): Upsample(scale_factor=2.0, mode=nearest)\n",
            "    (1): Conv2d(32, 3, kernel_size=(5, 5), stride=(1, 1), padding=(2, 2), bias=False)\n",
            "  )\n",
            ")\n",
            "---------------------------------------\n",
            "                  D_X                  \n",
            "---------------------------------------\n",
            "DCDiscriminator(\n",
            "  (conv1): Sequential(\n",
            "    (0): Conv2d(3, 32, kernel_size=(5, 5), stride=(2, 2), padding=(2, 2), bias=False)\n",
            "    (1): BatchNorm2d(32, eps=1e-05, momentum=0.1, affine=True, track_running_stats=True)\n",
            "  )\n",
            "  (conv2): Sequential(\n",
            "    (0): Conv2d(32, 64, kernel_size=(5, 5), stride=(2, 2), padding=(2, 2), bias=False)\n",
            "    (1): BatchNorm2d(64, eps=1e-05, momentum=0.1, affine=True, track_running_stats=True)\n",
            "  )\n",
            "  (conv3): Sequential(\n",
            "    (0): Conv2d(64, 128, kernel_size=(5, 5), stride=(2, 2), padding=(2, 2), bias=False)\n",
            "    (1): BatchNorm2d(128, eps=1e-05, momentum=0.1, affine=True, track_running_stats=True)\n",
            "  )\n",
            "  (conv4): Sequential(\n",
            "    (0): Conv2d(128, 1, kernel_size=(5, 5), stride=(2, 2), padding=(1, 1), bias=False)\n",
            "  )\n",
            ")\n",
            "---------------------------------------\n",
            "                  D_Y                  \n",
            "---------------------------------------\n",
            "DCDiscriminator(\n",
            "  (conv1): Sequential(\n",
            "    (0): Conv2d(3, 32, kernel_size=(5, 5), stride=(2, 2), padding=(2, 2), bias=False)\n",
            "    (1): BatchNorm2d(32, eps=1e-05, momentum=0.1, affine=True, track_running_stats=True)\n",
            "  )\n",
            "  (conv2): Sequential(\n",
            "    (0): Conv2d(32, 64, kernel_size=(5, 5), stride=(2, 2), padding=(2, 2), bias=False)\n",
            "    (1): BatchNorm2d(64, eps=1e-05, momentum=0.1, affine=True, track_running_stats=True)\n",
            "  )\n",
            "  (conv3): Sequential(\n",
            "    (0): Conv2d(64, 128, kernel_size=(5, 5), stride=(2, 2), padding=(2, 2), bias=False)\n",
            "    (1): BatchNorm2d(128, eps=1e-05, momentum=0.1, affine=True, track_running_stats=True)\n",
            "  )\n",
            "  (conv4): Sequential(\n",
            "    (0): Conv2d(128, 1, kernel_size=(5, 5), stride=(2, 2), padding=(1, 1), bias=False)\n",
            "  )\n",
            ")\n",
            "---------------------------------------\n",
            "Models moved to GPU.\n"
          ],
          "name": "stdout"
        },
        {
          "output_type": "stream",
          "text": [
            "/usr/local/lib/python3.6/dist-packages/torchvision/transforms/transforms.py:220: UserWarning: The use of the transforms.Scale transform is deprecated, please use transforms.Resize instead.\n",
            "  \"please use transforms.Resize instead.\")\n",
            "/usr/local/lib/python3.6/dist-packages/PIL/Image.py:932: UserWarning: Palette images with Transparency expressed in bytes should be converted to RGBA images\n",
            "  \"Palette images with Transparency expressed in bytes should be \"\n",
            "/usr/local/lib/python3.6/dist-packages/torch/nn/functional.py:1340: UserWarning: nn.functional.tanh is deprecated. Use torch.tanh instead.\n",
            "  warnings.warn(\"nn.functional.tanh is deprecated. Use torch.tanh instead.\")\n",
            "WARNING:root:Lossy conversion from float64 to uint8. Range [-1.0, 1.0]. Convert image to uint8 prior to saving to suppress this warning.\n",
            "WARNING:root:Lossy conversion from float64 to uint8. Range [-1.0, 1.0]. Convert image to uint8 prior to saving to suppress this warning.\n"
          ],
          "name": "stderr"
        },
        {
          "output_type": "stream",
          "text": [
            "Iteration [  200/ 5000] | d_real_loss: 0.0786 | d_Y_loss: 0.0329 | d_X_loss: 0.0622 | d_fake_loss: 0.0952 | g_loss: 8.3433\n",
            "Saved results/samples_cyclegan/sample-000200-X-Y.png\n",
            "Saved results/samples_cyclegan/sample-000200-Y-X.png\n"
          ],
          "name": "stdout"
        },
        {
          "output_type": "stream",
          "text": [
            "WARNING:root:Lossy conversion from float64 to uint8. Range [-1.0, 1.0]. Convert image to uint8 prior to saving to suppress this warning.\n",
            "WARNING:root:Lossy conversion from float64 to uint8. Range [-1.0, 1.0]. Convert image to uint8 prior to saving to suppress this warning.\n"
          ],
          "name": "stderr"
        },
        {
          "output_type": "stream",
          "text": [
            "Iteration [  400/ 5000] | d_real_loss: 0.0501 | d_Y_loss: 0.0114 | d_X_loss: 0.0223 | d_fake_loss: 0.0337 | g_loss: 6.9063\n",
            "Saved results/samples_cyclegan/sample-000400-X-Y.png\n",
            "Saved results/samples_cyclegan/sample-000400-Y-X.png\n"
          ],
          "name": "stdout"
        },
        {
          "output_type": "stream",
          "text": [
            "WARNING:root:Lossy conversion from float64 to uint8. Range [-1.0, 1.0]. Convert image to uint8 prior to saving to suppress this warning.\n",
            "WARNING:root:Lossy conversion from float64 to uint8. Range [-1.0, 1.0]. Convert image to uint8 prior to saving to suppress this warning.\n"
          ],
          "name": "stderr"
        },
        {
          "output_type": "stream",
          "text": [
            "Iteration [  600/ 5000] | d_real_loss: 0.1261 | d_Y_loss: 0.0319 | d_X_loss: 0.0265 | d_fake_loss: 0.0584 | g_loss: 6.9021\n",
            "Saved results/samples_cyclegan/sample-000600-X-Y.png\n",
            "Saved results/samples_cyclegan/sample-000600-Y-X.png\n"
          ],
          "name": "stdout"
        },
        {
          "output_type": "stream",
          "text": [
            "WARNING:root:Lossy conversion from float64 to uint8. Range [-1.0, 1.0]. Convert image to uint8 prior to saving to suppress this warning.\n",
            "WARNING:root:Lossy conversion from float64 to uint8. Range [-1.0, 1.0]. Convert image to uint8 prior to saving to suppress this warning.\n"
          ],
          "name": "stderr"
        },
        {
          "output_type": "stream",
          "text": [
            "Iteration [  800/ 5000] | d_real_loss: 0.0617 | d_Y_loss: 0.0178 | d_X_loss: 0.0321 | d_fake_loss: 0.0499 | g_loss: 7.5191\n",
            "Saved results/samples_cyclegan/sample-000800-X-Y.png\n",
            "Saved results/samples_cyclegan/sample-000800-Y-X.png\n"
          ],
          "name": "stdout"
        },
        {
          "output_type": "stream",
          "text": [
            "WARNING:root:Lossy conversion from float64 to uint8. Range [-1.0, 1.0]. Convert image to uint8 prior to saving to suppress this warning.\n",
            "WARNING:root:Lossy conversion from float64 to uint8. Range [-1.0, 1.0]. Convert image to uint8 prior to saving to suppress this warning.\n"
          ],
          "name": "stderr"
        },
        {
          "output_type": "stream",
          "text": [
            "Iteration [ 1000/ 5000] | d_real_loss: 0.0873 | d_Y_loss: 0.0225 | d_X_loss: 0.0471 | d_fake_loss: 0.0696 | g_loss: 6.5078\n",
            "Saved results/samples_cyclegan/sample-001000-X-Y.png\n",
            "Saved results/samples_cyclegan/sample-001000-Y-X.png\n"
          ],
          "name": "stdout"
        },
        {
          "output_type": "stream",
          "text": [
            "WARNING:root:Lossy conversion from float64 to uint8. Range [-1.0, 1.0]. Convert image to uint8 prior to saving to suppress this warning.\n",
            "WARNING:root:Lossy conversion from float64 to uint8. Range [-1.0, 1.0]. Convert image to uint8 prior to saving to suppress this warning.\n"
          ],
          "name": "stderr"
        },
        {
          "output_type": "stream",
          "text": [
            "Iteration [ 1200/ 5000] | d_real_loss: 0.0754 | d_Y_loss: 0.0800 | d_X_loss: 0.0346 | d_fake_loss: 0.1146 | g_loss: 7.8949\n",
            "Saved results/samples_cyclegan/sample-001200-X-Y.png\n",
            "Saved results/samples_cyclegan/sample-001200-Y-X.png\n"
          ],
          "name": "stdout"
        },
        {
          "output_type": "stream",
          "text": [
            "WARNING:root:Lossy conversion from float64 to uint8. Range [-1.0, 1.0]. Convert image to uint8 prior to saving to suppress this warning.\n",
            "WARNING:root:Lossy conversion from float64 to uint8. Range [-1.0, 1.0]. Convert image to uint8 prior to saving to suppress this warning.\n"
          ],
          "name": "stderr"
        },
        {
          "output_type": "stream",
          "text": [
            "Iteration [ 1400/ 5000] | d_real_loss: 0.0980 | d_Y_loss: 0.1396 | d_X_loss: 0.0179 | d_fake_loss: 0.1574 | g_loss: 5.7258\n",
            "Saved results/samples_cyclegan/sample-001400-X-Y.png\n",
            "Saved results/samples_cyclegan/sample-001400-Y-X.png\n"
          ],
          "name": "stdout"
        },
        {
          "output_type": "stream",
          "text": [
            "WARNING:root:Lossy conversion from float64 to uint8. Range [-1.0, 1.0]. Convert image to uint8 prior to saving to suppress this warning.\n",
            "WARNING:root:Lossy conversion from float64 to uint8. Range [-1.0, 1.0]. Convert image to uint8 prior to saving to suppress this warning.\n"
          ],
          "name": "stderr"
        },
        {
          "output_type": "stream",
          "text": [
            "Iteration [ 1600/ 5000] | d_real_loss: 0.0309 | d_Y_loss: 0.0245 | d_X_loss: 0.0117 | d_fake_loss: 0.0362 | g_loss: 5.9292\n",
            "Saved results/samples_cyclegan/sample-001600-X-Y.png\n",
            "Saved results/samples_cyclegan/sample-001600-Y-X.png\n"
          ],
          "name": "stdout"
        },
        {
          "output_type": "stream",
          "text": [
            "WARNING:root:Lossy conversion from float64 to uint8. Range [-1.0, 1.0]. Convert image to uint8 prior to saving to suppress this warning.\n",
            "WARNING:root:Lossy conversion from float64 to uint8. Range [-1.0, 1.0]. Convert image to uint8 prior to saving to suppress this warning.\n"
          ],
          "name": "stderr"
        },
        {
          "output_type": "stream",
          "text": [
            "Iteration [ 1800/ 5000] | d_real_loss: 0.0648 | d_Y_loss: 0.0626 | d_X_loss: 0.0155 | d_fake_loss: 0.0781 | g_loss: 6.8238\n",
            "Saved results/samples_cyclegan/sample-001800-X-Y.png\n",
            "Saved results/samples_cyclegan/sample-001800-Y-X.png\n"
          ],
          "name": "stdout"
        },
        {
          "output_type": "stream",
          "text": [
            "WARNING:root:Lossy conversion from float64 to uint8. Range [-1.0, 1.0]. Convert image to uint8 prior to saving to suppress this warning.\n",
            "WARNING:root:Lossy conversion from float64 to uint8. Range [-1.0, 1.0]. Convert image to uint8 prior to saving to suppress this warning.\n"
          ],
          "name": "stderr"
        },
        {
          "output_type": "stream",
          "text": [
            "Iteration [ 2000/ 5000] | d_real_loss: 0.0268 | d_Y_loss: 0.0076 | d_X_loss: 0.0510 | d_fake_loss: 0.0586 | g_loss: 6.4711\n",
            "Saved results/samples_cyclegan/sample-002000-X-Y.png\n",
            "Saved results/samples_cyclegan/sample-002000-Y-X.png\n"
          ],
          "name": "stdout"
        },
        {
          "output_type": "stream",
          "text": [
            "WARNING:root:Lossy conversion from float64 to uint8. Range [-1.0, 1.0]. Convert image to uint8 prior to saving to suppress this warning.\n",
            "WARNING:root:Lossy conversion from float64 to uint8. Range [-1.0, 1.0]. Convert image to uint8 prior to saving to suppress this warning.\n"
          ],
          "name": "stderr"
        },
        {
          "output_type": "stream",
          "text": [
            "Iteration [ 2200/ 5000] | d_real_loss: 0.0258 | d_Y_loss: 0.0093 | d_X_loss: 0.0183 | d_fake_loss: 0.0276 | g_loss: 6.7160\n",
            "Saved results/samples_cyclegan/sample-002200-X-Y.png\n",
            "Saved results/samples_cyclegan/sample-002200-Y-X.png\n"
          ],
          "name": "stdout"
        },
        {
          "output_type": "stream",
          "text": [
            "WARNING:root:Lossy conversion from float64 to uint8. Range [-1.0, 1.0]. Convert image to uint8 prior to saving to suppress this warning.\n",
            "WARNING:root:Lossy conversion from float64 to uint8. Range [-1.0, 1.0]. Convert image to uint8 prior to saving to suppress this warning.\n"
          ],
          "name": "stderr"
        },
        {
          "output_type": "stream",
          "text": [
            "Iteration [ 2400/ 5000] | d_real_loss: 0.0272 | d_Y_loss: 0.0196 | d_X_loss: 0.0244 | d_fake_loss: 0.0441 | g_loss: 7.0914\n",
            "Saved results/samples_cyclegan/sample-002400-X-Y.png\n",
            "Saved results/samples_cyclegan/sample-002400-Y-X.png\n"
          ],
          "name": "stdout"
        },
        {
          "output_type": "stream",
          "text": [
            "WARNING:root:Lossy conversion from float64 to uint8. Range [-1.0, 1.0]. Convert image to uint8 prior to saving to suppress this warning.\n",
            "WARNING:root:Lossy conversion from float64 to uint8. Range [-1.0, 1.0]. Convert image to uint8 prior to saving to suppress this warning.\n"
          ],
          "name": "stderr"
        },
        {
          "output_type": "stream",
          "text": [
            "Iteration [ 2600/ 5000] | d_real_loss: 0.0366 | d_Y_loss: 0.0201 | d_X_loss: 0.0216 | d_fake_loss: 0.0417 | g_loss: 7.1699\n",
            "Saved results/samples_cyclegan/sample-002600-X-Y.png\n",
            "Saved results/samples_cyclegan/sample-002600-Y-X.png\n"
          ],
          "name": "stdout"
        },
        {
          "output_type": "stream",
          "text": [
            "WARNING:root:Lossy conversion from float64 to uint8. Range [-1.0, 1.0]. Convert image to uint8 prior to saving to suppress this warning.\n",
            "WARNING:root:Lossy conversion from float64 to uint8. Range [-1.0, 1.0]. Convert image to uint8 prior to saving to suppress this warning.\n"
          ],
          "name": "stderr"
        },
        {
          "output_type": "stream",
          "text": [
            "Iteration [ 2800/ 5000] | d_real_loss: 0.0427 | d_Y_loss: 0.0257 | d_X_loss: 0.0122 | d_fake_loss: 0.0379 | g_loss: 6.8514\n",
            "Saved results/samples_cyclegan/sample-002800-X-Y.png\n",
            "Saved results/samples_cyclegan/sample-002800-Y-X.png\n"
          ],
          "name": "stdout"
        },
        {
          "output_type": "stream",
          "text": [
            "WARNING:root:Lossy conversion from float64 to uint8. Range [-1.0, 1.0]. Convert image to uint8 prior to saving to suppress this warning.\n",
            "WARNING:root:Lossy conversion from float64 to uint8. Range [-1.0, 1.0]. Convert image to uint8 prior to saving to suppress this warning.\n"
          ],
          "name": "stderr"
        },
        {
          "output_type": "stream",
          "text": [
            "Iteration [ 3000/ 5000] | d_real_loss: 0.0283 | d_Y_loss: 0.0161 | d_X_loss: 0.0079 | d_fake_loss: 0.0240 | g_loss: 5.6161\n",
            "Saved results/samples_cyclegan/sample-003000-X-Y.png\n",
            "Saved results/samples_cyclegan/sample-003000-Y-X.png\n"
          ],
          "name": "stdout"
        },
        {
          "output_type": "stream",
          "text": [
            "WARNING:root:Lossy conversion from float64 to uint8. Range [-1.0, 1.0]. Convert image to uint8 prior to saving to suppress this warning.\n",
            "WARNING:root:Lossy conversion from float64 to uint8. Range [-1.0, 1.0]. Convert image to uint8 prior to saving to suppress this warning.\n"
          ],
          "name": "stderr"
        },
        {
          "output_type": "stream",
          "text": [
            "Iteration [ 3200/ 5000] | d_real_loss: 0.0515 | d_Y_loss: 0.0360 | d_X_loss: 0.0120 | d_fake_loss: 0.0479 | g_loss: 5.5673\n",
            "Saved results/samples_cyclegan/sample-003200-X-Y.png\n",
            "Saved results/samples_cyclegan/sample-003200-Y-X.png\n"
          ],
          "name": "stdout"
        },
        {
          "output_type": "stream",
          "text": [
            "WARNING:root:Lossy conversion from float64 to uint8. Range [-1.0, 1.0]. Convert image to uint8 prior to saving to suppress this warning.\n",
            "WARNING:root:Lossy conversion from float64 to uint8. Range [-1.0, 1.0]. Convert image to uint8 prior to saving to suppress this warning.\n"
          ],
          "name": "stderr"
        },
        {
          "output_type": "stream",
          "text": [
            "Iteration [ 3400/ 5000] | d_real_loss: 0.0296 | d_Y_loss: 0.0132 | d_X_loss: 0.0164 | d_fake_loss: 0.0296 | g_loss: 5.6356\n",
            "Saved results/samples_cyclegan/sample-003400-X-Y.png\n",
            "Saved results/samples_cyclegan/sample-003400-Y-X.png\n"
          ],
          "name": "stdout"
        },
        {
          "output_type": "stream",
          "text": [
            "WARNING:root:Lossy conversion from float64 to uint8. Range [-1.0, 1.0]. Convert image to uint8 prior to saving to suppress this warning.\n",
            "WARNING:root:Lossy conversion from float64 to uint8. Range [-1.0, 1.0]. Convert image to uint8 prior to saving to suppress this warning.\n"
          ],
          "name": "stderr"
        },
        {
          "output_type": "stream",
          "text": [
            "Iteration [ 3600/ 5000] | d_real_loss: 0.0241 | d_Y_loss: 0.0337 | d_X_loss: 0.0389 | d_fake_loss: 0.0725 | g_loss: 7.2191\n",
            "Saved results/samples_cyclegan/sample-003600-X-Y.png\n",
            "Saved results/samples_cyclegan/sample-003600-Y-X.png\n"
          ],
          "name": "stdout"
        },
        {
          "output_type": "stream",
          "text": [
            "WARNING:root:Lossy conversion from float64 to uint8. Range [-1.0, 1.0]. Convert image to uint8 prior to saving to suppress this warning.\n",
            "WARNING:root:Lossy conversion from float64 to uint8. Range [-1.0, 1.0]. Convert image to uint8 prior to saving to suppress this warning.\n"
          ],
          "name": "stderr"
        },
        {
          "output_type": "stream",
          "text": [
            "Iteration [ 3800/ 5000] | d_real_loss: 0.0463 | d_Y_loss: 0.0159 | d_X_loss: 0.0149 | d_fake_loss: 0.0308 | g_loss: 5.8524\n",
            "Saved results/samples_cyclegan/sample-003800-X-Y.png\n",
            "Saved results/samples_cyclegan/sample-003800-Y-X.png\n"
          ],
          "name": "stdout"
        },
        {
          "output_type": "stream",
          "text": [
            "WARNING:root:Lossy conversion from float64 to uint8. Range [-1.0, 1.0]. Convert image to uint8 prior to saving to suppress this warning.\n",
            "WARNING:root:Lossy conversion from float64 to uint8. Range [-1.0, 1.0]. Convert image to uint8 prior to saving to suppress this warning.\n"
          ],
          "name": "stderr"
        },
        {
          "output_type": "stream",
          "text": [
            "Iteration [ 4000/ 5000] | d_real_loss: 0.0224 | d_Y_loss: 0.0109 | d_X_loss: 0.0206 | d_fake_loss: 0.0315 | g_loss: 6.1699\n",
            "Saved results/samples_cyclegan/sample-004000-X-Y.png\n",
            "Saved results/samples_cyclegan/sample-004000-Y-X.png\n"
          ],
          "name": "stdout"
        },
        {
          "output_type": "stream",
          "text": [
            "WARNING:root:Lossy conversion from float64 to uint8. Range [-1.0, 1.0]. Convert image to uint8 prior to saving to suppress this warning.\n",
            "WARNING:root:Lossy conversion from float64 to uint8. Range [-1.0, 1.0]. Convert image to uint8 prior to saving to suppress this warning.\n"
          ],
          "name": "stderr"
        },
        {
          "output_type": "stream",
          "text": [
            "Iteration [ 4200/ 5000] | d_real_loss: 0.0288 | d_Y_loss: 0.0090 | d_X_loss: 0.0194 | d_fake_loss: 0.0284 | g_loss: 5.6035\n",
            "Saved results/samples_cyclegan/sample-004200-X-Y.png\n",
            "Saved results/samples_cyclegan/sample-004200-Y-X.png\n"
          ],
          "name": "stdout"
        },
        {
          "output_type": "stream",
          "text": [
            "WARNING:root:Lossy conversion from float64 to uint8. Range [-1.0, 1.0]. Convert image to uint8 prior to saving to suppress this warning.\n",
            "WARNING:root:Lossy conversion from float64 to uint8. Range [-1.0, 1.0]. Convert image to uint8 prior to saving to suppress this warning.\n"
          ],
          "name": "stderr"
        },
        {
          "output_type": "stream",
          "text": [
            "Iteration [ 4400/ 5000] | d_real_loss: 0.0352 | d_Y_loss: 0.0158 | d_X_loss: 0.0498 | d_fake_loss: 0.0655 | g_loss: 6.0195\n",
            "Saved results/samples_cyclegan/sample-004400-X-Y.png\n",
            "Saved results/samples_cyclegan/sample-004400-Y-X.png\n"
          ],
          "name": "stdout"
        },
        {
          "output_type": "stream",
          "text": [
            "WARNING:root:Lossy conversion from float64 to uint8. Range [-1.0, 1.0]. Convert image to uint8 prior to saving to suppress this warning.\n",
            "WARNING:root:Lossy conversion from float64 to uint8. Range [-1.0, 1.0]. Convert image to uint8 prior to saving to suppress this warning.\n"
          ],
          "name": "stderr"
        },
        {
          "output_type": "stream",
          "text": [
            "Iteration [ 4600/ 5000] | d_real_loss: 0.0334 | d_Y_loss: 0.0135 | d_X_loss: 0.0112 | d_fake_loss: 0.0247 | g_loss: 6.3619\n",
            "Saved results/samples_cyclegan/sample-004600-X-Y.png\n",
            "Saved results/samples_cyclegan/sample-004600-Y-X.png\n"
          ],
          "name": "stdout"
        },
        {
          "output_type": "stream",
          "text": [
            "WARNING:root:Lossy conversion from float64 to uint8. Range [-1.0, 1.0]. Convert image to uint8 prior to saving to suppress this warning.\n",
            "WARNING:root:Lossy conversion from float64 to uint8. Range [-1.0, 1.0]. Convert image to uint8 prior to saving to suppress this warning.\n"
          ],
          "name": "stderr"
        },
        {
          "output_type": "stream",
          "text": [
            "Iteration [ 4800/ 5000] | d_real_loss: 0.0490 | d_Y_loss: 0.0089 | d_X_loss: 0.0120 | d_fake_loss: 0.0209 | g_loss: 5.8268\n",
            "Saved results/samples_cyclegan/sample-004800-X-Y.png\n",
            "Saved results/samples_cyclegan/sample-004800-Y-X.png\n"
          ],
          "name": "stdout"
        },
        {
          "output_type": "stream",
          "text": [
            "WARNING:root:Lossy conversion from float64 to uint8. Range [-1.0, 1.0]. Convert image to uint8 prior to saving to suppress this warning.\n",
            "WARNING:root:Lossy conversion from float64 to uint8. Range [-1.0, 1.0]. Convert image to uint8 prior to saving to suppress this warning.\n"
          ],
          "name": "stderr"
        },
        {
          "output_type": "stream",
          "text": [
            "Iteration [ 5000/ 5000] | d_real_loss: 0.0992 | d_Y_loss: 0.0424 | d_X_loss: 0.0386 | d_fake_loss: 0.0810 | g_loss: 6.3783\n",
            "Saved results/samples_cyclegan/sample-005000-X-Y.png\n",
            "Saved results/samples_cyclegan/sample-005000-Y-X.png\n",
            "adding image results/samples_cyclegan/sample-000200-X-Y.png\n",
            "adding image results/samples_cyclegan/sample-000400-X-Y.png\n",
            "adding image results/samples_cyclegan/sample-000600-X-Y.png\n",
            "adding image results/samples_cyclegan/sample-000800-X-Y.png\n",
            "adding image results/samples_cyclegan/sample-001000-X-Y.png\n",
            "adding image results/samples_cyclegan/sample-001200-X-Y.png\n",
            "adding image results/samples_cyclegan/sample-001400-X-Y.png\n",
            "adding image results/samples_cyclegan/sample-001600-X-Y.png\n",
            "adding image results/samples_cyclegan/sample-001800-X-Y.png\n",
            "adding image results/samples_cyclegan/sample-002000-X-Y.png\n",
            "adding image results/samples_cyclegan/sample-002200-X-Y.png\n",
            "adding image results/samples_cyclegan/sample-002400-X-Y.png\n",
            "adding image results/samples_cyclegan/sample-002600-X-Y.png\n",
            "adding image results/samples_cyclegan/sample-002800-X-Y.png\n",
            "adding image results/samples_cyclegan/sample-003000-X-Y.png\n",
            "adding image results/samples_cyclegan/sample-003200-X-Y.png\n",
            "adding image results/samples_cyclegan/sample-003400-X-Y.png\n",
            "adding image results/samples_cyclegan/sample-003600-X-Y.png\n",
            "adding image results/samples_cyclegan/sample-003800-X-Y.png\n",
            "adding image results/samples_cyclegan/sample-004000-X-Y.png\n",
            "adding image results/samples_cyclegan/sample-004200-X-Y.png\n",
            "adding image results/samples_cyclegan/sample-004400-X-Y.png\n",
            "adding image results/samples_cyclegan/sample-004600-X-Y.png\n",
            "adding image results/samples_cyclegan/sample-004800-X-Y.png\n",
            "adding image results/samples_cyclegan/sample-005000-X-Y.png\n",
            "adding image results/samples_cyclegan/sample-000200-Y-X.png\n",
            "adding image results/samples_cyclegan/sample-000400-Y-X.png\n",
            "adding image results/samples_cyclegan/sample-000600-Y-X.png\n",
            "adding image results/samples_cyclegan/sample-000800-Y-X.png\n",
            "adding image results/samples_cyclegan/sample-001000-Y-X.png\n",
            "adding image results/samples_cyclegan/sample-001200-Y-X.png\n",
            "adding image results/samples_cyclegan/sample-001400-Y-X.png\n",
            "adding image results/samples_cyclegan/sample-001600-Y-X.png\n",
            "adding image results/samples_cyclegan/sample-001800-Y-X.png\n",
            "adding image results/samples_cyclegan/sample-002000-Y-X.png\n",
            "adding image results/samples_cyclegan/sample-002200-Y-X.png\n",
            "adding image results/samples_cyclegan/sample-002400-Y-X.png\n",
            "adding image results/samples_cyclegan/sample-002600-Y-X.png\n",
            "adding image results/samples_cyclegan/sample-002800-Y-X.png\n",
            "adding image results/samples_cyclegan/sample-003000-Y-X.png\n",
            "adding image results/samples_cyclegan/sample-003200-Y-X.png\n",
            "adding image results/samples_cyclegan/sample-003400-Y-X.png\n",
            "adding image results/samples_cyclegan/sample-003600-Y-X.png\n",
            "adding image results/samples_cyclegan/sample-003800-Y-X.png\n",
            "adding image results/samples_cyclegan/sample-004000-Y-X.png\n",
            "adding image results/samples_cyclegan/sample-004200-Y-X.png\n",
            "adding image results/samples_cyclegan/sample-004400-Y-X.png\n",
            "adding image results/samples_cyclegan/sample-004600-Y-X.png\n",
            "adding image results/samples_cyclegan/sample-004800-Y-X.png\n",
            "adding image results/samples_cyclegan/sample-005000-Y-X.png\n"
          ],
          "name": "stdout"
        }
      ]
    },
    {
      "cell_type": "markdown",
      "metadata": {
        "id": "v3Nxc-pFIKTo",
        "colab_type": "text"
      },
      "source": [
        "'lambda_cycle' = 0"
      ]
    },
    {
      "cell_type": "code",
      "metadata": {
        "colab_type": "code",
        "id": "HZAhfWBkAUQa",
        "colab": {
          "base_uri": "https://localhost:8080/",
          "height": 1000
        },
        "outputId": "ff2927d0-2783-4613-fc86-bac45d409ae7"
      },
      "source": [
        "SEED = 30\n",
        "\n",
        "# Set the random seed manually for reproducibility.\n",
        "np.random.seed(SEED)\n",
        "torch.manual_seed(SEED)\n",
        "if torch.cuda.is_available():\n",
        "    torch.cuda.manual_seed(SEED)\n",
        "\n",
        "\n",
        "args = AttrDict()\n",
        "args_dict = {\n",
        "              'image_size':32, \n",
        "              'g_conv_dim':32, \n",
        "              'd_conv_dim':32,\n",
        "              'init_zero_weights': False,\n",
        "              'num_workers': 0,\n",
        "              'train_iters':5000,\n",
        "              'X':'Apple',\n",
        "              'Y':'Windows',\n",
        "              'lambda_cycle': 0,\n",
        "              'lr':0.0003,\n",
        "              'beta1':0.3,\n",
        "              'beta2':0.999,\n",
        "              'batch_size':32, \n",
        "              'checkpoint_dir': 'results/checkpoints_cyclegan',\n",
        "              'sample_dir': 'results/samples_cyclegan',\n",
        "              'load': None,\n",
        "              'log_step':200,\n",
        "              'sample_every':200,\n",
        "              'checkpoint_every':1000\n",
        "}\n",
        "args.update(args_dict)\n",
        "\n",
        "\n",
        "print_opts(args)\n",
        "G_XtoY, G_YtoX, D_X, D_Y = train(args)\n",
        "generate_gif(\"results/samples_cyclegan\", keyword='X-Y')\n",
        "generate_gif(\"results/samples_cyclegan\", keyword='Y-X')"
      ],
      "execution_count": 39,
      "outputs": [
        {
          "output_type": "stream",
          "text": [
            "================================================================================\n",
            "                                      Opts                                      \n",
            "--------------------------------------------------------------------------------\n",
            "                             image_size: 32                                     \n",
            "                             g_conv_dim: 32                                     \n",
            "                             d_conv_dim: 32                                     \n",
            "                            train_iters: 5000                                   \n",
            "                                      X: Apple                                  \n",
            "                                      Y: Windows                                \n",
            "                                     lr: 0.0003                                 \n",
            "                                  beta1: 0.3                                    \n",
            "                                  beta2: 0.999                                  \n",
            "                             batch_size: 32                                     \n",
            "                         checkpoint_dir: results/checkpoints_cyclegan           \n",
            "                             sample_dir: results/samples_cyclegan               \n",
            "                               log_step: 200                                    \n",
            "                           sample_every: 200                                    \n",
            "                       checkpoint_every: 1000                                   \n",
            "================================================================================\n",
            "                 G_XtoY                \n",
            "---------------------------------------\n",
            "CycleGenerator(\n",
            "  (conv1): Sequential(\n",
            "    (0): Conv2d(3, 32, kernel_size=(5, 5), stride=(2, 2), padding=(2, 2), bias=False)\n",
            "    (1): BatchNorm2d(32, eps=1e-05, momentum=0.1, affine=True, track_running_stats=True)\n",
            "  )\n",
            "  (conv2): Sequential(\n",
            "    (0): Conv2d(32, 64, kernel_size=(5, 5), stride=(2, 2), padding=(2, 2), bias=False)\n",
            "    (1): BatchNorm2d(64, eps=1e-05, momentum=0.1, affine=True, track_running_stats=True)\n",
            "  )\n",
            "  (resnet_block): ResnetBlock(\n",
            "    (conv_layer): Sequential(\n",
            "      (0): Conv2d(64, 64, kernel_size=(3, 3), stride=(1, 1), padding=(1, 1), bias=False)\n",
            "      (1): BatchNorm2d(64, eps=1e-05, momentum=0.1, affine=True, track_running_stats=True)\n",
            "    )\n",
            "  )\n",
            "  (upconv1): Sequential(\n",
            "    (0): Upsample(scale_factor=2.0, mode=nearest)\n",
            "    (1): Conv2d(64, 32, kernel_size=(5, 5), stride=(1, 1), padding=(2, 2), bias=False)\n",
            "    (2): BatchNorm2d(32, eps=1e-05, momentum=0.1, affine=True, track_running_stats=True)\n",
            "  )\n",
            "  (upconv2): Sequential(\n",
            "    (0): Upsample(scale_factor=2.0, mode=nearest)\n",
            "    (1): Conv2d(32, 3, kernel_size=(5, 5), stride=(1, 1), padding=(2, 2), bias=False)\n",
            "  )\n",
            ")\n",
            "---------------------------------------\n",
            "                 G_YtoX                \n",
            "---------------------------------------\n",
            "CycleGenerator(\n",
            "  (conv1): Sequential(\n",
            "    (0): Conv2d(3, 32, kernel_size=(5, 5), stride=(2, 2), padding=(2, 2), bias=False)\n",
            "    (1): BatchNorm2d(32, eps=1e-05, momentum=0.1, affine=True, track_running_stats=True)\n",
            "  )\n",
            "  (conv2): Sequential(\n",
            "    (0): Conv2d(32, 64, kernel_size=(5, 5), stride=(2, 2), padding=(2, 2), bias=False)\n",
            "    (1): BatchNorm2d(64, eps=1e-05, momentum=0.1, affine=True, track_running_stats=True)\n",
            "  )\n",
            "  (resnet_block): ResnetBlock(\n",
            "    (conv_layer): Sequential(\n",
            "      (0): Conv2d(64, 64, kernel_size=(3, 3), stride=(1, 1), padding=(1, 1), bias=False)\n",
            "      (1): BatchNorm2d(64, eps=1e-05, momentum=0.1, affine=True, track_running_stats=True)\n",
            "    )\n",
            "  )\n",
            "  (upconv1): Sequential(\n",
            "    (0): Upsample(scale_factor=2.0, mode=nearest)\n",
            "    (1): Conv2d(64, 32, kernel_size=(5, 5), stride=(1, 1), padding=(2, 2), bias=False)\n",
            "    (2): BatchNorm2d(32, eps=1e-05, momentum=0.1, affine=True, track_running_stats=True)\n",
            "  )\n",
            "  (upconv2): Sequential(\n",
            "    (0): Upsample(scale_factor=2.0, mode=nearest)\n",
            "    (1): Conv2d(32, 3, kernel_size=(5, 5), stride=(1, 1), padding=(2, 2), bias=False)\n",
            "  )\n",
            ")\n",
            "---------------------------------------\n",
            "                  D_X                  \n",
            "---------------------------------------\n",
            "DCDiscriminator(\n",
            "  (conv1): Sequential(\n",
            "    (0): Conv2d(3, 32, kernel_size=(5, 5), stride=(2, 2), padding=(2, 2), bias=False)\n",
            "    (1): BatchNorm2d(32, eps=1e-05, momentum=0.1, affine=True, track_running_stats=True)\n",
            "  )\n",
            "  (conv2): Sequential(\n",
            "    (0): Conv2d(32, 64, kernel_size=(5, 5), stride=(2, 2), padding=(2, 2), bias=False)\n",
            "    (1): BatchNorm2d(64, eps=1e-05, momentum=0.1, affine=True, track_running_stats=True)\n",
            "  )\n",
            "  (conv3): Sequential(\n",
            "    (0): Conv2d(64, 128, kernel_size=(5, 5), stride=(2, 2), padding=(2, 2), bias=False)\n",
            "    (1): BatchNorm2d(128, eps=1e-05, momentum=0.1, affine=True, track_running_stats=True)\n",
            "  )\n",
            "  (conv4): Sequential(\n",
            "    (0): Conv2d(128, 1, kernel_size=(5, 5), stride=(2, 2), padding=(1, 1), bias=False)\n",
            "  )\n",
            ")\n",
            "---------------------------------------\n",
            "                  D_Y                  \n",
            "---------------------------------------\n",
            "DCDiscriminator(\n",
            "  (conv1): Sequential(\n",
            "    (0): Conv2d(3, 32, kernel_size=(5, 5), stride=(2, 2), padding=(2, 2), bias=False)\n",
            "    (1): BatchNorm2d(32, eps=1e-05, momentum=0.1, affine=True, track_running_stats=True)\n",
            "  )\n",
            "  (conv2): Sequential(\n",
            "    (0): Conv2d(32, 64, kernel_size=(5, 5), stride=(2, 2), padding=(2, 2), bias=False)\n",
            "    (1): BatchNorm2d(64, eps=1e-05, momentum=0.1, affine=True, track_running_stats=True)\n",
            "  )\n",
            "  (conv3): Sequential(\n",
            "    (0): Conv2d(64, 128, kernel_size=(5, 5), stride=(2, 2), padding=(2, 2), bias=False)\n",
            "    (1): BatchNorm2d(128, eps=1e-05, momentum=0.1, affine=True, track_running_stats=True)\n",
            "  )\n",
            "  (conv4): Sequential(\n",
            "    (0): Conv2d(128, 1, kernel_size=(5, 5), stride=(2, 2), padding=(1, 1), bias=False)\n",
            "  )\n",
            ")\n",
            "---------------------------------------\n",
            "Models moved to GPU.\n"
          ],
          "name": "stdout"
        },
        {
          "output_type": "stream",
          "text": [
            "/usr/local/lib/python3.6/dist-packages/torchvision/transforms/transforms.py:220: UserWarning: The use of the transforms.Scale transform is deprecated, please use transforms.Resize instead.\n",
            "  \"please use transforms.Resize instead.\")\n",
            "/usr/local/lib/python3.6/dist-packages/PIL/Image.py:932: UserWarning: Palette images with Transparency expressed in bytes should be converted to RGBA images\n",
            "  \"Palette images with Transparency expressed in bytes should be \"\n",
            "/usr/local/lib/python3.6/dist-packages/torch/nn/functional.py:1340: UserWarning: nn.functional.tanh is deprecated. Use torch.tanh instead.\n",
            "  warnings.warn(\"nn.functional.tanh is deprecated. Use torch.tanh instead.\")\n",
            "WARNING:root:Lossy conversion from float64 to uint8. Range [-1.0, 1.0]. Convert image to uint8 prior to saving to suppress this warning.\n",
            "WARNING:root:Lossy conversion from float64 to uint8. Range [-1.0, 1.0]. Convert image to uint8 prior to saving to suppress this warning.\n"
          ],
          "name": "stderr"
        },
        {
          "output_type": "stream",
          "text": [
            "Iteration [  200/ 5000] | d_real_loss: 0.1925 | d_Y_loss: 0.1414 | d_X_loss: 0.0364 | d_fake_loss: 0.1779 | g_loss: 1.9750\n",
            "Saved results/samples_cyclegan/sample-000200-X-Y.png\n",
            "Saved results/samples_cyclegan/sample-000200-Y-X.png\n"
          ],
          "name": "stdout"
        },
        {
          "output_type": "stream",
          "text": [
            "WARNING:root:Lossy conversion from float64 to uint8. Range [-1.0, 1.0]. Convert image to uint8 prior to saving to suppress this warning.\n",
            "WARNING:root:Lossy conversion from float64 to uint8. Range [-1.0, 1.0]. Convert image to uint8 prior to saving to suppress this warning.\n"
          ],
          "name": "stderr"
        },
        {
          "output_type": "stream",
          "text": [
            "Iteration [  400/ 5000] | d_real_loss: 0.1318 | d_Y_loss: 0.0538 | d_X_loss: 0.0651 | d_fake_loss: 0.1188 | g_loss: 1.3640\n",
            "Saved results/samples_cyclegan/sample-000400-X-Y.png\n",
            "Saved results/samples_cyclegan/sample-000400-Y-X.png\n"
          ],
          "name": "stdout"
        },
        {
          "output_type": "stream",
          "text": [
            "WARNING:root:Lossy conversion from float64 to uint8. Range [-1.0, 1.0]. Convert image to uint8 prior to saving to suppress this warning.\n",
            "WARNING:root:Lossy conversion from float64 to uint8. Range [-1.0, 1.0]. Convert image to uint8 prior to saving to suppress this warning.\n"
          ],
          "name": "stderr"
        },
        {
          "output_type": "stream",
          "text": [
            "Iteration [  600/ 5000] | d_real_loss: 0.0970 | d_Y_loss: 0.0589 | d_X_loss: 0.0310 | d_fake_loss: 0.0899 | g_loss: 1.3175\n",
            "Saved results/samples_cyclegan/sample-000600-X-Y.png\n",
            "Saved results/samples_cyclegan/sample-000600-Y-X.png\n"
          ],
          "name": "stdout"
        },
        {
          "output_type": "stream",
          "text": [
            "WARNING:root:Lossy conversion from float64 to uint8. Range [-1.0, 1.0]. Convert image to uint8 prior to saving to suppress this warning.\n",
            "WARNING:root:Lossy conversion from float64 to uint8. Range [-1.0, 1.0]. Convert image to uint8 prior to saving to suppress this warning.\n"
          ],
          "name": "stderr"
        },
        {
          "output_type": "stream",
          "text": [
            "Iteration [  800/ 5000] | d_real_loss: 0.0740 | d_Y_loss: 0.0709 | d_X_loss: 0.0596 | d_fake_loss: 0.1305 | g_loss: 1.6801\n",
            "Saved results/samples_cyclegan/sample-000800-X-Y.png\n",
            "Saved results/samples_cyclegan/sample-000800-Y-X.png\n"
          ],
          "name": "stdout"
        },
        {
          "output_type": "stream",
          "text": [
            "WARNING:root:Lossy conversion from float64 to uint8. Range [-1.0, 1.0]. Convert image to uint8 prior to saving to suppress this warning.\n",
            "WARNING:root:Lossy conversion from float64 to uint8. Range [-1.0, 1.0]. Convert image to uint8 prior to saving to suppress this warning.\n"
          ],
          "name": "stderr"
        },
        {
          "output_type": "stream",
          "text": [
            "Iteration [ 1000/ 5000] | d_real_loss: 0.1016 | d_Y_loss: 0.0443 | d_X_loss: 0.0581 | d_fake_loss: 0.1024 | g_loss: 1.2737\n",
            "Saved results/samples_cyclegan/sample-001000-X-Y.png\n",
            "Saved results/samples_cyclegan/sample-001000-Y-X.png\n"
          ],
          "name": "stdout"
        },
        {
          "output_type": "stream",
          "text": [
            "WARNING:root:Lossy conversion from float64 to uint8. Range [-1.0, 1.0]. Convert image to uint8 prior to saving to suppress this warning.\n",
            "WARNING:root:Lossy conversion from float64 to uint8. Range [-1.0, 1.0]. Convert image to uint8 prior to saving to suppress this warning.\n"
          ],
          "name": "stderr"
        },
        {
          "output_type": "stream",
          "text": [
            "Iteration [ 1200/ 5000] | d_real_loss: 0.0936 | d_Y_loss: 0.1681 | d_X_loss: 0.0513 | d_fake_loss: 0.2194 | g_loss: 2.0596\n",
            "Saved results/samples_cyclegan/sample-001200-X-Y.png\n",
            "Saved results/samples_cyclegan/sample-001200-Y-X.png\n"
          ],
          "name": "stdout"
        },
        {
          "output_type": "stream",
          "text": [
            "WARNING:root:Lossy conversion from float64 to uint8. Range [-1.0, 1.0]. Convert image to uint8 prior to saving to suppress this warning.\n",
            "WARNING:root:Lossy conversion from float64 to uint8. Range [-1.0, 1.0]. Convert image to uint8 prior to saving to suppress this warning.\n"
          ],
          "name": "stderr"
        },
        {
          "output_type": "stream",
          "text": [
            "Iteration [ 1400/ 5000] | d_real_loss: 0.0663 | d_Y_loss: 0.0441 | d_X_loss: 0.0569 | d_fake_loss: 0.1010 | g_loss: 1.4015\n",
            "Saved results/samples_cyclegan/sample-001400-X-Y.png\n",
            "Saved results/samples_cyclegan/sample-001400-Y-X.png\n"
          ],
          "name": "stdout"
        },
        {
          "output_type": "stream",
          "text": [
            "WARNING:root:Lossy conversion from float64 to uint8. Range [-1.0, 1.0]. Convert image to uint8 prior to saving to suppress this warning.\n",
            "WARNING:root:Lossy conversion from float64 to uint8. Range [-1.0, 1.0]. Convert image to uint8 prior to saving to suppress this warning.\n"
          ],
          "name": "stderr"
        },
        {
          "output_type": "stream",
          "text": [
            "Iteration [ 1600/ 5000] | d_real_loss: 0.0656 | d_Y_loss: 0.0239 | d_X_loss: 0.0455 | d_fake_loss: 0.0694 | g_loss: 1.1784\n",
            "Saved results/samples_cyclegan/sample-001600-X-Y.png\n",
            "Saved results/samples_cyclegan/sample-001600-Y-X.png\n"
          ],
          "name": "stdout"
        },
        {
          "output_type": "stream",
          "text": [
            "WARNING:root:Lossy conversion from float64 to uint8. Range [-1.0, 1.0]. Convert image to uint8 prior to saving to suppress this warning.\n",
            "WARNING:root:Lossy conversion from float64 to uint8. Range [-1.0, 1.0]. Convert image to uint8 prior to saving to suppress this warning.\n"
          ],
          "name": "stderr"
        },
        {
          "output_type": "stream",
          "text": [
            "Iteration [ 1800/ 5000] | d_real_loss: 0.0575 | d_Y_loss: 0.0329 | d_X_loss: 0.0479 | d_fake_loss: 0.0808 | g_loss: 1.2775\n",
            "Saved results/samples_cyclegan/sample-001800-X-Y.png\n",
            "Saved results/samples_cyclegan/sample-001800-Y-X.png\n"
          ],
          "name": "stdout"
        },
        {
          "output_type": "stream",
          "text": [
            "WARNING:root:Lossy conversion from float64 to uint8. Range [-1.0, 1.0]. Convert image to uint8 prior to saving to suppress this warning.\n",
            "WARNING:root:Lossy conversion from float64 to uint8. Range [-1.0, 1.0]. Convert image to uint8 prior to saving to suppress this warning.\n"
          ],
          "name": "stderr"
        },
        {
          "output_type": "stream",
          "text": [
            "Iteration [ 2000/ 5000] | d_real_loss: 0.0801 | d_Y_loss: 0.0314 | d_X_loss: 0.0503 | d_fake_loss: 0.0817 | g_loss: 1.2894\n",
            "Saved results/samples_cyclegan/sample-002000-X-Y.png\n",
            "Saved results/samples_cyclegan/sample-002000-Y-X.png\n"
          ],
          "name": "stdout"
        },
        {
          "output_type": "stream",
          "text": [
            "WARNING:root:Lossy conversion from float64 to uint8. Range [-1.0, 1.0]. Convert image to uint8 prior to saving to suppress this warning.\n",
            "WARNING:root:Lossy conversion from float64 to uint8. Range [-1.0, 1.0]. Convert image to uint8 prior to saving to suppress this warning.\n"
          ],
          "name": "stderr"
        },
        {
          "output_type": "stream",
          "text": [
            "Iteration [ 2200/ 5000] | d_real_loss: 0.0757 | d_Y_loss: 0.0208 | d_X_loss: 0.0721 | d_fake_loss: 0.0928 | g_loss: 1.1342\n",
            "Saved results/samples_cyclegan/sample-002200-X-Y.png\n",
            "Saved results/samples_cyclegan/sample-002200-Y-X.png\n"
          ],
          "name": "stdout"
        },
        {
          "output_type": "stream",
          "text": [
            "WARNING:root:Lossy conversion from float64 to uint8. Range [-1.0, 1.0]. Convert image to uint8 prior to saving to suppress this warning.\n",
            "WARNING:root:Lossy conversion from float64 to uint8. Range [-1.0, 1.0]. Convert image to uint8 prior to saving to suppress this warning.\n"
          ],
          "name": "stderr"
        },
        {
          "output_type": "stream",
          "text": [
            "Iteration [ 2400/ 5000] | d_real_loss: 0.1180 | d_Y_loss: 0.0750 | d_X_loss: 0.0856 | d_fake_loss: 0.1605 | g_loss: 1.5816\n",
            "Saved results/samples_cyclegan/sample-002400-X-Y.png\n",
            "Saved results/samples_cyclegan/sample-002400-Y-X.png\n"
          ],
          "name": "stdout"
        },
        {
          "output_type": "stream",
          "text": [
            "WARNING:root:Lossy conversion from float64 to uint8. Range [-1.0, 1.0]. Convert image to uint8 prior to saving to suppress this warning.\n",
            "WARNING:root:Lossy conversion from float64 to uint8. Range [-1.0, 1.0]. Convert image to uint8 prior to saving to suppress this warning.\n"
          ],
          "name": "stderr"
        },
        {
          "output_type": "stream",
          "text": [
            "Iteration [ 2600/ 5000] | d_real_loss: 0.1302 | d_Y_loss: 0.0282 | d_X_loss: 0.0494 | d_fake_loss: 0.0776 | g_loss: 1.3340\n",
            "Saved results/samples_cyclegan/sample-002600-X-Y.png\n",
            "Saved results/samples_cyclegan/sample-002600-Y-X.png\n"
          ],
          "name": "stdout"
        },
        {
          "output_type": "stream",
          "text": [
            "WARNING:root:Lossy conversion from float64 to uint8. Range [-1.0, 1.0]. Convert image to uint8 prior to saving to suppress this warning.\n",
            "WARNING:root:Lossy conversion from float64 to uint8. Range [-1.0, 1.0]. Convert image to uint8 prior to saving to suppress this warning.\n"
          ],
          "name": "stderr"
        },
        {
          "output_type": "stream",
          "text": [
            "Iteration [ 2800/ 5000] | d_real_loss: 0.0504 | d_Y_loss: 0.0132 | d_X_loss: 0.0276 | d_fake_loss: 0.0408 | g_loss: 0.9405\n",
            "Saved results/samples_cyclegan/sample-002800-X-Y.png\n",
            "Saved results/samples_cyclegan/sample-002800-Y-X.png\n"
          ],
          "name": "stdout"
        },
        {
          "output_type": "stream",
          "text": [
            "WARNING:root:Lossy conversion from float64 to uint8. Range [-1.0, 1.0]. Convert image to uint8 prior to saving to suppress this warning.\n",
            "WARNING:root:Lossy conversion from float64 to uint8. Range [-1.0, 1.0]. Convert image to uint8 prior to saving to suppress this warning.\n"
          ],
          "name": "stderr"
        },
        {
          "output_type": "stream",
          "text": [
            "Iteration [ 3000/ 5000] | d_real_loss: 0.0580 | d_Y_loss: 0.0360 | d_X_loss: 0.0809 | d_fake_loss: 0.1170 | g_loss: 1.2896\n",
            "Saved results/samples_cyclegan/sample-003000-X-Y.png\n",
            "Saved results/samples_cyclegan/sample-003000-Y-X.png\n"
          ],
          "name": "stdout"
        },
        {
          "output_type": "stream",
          "text": [
            "WARNING:root:Lossy conversion from float64 to uint8. Range [-1.0, 1.0]. Convert image to uint8 prior to saving to suppress this warning.\n",
            "WARNING:root:Lossy conversion from float64 to uint8. Range [-1.0, 1.0]. Convert image to uint8 prior to saving to suppress this warning.\n"
          ],
          "name": "stderr"
        },
        {
          "output_type": "stream",
          "text": [
            "Iteration [ 3200/ 5000] | d_real_loss: 0.0514 | d_Y_loss: 0.0111 | d_X_loss: 0.0226 | d_fake_loss: 0.0337 | g_loss: 1.1968\n",
            "Saved results/samples_cyclegan/sample-003200-X-Y.png\n",
            "Saved results/samples_cyclegan/sample-003200-Y-X.png\n"
          ],
          "name": "stdout"
        },
        {
          "output_type": "stream",
          "text": [
            "WARNING:root:Lossy conversion from float64 to uint8. Range [-1.0, 1.0]. Convert image to uint8 prior to saving to suppress this warning.\n",
            "WARNING:root:Lossy conversion from float64 to uint8. Range [-1.0, 1.0]. Convert image to uint8 prior to saving to suppress this warning.\n"
          ],
          "name": "stderr"
        },
        {
          "output_type": "stream",
          "text": [
            "Iteration [ 3400/ 5000] | d_real_loss: 0.0608 | d_Y_loss: 0.0235 | d_X_loss: 0.0600 | d_fake_loss: 0.0835 | g_loss: 0.8034\n",
            "Saved results/samples_cyclegan/sample-003400-X-Y.png\n",
            "Saved results/samples_cyclegan/sample-003400-Y-X.png\n"
          ],
          "name": "stdout"
        },
        {
          "output_type": "stream",
          "text": [
            "WARNING:root:Lossy conversion from float64 to uint8. Range [-1.0, 1.0]. Convert image to uint8 prior to saving to suppress this warning.\n",
            "WARNING:root:Lossy conversion from float64 to uint8. Range [-1.0, 1.0]. Convert image to uint8 prior to saving to suppress this warning.\n"
          ],
          "name": "stderr"
        },
        {
          "output_type": "stream",
          "text": [
            "Iteration [ 3600/ 5000] | d_real_loss: 0.0448 | d_Y_loss: 0.0212 | d_X_loss: 0.0355 | d_fake_loss: 0.0567 | g_loss: 1.3078\n",
            "Saved results/samples_cyclegan/sample-003600-X-Y.png\n",
            "Saved results/samples_cyclegan/sample-003600-Y-X.png\n"
          ],
          "name": "stdout"
        },
        {
          "output_type": "stream",
          "text": [
            "WARNING:root:Lossy conversion from float64 to uint8. Range [-1.0, 1.0]. Convert image to uint8 prior to saving to suppress this warning.\n",
            "WARNING:root:Lossy conversion from float64 to uint8. Range [-1.0, 1.0]. Convert image to uint8 prior to saving to suppress this warning.\n"
          ],
          "name": "stderr"
        },
        {
          "output_type": "stream",
          "text": [
            "Iteration [ 3800/ 5000] | d_real_loss: 0.0205 | d_Y_loss: 0.0162 | d_X_loss: 0.0212 | d_fake_loss: 0.0373 | g_loss: 1.0767\n",
            "Saved results/samples_cyclegan/sample-003800-X-Y.png\n",
            "Saved results/samples_cyclegan/sample-003800-Y-X.png\n"
          ],
          "name": "stdout"
        },
        {
          "output_type": "stream",
          "text": [
            "WARNING:root:Lossy conversion from float64 to uint8. Range [-1.0, 1.0]. Convert image to uint8 prior to saving to suppress this warning.\n",
            "WARNING:root:Lossy conversion from float64 to uint8. Range [-1.0, 1.0]. Convert image to uint8 prior to saving to suppress this warning.\n"
          ],
          "name": "stderr"
        },
        {
          "output_type": "stream",
          "text": [
            "Iteration [ 4000/ 5000] | d_real_loss: 0.0345 | d_Y_loss: 0.0145 | d_X_loss: 0.0245 | d_fake_loss: 0.0390 | g_loss: 0.9552\n",
            "Saved results/samples_cyclegan/sample-004000-X-Y.png\n",
            "Saved results/samples_cyclegan/sample-004000-Y-X.png\n"
          ],
          "name": "stdout"
        },
        {
          "output_type": "stream",
          "text": [
            "WARNING:root:Lossy conversion from float64 to uint8. Range [-1.0, 1.0]. Convert image to uint8 prior to saving to suppress this warning.\n",
            "WARNING:root:Lossy conversion from float64 to uint8. Range [-1.0, 1.0]. Convert image to uint8 prior to saving to suppress this warning.\n"
          ],
          "name": "stderr"
        },
        {
          "output_type": "stream",
          "text": [
            "Iteration [ 4200/ 5000] | d_real_loss: 0.0455 | d_Y_loss: 0.0261 | d_X_loss: 0.0314 | d_fake_loss: 0.0575 | g_loss: 1.0777\n",
            "Saved results/samples_cyclegan/sample-004200-X-Y.png\n",
            "Saved results/samples_cyclegan/sample-004200-Y-X.png\n"
          ],
          "name": "stdout"
        },
        {
          "output_type": "stream",
          "text": [
            "WARNING:root:Lossy conversion from float64 to uint8. Range [-1.0, 1.0]. Convert image to uint8 prior to saving to suppress this warning.\n",
            "WARNING:root:Lossy conversion from float64 to uint8. Range [-1.0, 1.0]. Convert image to uint8 prior to saving to suppress this warning.\n"
          ],
          "name": "stderr"
        },
        {
          "output_type": "stream",
          "text": [
            "Iteration [ 4400/ 5000] | d_real_loss: 0.0864 | d_Y_loss: 0.0448 | d_X_loss: 0.0706 | d_fake_loss: 0.1154 | g_loss: 1.2976\n",
            "Saved results/samples_cyclegan/sample-004400-X-Y.png\n",
            "Saved results/samples_cyclegan/sample-004400-Y-X.png\n"
          ],
          "name": "stdout"
        },
        {
          "output_type": "stream",
          "text": [
            "WARNING:root:Lossy conversion from float64 to uint8. Range [-1.0, 1.0]. Convert image to uint8 prior to saving to suppress this warning.\n",
            "WARNING:root:Lossy conversion from float64 to uint8. Range [-1.0, 1.0]. Convert image to uint8 prior to saving to suppress this warning.\n"
          ],
          "name": "stderr"
        },
        {
          "output_type": "stream",
          "text": [
            "Iteration [ 4600/ 5000] | d_real_loss: 0.0637 | d_Y_loss: 0.0261 | d_X_loss: 0.0417 | d_fake_loss: 0.0678 | g_loss: 1.1837\n",
            "Saved results/samples_cyclegan/sample-004600-X-Y.png\n",
            "Saved results/samples_cyclegan/sample-004600-Y-X.png\n"
          ],
          "name": "stdout"
        },
        {
          "output_type": "stream",
          "text": [
            "WARNING:root:Lossy conversion from float64 to uint8. Range [-1.0, 1.0]. Convert image to uint8 prior to saving to suppress this warning.\n",
            "WARNING:root:Lossy conversion from float64 to uint8. Range [-1.0, 1.0]. Convert image to uint8 prior to saving to suppress this warning.\n"
          ],
          "name": "stderr"
        },
        {
          "output_type": "stream",
          "text": [
            "Iteration [ 4800/ 5000] | d_real_loss: 0.0501 | d_Y_loss: 0.0368 | d_X_loss: 0.0196 | d_fake_loss: 0.0564 | g_loss: 0.8300\n",
            "Saved results/samples_cyclegan/sample-004800-X-Y.png\n",
            "Saved results/samples_cyclegan/sample-004800-Y-X.png\n"
          ],
          "name": "stdout"
        },
        {
          "output_type": "stream",
          "text": [
            "WARNING:root:Lossy conversion from float64 to uint8. Range [-1.0, 1.0]. Convert image to uint8 prior to saving to suppress this warning.\n",
            "WARNING:root:Lossy conversion from float64 to uint8. Range [-1.0, 1.0]. Convert image to uint8 prior to saving to suppress this warning.\n"
          ],
          "name": "stderr"
        },
        {
          "output_type": "stream",
          "text": [
            "Iteration [ 5000/ 5000] | d_real_loss: 0.0553 | d_Y_loss: 0.0193 | d_X_loss: 0.0310 | d_fake_loss: 0.0503 | g_loss: 1.0897\n",
            "Saved results/samples_cyclegan/sample-005000-X-Y.png\n",
            "Saved results/samples_cyclegan/sample-005000-Y-X.png\n",
            "adding image results/samples_cyclegan/sample-000200-X-Y.png\n",
            "adding image results/samples_cyclegan/sample-000400-X-Y.png\n",
            "adding image results/samples_cyclegan/sample-000600-X-Y.png\n",
            "adding image results/samples_cyclegan/sample-000800-X-Y.png\n",
            "adding image results/samples_cyclegan/sample-001000-X-Y.png\n",
            "adding image results/samples_cyclegan/sample-001200-X-Y.png\n",
            "adding image results/samples_cyclegan/sample-001400-X-Y.png\n",
            "adding image results/samples_cyclegan/sample-001600-X-Y.png\n",
            "adding image results/samples_cyclegan/sample-001800-X-Y.png\n",
            "adding image results/samples_cyclegan/sample-002000-X-Y.png\n",
            "adding image results/samples_cyclegan/sample-002200-X-Y.png\n",
            "adding image results/samples_cyclegan/sample-002400-X-Y.png\n",
            "adding image results/samples_cyclegan/sample-002600-X-Y.png\n",
            "adding image results/samples_cyclegan/sample-002800-X-Y.png\n",
            "adding image results/samples_cyclegan/sample-003000-X-Y.png\n",
            "adding image results/samples_cyclegan/sample-003200-X-Y.png\n",
            "adding image results/samples_cyclegan/sample-003400-X-Y.png\n",
            "adding image results/samples_cyclegan/sample-003600-X-Y.png\n",
            "adding image results/samples_cyclegan/sample-003800-X-Y.png\n",
            "adding image results/samples_cyclegan/sample-004000-X-Y.png\n",
            "adding image results/samples_cyclegan/sample-004200-X-Y.png\n",
            "adding image results/samples_cyclegan/sample-004400-X-Y.png\n",
            "adding image results/samples_cyclegan/sample-004600-X-Y.png\n",
            "adding image results/samples_cyclegan/sample-004800-X-Y.png\n",
            "adding image results/samples_cyclegan/sample-005000-X-Y.png\n",
            "adding image results/samples_cyclegan/sample-000200-Y-X.png\n",
            "adding image results/samples_cyclegan/sample-000400-Y-X.png\n",
            "adding image results/samples_cyclegan/sample-000600-Y-X.png\n",
            "adding image results/samples_cyclegan/sample-000800-Y-X.png\n",
            "adding image results/samples_cyclegan/sample-001000-Y-X.png\n",
            "adding image results/samples_cyclegan/sample-001200-Y-X.png\n",
            "adding image results/samples_cyclegan/sample-001400-Y-X.png\n",
            "adding image results/samples_cyclegan/sample-001600-Y-X.png\n",
            "adding image results/samples_cyclegan/sample-001800-Y-X.png\n",
            "adding image results/samples_cyclegan/sample-002000-Y-X.png\n",
            "adding image results/samples_cyclegan/sample-002200-Y-X.png\n",
            "adding image results/samples_cyclegan/sample-002400-Y-X.png\n",
            "adding image results/samples_cyclegan/sample-002600-Y-X.png\n",
            "adding image results/samples_cyclegan/sample-002800-Y-X.png\n",
            "adding image results/samples_cyclegan/sample-003000-Y-X.png\n",
            "adding image results/samples_cyclegan/sample-003200-Y-X.png\n",
            "adding image results/samples_cyclegan/sample-003400-Y-X.png\n",
            "adding image results/samples_cyclegan/sample-003600-Y-X.png\n",
            "adding image results/samples_cyclegan/sample-003800-Y-X.png\n",
            "adding image results/samples_cyclegan/sample-004000-Y-X.png\n",
            "adding image results/samples_cyclegan/sample-004200-Y-X.png\n",
            "adding image results/samples_cyclegan/sample-004400-Y-X.png\n",
            "adding image results/samples_cyclegan/sample-004600-Y-X.png\n",
            "adding image results/samples_cyclegan/sample-004800-Y-X.png\n",
            "adding image results/samples_cyclegan/sample-005000-Y-X.png\n"
          ],
          "name": "stdout"
        }
      ]
    },
    {
      "cell_type": "markdown",
      "metadata": {
        "id": "fa92RDYiH-AM",
        "colab_type": "text"
      },
      "source": [
        "\n",
        "'lambda_cycle' = 1\n",
        "\n",
        "\n",
        "\n",
        "\n"
      ]
    },
    {
      "cell_type": "code",
      "metadata": {
        "id": "ztOGUB6SH6bE",
        "colab_type": "code",
        "colab": {
          "base_uri": "https://localhost:8080/",
          "height": 1000
        },
        "outputId": "42859e97-c718-49e7-fa8e-c0fbf37b66c8"
      },
      "source": [
        "SEED = 30\n",
        "\n",
        "# Set the random seed manually for reproducibility.\n",
        "np.random.seed(SEED)\n",
        "torch.manual_seed(SEED)\n",
        "if torch.cuda.is_available():\n",
        "    torch.cuda.manual_seed(SEED)\n",
        "\n",
        "\n",
        "args = AttrDict()\n",
        "args_dict = {\n",
        "              'image_size':32, \n",
        "              'g_conv_dim':32, \n",
        "              'd_conv_dim':32,\n",
        "              'init_zero_weights': False,\n",
        "              'num_workers': 0,\n",
        "              'train_iters':5000,\n",
        "              'X':'Apple',\n",
        "              'Y':'Windows',\n",
        "              'lambda_cycle': 1,\n",
        "              'lr':0.0003,\n",
        "              'beta1':0.3,\n",
        "              'beta2':0.999,\n",
        "              'batch_size':32, \n",
        "              'checkpoint_dir': 'results/checkpoints_cyclegan',\n",
        "              'sample_dir': 'results/samples_cyclegan',\n",
        "              'load': None,\n",
        "              'log_step':200,\n",
        "              'sample_every':200,\n",
        "              'checkpoint_every':1000\n",
        "}\n",
        "args.update(args_dict)\n",
        "\n",
        "\n",
        "print_opts(args)\n",
        "G_XtoY, G_YtoX, D_X, D_Y = train(args)\n",
        "generate_gif(\"results/samples_cyclegan\", keyword='X-Y')\n",
        "generate_gif(\"results/samples_cyclegan\", keyword='Y-X')"
      ],
      "execution_count": 41,
      "outputs": [
        {
          "output_type": "stream",
          "text": [
            "================================================================================\n",
            "                                      Opts                                      \n",
            "--------------------------------------------------------------------------------\n",
            "                             image_size: 32                                     \n",
            "                             g_conv_dim: 32                                     \n",
            "                             d_conv_dim: 32                                     \n",
            "                            train_iters: 5000                                   \n",
            "                                      X: Apple                                  \n",
            "                                      Y: Windows                                \n",
            "                           lambda_cycle: 1                                      \n",
            "                                     lr: 0.0003                                 \n",
            "                                  beta1: 0.3                                    \n",
            "                                  beta2: 0.999                                  \n",
            "                             batch_size: 32                                     \n",
            "                         checkpoint_dir: results/checkpoints_cyclegan           \n",
            "                             sample_dir: results/samples_cyclegan               \n",
            "                               log_step: 200                                    \n",
            "                           sample_every: 200                                    \n",
            "                       checkpoint_every: 1000                                   \n",
            "================================================================================\n",
            "                 G_XtoY                \n",
            "---------------------------------------\n",
            "CycleGenerator(\n",
            "  (conv1): Sequential(\n",
            "    (0): Conv2d(3, 32, kernel_size=(5, 5), stride=(2, 2), padding=(2, 2), bias=False)\n",
            "    (1): BatchNorm2d(32, eps=1e-05, momentum=0.1, affine=True, track_running_stats=True)\n",
            "  )\n",
            "  (conv2): Sequential(\n",
            "    (0): Conv2d(32, 64, kernel_size=(5, 5), stride=(2, 2), padding=(2, 2), bias=False)\n",
            "    (1): BatchNorm2d(64, eps=1e-05, momentum=0.1, affine=True, track_running_stats=True)\n",
            "  )\n",
            "  (resnet_block): ResnetBlock(\n",
            "    (conv_layer): Sequential(\n",
            "      (0): Conv2d(64, 64, kernel_size=(3, 3), stride=(1, 1), padding=(1, 1), bias=False)\n",
            "      (1): BatchNorm2d(64, eps=1e-05, momentum=0.1, affine=True, track_running_stats=True)\n",
            "    )\n",
            "  )\n",
            "  (upconv1): Sequential(\n",
            "    (0): Upsample(scale_factor=2.0, mode=nearest)\n",
            "    (1): Conv2d(64, 32, kernel_size=(5, 5), stride=(1, 1), padding=(2, 2), bias=False)\n",
            "    (2): BatchNorm2d(32, eps=1e-05, momentum=0.1, affine=True, track_running_stats=True)\n",
            "  )\n",
            "  (upconv2): Sequential(\n",
            "    (0): Upsample(scale_factor=2.0, mode=nearest)\n",
            "    (1): Conv2d(32, 3, kernel_size=(5, 5), stride=(1, 1), padding=(2, 2), bias=False)\n",
            "  )\n",
            ")\n",
            "---------------------------------------\n",
            "                 G_YtoX                \n",
            "---------------------------------------\n",
            "CycleGenerator(\n",
            "  (conv1): Sequential(\n",
            "    (0): Conv2d(3, 32, kernel_size=(5, 5), stride=(2, 2), padding=(2, 2), bias=False)\n",
            "    (1): BatchNorm2d(32, eps=1e-05, momentum=0.1, affine=True, track_running_stats=True)\n",
            "  )\n",
            "  (conv2): Sequential(\n",
            "    (0): Conv2d(32, 64, kernel_size=(5, 5), stride=(2, 2), padding=(2, 2), bias=False)\n",
            "    (1): BatchNorm2d(64, eps=1e-05, momentum=0.1, affine=True, track_running_stats=True)\n",
            "  )\n",
            "  (resnet_block): ResnetBlock(\n",
            "    (conv_layer): Sequential(\n",
            "      (0): Conv2d(64, 64, kernel_size=(3, 3), stride=(1, 1), padding=(1, 1), bias=False)\n",
            "      (1): BatchNorm2d(64, eps=1e-05, momentum=0.1, affine=True, track_running_stats=True)\n",
            "    )\n",
            "  )\n",
            "  (upconv1): Sequential(\n",
            "    (0): Upsample(scale_factor=2.0, mode=nearest)\n",
            "    (1): Conv2d(64, 32, kernel_size=(5, 5), stride=(1, 1), padding=(2, 2), bias=False)\n",
            "    (2): BatchNorm2d(32, eps=1e-05, momentum=0.1, affine=True, track_running_stats=True)\n",
            "  )\n",
            "  (upconv2): Sequential(\n",
            "    (0): Upsample(scale_factor=2.0, mode=nearest)\n",
            "    (1): Conv2d(32, 3, kernel_size=(5, 5), stride=(1, 1), padding=(2, 2), bias=False)\n",
            "  )\n",
            ")\n",
            "---------------------------------------\n",
            "                  D_X                  \n",
            "---------------------------------------\n",
            "DCDiscriminator(\n",
            "  (conv1): Sequential(\n",
            "    (0): Conv2d(3, 32, kernel_size=(5, 5), stride=(2, 2), padding=(2, 2), bias=False)\n",
            "    (1): BatchNorm2d(32, eps=1e-05, momentum=0.1, affine=True, track_running_stats=True)\n",
            "  )\n",
            "  (conv2): Sequential(\n",
            "    (0): Conv2d(32, 64, kernel_size=(5, 5), stride=(2, 2), padding=(2, 2), bias=False)\n",
            "    (1): BatchNorm2d(64, eps=1e-05, momentum=0.1, affine=True, track_running_stats=True)\n",
            "  )\n",
            "  (conv3): Sequential(\n",
            "    (0): Conv2d(64, 128, kernel_size=(5, 5), stride=(2, 2), padding=(2, 2), bias=False)\n",
            "    (1): BatchNorm2d(128, eps=1e-05, momentum=0.1, affine=True, track_running_stats=True)\n",
            "  )\n",
            "  (conv4): Sequential(\n",
            "    (0): Conv2d(128, 1, kernel_size=(5, 5), stride=(2, 2), padding=(1, 1), bias=False)\n",
            "  )\n",
            ")\n",
            "---------------------------------------\n",
            "                  D_Y                  \n",
            "---------------------------------------\n",
            "DCDiscriminator(\n",
            "  (conv1): Sequential(\n",
            "    (0): Conv2d(3, 32, kernel_size=(5, 5), stride=(2, 2), padding=(2, 2), bias=False)\n",
            "    (1): BatchNorm2d(32, eps=1e-05, momentum=0.1, affine=True, track_running_stats=True)\n",
            "  )\n",
            "  (conv2): Sequential(\n",
            "    (0): Conv2d(32, 64, kernel_size=(5, 5), stride=(2, 2), padding=(2, 2), bias=False)\n",
            "    (1): BatchNorm2d(64, eps=1e-05, momentum=0.1, affine=True, track_running_stats=True)\n",
            "  )\n",
            "  (conv3): Sequential(\n",
            "    (0): Conv2d(64, 128, kernel_size=(5, 5), stride=(2, 2), padding=(2, 2), bias=False)\n",
            "    (1): BatchNorm2d(128, eps=1e-05, momentum=0.1, affine=True, track_running_stats=True)\n",
            "  )\n",
            "  (conv4): Sequential(\n",
            "    (0): Conv2d(128, 1, kernel_size=(5, 5), stride=(2, 2), padding=(1, 1), bias=False)\n",
            "  )\n",
            ")\n",
            "---------------------------------------\n",
            "Models moved to GPU.\n"
          ],
          "name": "stdout"
        },
        {
          "output_type": "stream",
          "text": [
            "/usr/local/lib/python3.6/dist-packages/torchvision/transforms/transforms.py:220: UserWarning: The use of the transforms.Scale transform is deprecated, please use transforms.Resize instead.\n",
            "  \"please use transforms.Resize instead.\")\n",
            "/usr/local/lib/python3.6/dist-packages/PIL/Image.py:932: UserWarning: Palette images with Transparency expressed in bytes should be converted to RGBA images\n",
            "  \"Palette images with Transparency expressed in bytes should be \"\n",
            "/usr/local/lib/python3.6/dist-packages/torch/nn/functional.py:1340: UserWarning: nn.functional.tanh is deprecated. Use torch.tanh instead.\n",
            "  warnings.warn(\"nn.functional.tanh is deprecated. Use torch.tanh instead.\")\n",
            "WARNING:root:Lossy conversion from float64 to uint8. Range [-1.0, 1.0]. Convert image to uint8 prior to saving to suppress this warning.\n",
            "WARNING:root:Lossy conversion from float64 to uint8. Range [-1.0, 1.0]. Convert image to uint8 prior to saving to suppress this warning.\n"
          ],
          "name": "stderr"
        },
        {
          "output_type": "stream",
          "text": [
            "Iteration [  200/ 5000] | d_real_loss: 0.0746 | d_Y_loss: 0.0102 | d_X_loss: 0.0112 | d_fake_loss: 0.0214 | g_loss: 434.7769\n",
            "Saved results/samples_cyclegan/sample-000200-X-Y.png\n",
            "Saved results/samples_cyclegan/sample-000200-Y-X.png\n"
          ],
          "name": "stdout"
        },
        {
          "output_type": "stream",
          "text": [
            "WARNING:root:Lossy conversion from float64 to uint8. Range [-1.0, 1.0]. Convert image to uint8 prior to saving to suppress this warning.\n",
            "WARNING:root:Lossy conversion from float64 to uint8. Range [-1.0, 1.0]. Convert image to uint8 prior to saving to suppress this warning.\n"
          ],
          "name": "stderr"
        },
        {
          "output_type": "stream",
          "text": [
            "Iteration [  400/ 5000] | d_real_loss: 0.0066 | d_Y_loss: 0.0074 | d_X_loss: 0.0116 | d_fake_loss: 0.0191 | g_loss: 345.1957\n",
            "Saved results/samples_cyclegan/sample-000400-X-Y.png\n",
            "Saved results/samples_cyclegan/sample-000400-Y-X.png\n"
          ],
          "name": "stdout"
        },
        {
          "output_type": "stream",
          "text": [
            "WARNING:root:Lossy conversion from float64 to uint8. Range [-1.0, 1.0]. Convert image to uint8 prior to saving to suppress this warning.\n",
            "WARNING:root:Lossy conversion from float64 to uint8. Range [-1.0, 1.0]. Convert image to uint8 prior to saving to suppress this warning.\n"
          ],
          "name": "stderr"
        },
        {
          "output_type": "stream",
          "text": [
            "Iteration [  600/ 5000] | d_real_loss: 0.0070 | d_Y_loss: 0.0057 | d_X_loss: 0.0056 | d_fake_loss: 0.0113 | g_loss: 311.2488\n",
            "Saved results/samples_cyclegan/sample-000600-X-Y.png\n",
            "Saved results/samples_cyclegan/sample-000600-Y-X.png\n"
          ],
          "name": "stdout"
        },
        {
          "output_type": "stream",
          "text": [
            "WARNING:root:Lossy conversion from float64 to uint8. Range [-1.0, 1.0]. Convert image to uint8 prior to saving to suppress this warning.\n",
            "WARNING:root:Lossy conversion from float64 to uint8. Range [-1.0, 1.0]. Convert image to uint8 prior to saving to suppress this warning.\n"
          ],
          "name": "stderr"
        },
        {
          "output_type": "stream",
          "text": [
            "Iteration [  800/ 5000] | d_real_loss: 0.0088 | d_Y_loss: 0.0079 | d_X_loss: 0.0123 | d_fake_loss: 0.0203 | g_loss: 340.4504\n",
            "Saved results/samples_cyclegan/sample-000800-X-Y.png\n",
            "Saved results/samples_cyclegan/sample-000800-Y-X.png\n"
          ],
          "name": "stdout"
        },
        {
          "output_type": "stream",
          "text": [
            "WARNING:root:Lossy conversion from float64 to uint8. Range [-1.0, 1.0]. Convert image to uint8 prior to saving to suppress this warning.\n",
            "WARNING:root:Lossy conversion from float64 to uint8. Range [-1.0, 1.0]. Convert image to uint8 prior to saving to suppress this warning.\n"
          ],
          "name": "stderr"
        },
        {
          "output_type": "stream",
          "text": [
            "Iteration [ 1000/ 5000] | d_real_loss: 0.0078 | d_Y_loss: 0.0048 | d_X_loss: 0.0030 | d_fake_loss: 0.0078 | g_loss: 302.8811\n",
            "Saved results/samples_cyclegan/sample-001000-X-Y.png\n",
            "Saved results/samples_cyclegan/sample-001000-Y-X.png\n"
          ],
          "name": "stdout"
        },
        {
          "output_type": "stream",
          "text": [
            "WARNING:root:Lossy conversion from float64 to uint8. Range [-1.0, 1.0]. Convert image to uint8 prior to saving to suppress this warning.\n",
            "WARNING:root:Lossy conversion from float64 to uint8. Range [-1.0, 1.0]. Convert image to uint8 prior to saving to suppress this warning.\n"
          ],
          "name": "stderr"
        },
        {
          "output_type": "stream",
          "text": [
            "Iteration [ 1200/ 5000] | d_real_loss: 0.0080 | d_Y_loss: 0.0240 | d_X_loss: 0.0041 | d_fake_loss: 0.0281 | g_loss: 332.1720\n",
            "Saved results/samples_cyclegan/sample-001200-X-Y.png\n",
            "Saved results/samples_cyclegan/sample-001200-Y-X.png\n"
          ],
          "name": "stdout"
        },
        {
          "output_type": "stream",
          "text": [
            "WARNING:root:Lossy conversion from float64 to uint8. Range [-1.0, 1.0]. Convert image to uint8 prior to saving to suppress this warning.\n",
            "WARNING:root:Lossy conversion from float64 to uint8. Range [-1.0, 1.0]. Convert image to uint8 prior to saving to suppress this warning.\n"
          ],
          "name": "stderr"
        },
        {
          "output_type": "stream",
          "text": [
            "Iteration [ 1400/ 5000] | d_real_loss: 0.0379 | d_Y_loss: 0.0144 | d_X_loss: 0.0108 | d_fake_loss: 0.0252 | g_loss: 287.2094\n",
            "Saved results/samples_cyclegan/sample-001400-X-Y.png\n",
            "Saved results/samples_cyclegan/sample-001400-Y-X.png\n"
          ],
          "name": "stdout"
        },
        {
          "output_type": "stream",
          "text": [
            "WARNING:root:Lossy conversion from float64 to uint8. Range [-1.0, 1.0]. Convert image to uint8 prior to saving to suppress this warning.\n",
            "WARNING:root:Lossy conversion from float64 to uint8. Range [-1.0, 1.0]. Convert image to uint8 prior to saving to suppress this warning.\n"
          ],
          "name": "stderr"
        },
        {
          "output_type": "stream",
          "text": [
            "Iteration [ 1600/ 5000] | d_real_loss: 0.0199 | d_Y_loss: 0.0019 | d_X_loss: 0.0067 | d_fake_loss: 0.0086 | g_loss: 270.5050\n",
            "Saved results/samples_cyclegan/sample-001600-X-Y.png\n",
            "Saved results/samples_cyclegan/sample-001600-Y-X.png\n"
          ],
          "name": "stdout"
        },
        {
          "output_type": "stream",
          "text": [
            "WARNING:root:Lossy conversion from float64 to uint8. Range [-1.0, 1.0]. Convert image to uint8 prior to saving to suppress this warning.\n",
            "WARNING:root:Lossy conversion from float64 to uint8. Range [-1.0, 1.0]. Convert image to uint8 prior to saving to suppress this warning.\n"
          ],
          "name": "stderr"
        },
        {
          "output_type": "stream",
          "text": [
            "Iteration [ 1800/ 5000] | d_real_loss: 0.0200 | d_Y_loss: 0.0036 | d_X_loss: 0.0306 | d_fake_loss: 0.0342 | g_loss: 278.8141\n",
            "Saved results/samples_cyclegan/sample-001800-X-Y.png\n",
            "Saved results/samples_cyclegan/sample-001800-Y-X.png\n"
          ],
          "name": "stdout"
        },
        {
          "output_type": "stream",
          "text": [
            "WARNING:root:Lossy conversion from float64 to uint8. Range [-1.0, 1.0]. Convert image to uint8 prior to saving to suppress this warning.\n",
            "WARNING:root:Lossy conversion from float64 to uint8. Range [-1.0, 1.0]. Convert image to uint8 prior to saving to suppress this warning.\n"
          ],
          "name": "stderr"
        },
        {
          "output_type": "stream",
          "text": [
            "Iteration [ 2000/ 5000] | d_real_loss: 0.0075 | d_Y_loss: 0.0126 | d_X_loss: 0.0092 | d_fake_loss: 0.0218 | g_loss: 270.1789\n",
            "Saved results/samples_cyclegan/sample-002000-X-Y.png\n",
            "Saved results/samples_cyclegan/sample-002000-Y-X.png\n"
          ],
          "name": "stdout"
        },
        {
          "output_type": "stream",
          "text": [
            "WARNING:root:Lossy conversion from float64 to uint8. Range [-1.0, 1.0]. Convert image to uint8 prior to saving to suppress this warning.\n",
            "WARNING:root:Lossy conversion from float64 to uint8. Range [-1.0, 1.0]. Convert image to uint8 prior to saving to suppress this warning.\n"
          ],
          "name": "stderr"
        },
        {
          "output_type": "stream",
          "text": [
            "Iteration [ 2200/ 5000] | d_real_loss: 0.0077 | d_Y_loss: 0.0041 | d_X_loss: 0.0175 | d_fake_loss: 0.0215 | g_loss: 293.6010\n",
            "Saved results/samples_cyclegan/sample-002200-X-Y.png\n",
            "Saved results/samples_cyclegan/sample-002200-Y-X.png\n"
          ],
          "name": "stdout"
        },
        {
          "output_type": "stream",
          "text": [
            "WARNING:root:Lossy conversion from float64 to uint8. Range [-1.0, 1.0]. Convert image to uint8 prior to saving to suppress this warning.\n",
            "WARNING:root:Lossy conversion from float64 to uint8. Range [-1.0, 1.0]. Convert image to uint8 prior to saving to suppress this warning.\n"
          ],
          "name": "stderr"
        },
        {
          "output_type": "stream",
          "text": [
            "Iteration [ 2400/ 5000] | d_real_loss: 0.0112 | d_Y_loss: 0.0154 | d_X_loss: 0.0124 | d_fake_loss: 0.0278 | g_loss: 289.5174\n",
            "Saved results/samples_cyclegan/sample-002400-X-Y.png\n",
            "Saved results/samples_cyclegan/sample-002400-Y-X.png\n"
          ],
          "name": "stdout"
        },
        {
          "output_type": "stream",
          "text": [
            "WARNING:root:Lossy conversion from float64 to uint8. Range [-1.0, 1.0]. Convert image to uint8 prior to saving to suppress this warning.\n",
            "WARNING:root:Lossy conversion from float64 to uint8. Range [-1.0, 1.0]. Convert image to uint8 prior to saving to suppress this warning.\n"
          ],
          "name": "stderr"
        },
        {
          "output_type": "stream",
          "text": [
            "Iteration [ 2600/ 5000] | d_real_loss: 0.0104 | d_Y_loss: 0.0028 | d_X_loss: 0.0089 | d_fake_loss: 0.0117 | g_loss: 308.4991\n",
            "Saved results/samples_cyclegan/sample-002600-X-Y.png\n",
            "Saved results/samples_cyclegan/sample-002600-Y-X.png\n"
          ],
          "name": "stdout"
        },
        {
          "output_type": "stream",
          "text": [
            "WARNING:root:Lossy conversion from float64 to uint8. Range [-1.0, 1.0]. Convert image to uint8 prior to saving to suppress this warning.\n",
            "WARNING:root:Lossy conversion from float64 to uint8. Range [-1.0, 1.0]. Convert image to uint8 prior to saving to suppress this warning.\n"
          ],
          "name": "stderr"
        },
        {
          "output_type": "stream",
          "text": [
            "Iteration [ 2800/ 5000] | d_real_loss: 0.0124 | d_Y_loss: 0.0031 | d_X_loss: 0.0022 | d_fake_loss: 0.0052 | g_loss: 311.7309\n",
            "Saved results/samples_cyclegan/sample-002800-X-Y.png\n",
            "Saved results/samples_cyclegan/sample-002800-Y-X.png\n"
          ],
          "name": "stdout"
        },
        {
          "output_type": "stream",
          "text": [
            "WARNING:root:Lossy conversion from float64 to uint8. Range [-1.0, 1.0]. Convert image to uint8 prior to saving to suppress this warning.\n",
            "WARNING:root:Lossy conversion from float64 to uint8. Range [-1.0, 1.0]. Convert image to uint8 prior to saving to suppress this warning.\n"
          ],
          "name": "stderr"
        },
        {
          "output_type": "stream",
          "text": [
            "Iteration [ 3000/ 5000] | d_real_loss: 0.0031 | d_Y_loss: 0.0015 | d_X_loss: 0.0013 | d_fake_loss: 0.0027 | g_loss: 215.7081\n",
            "Saved results/samples_cyclegan/sample-003000-X-Y.png\n",
            "Saved results/samples_cyclegan/sample-003000-Y-X.png\n"
          ],
          "name": "stdout"
        },
        {
          "output_type": "stream",
          "text": [
            "WARNING:root:Lossy conversion from float64 to uint8. Range [-1.0, 1.0]. Convert image to uint8 prior to saving to suppress this warning.\n",
            "WARNING:root:Lossy conversion from float64 to uint8. Range [-1.0, 1.0]. Convert image to uint8 prior to saving to suppress this warning.\n"
          ],
          "name": "stderr"
        },
        {
          "output_type": "stream",
          "text": [
            "Iteration [ 3200/ 5000] | d_real_loss: 0.0021 | d_Y_loss: 0.0007 | d_X_loss: 0.0019 | d_fake_loss: 0.0026 | g_loss: 227.0919\n",
            "Saved results/samples_cyclegan/sample-003200-X-Y.png\n",
            "Saved results/samples_cyclegan/sample-003200-Y-X.png\n"
          ],
          "name": "stdout"
        },
        {
          "output_type": "stream",
          "text": [
            "WARNING:root:Lossy conversion from float64 to uint8. Range [-1.0, 1.0]. Convert image to uint8 prior to saving to suppress this warning.\n",
            "WARNING:root:Lossy conversion from float64 to uint8. Range [-1.0, 1.0]. Convert image to uint8 prior to saving to suppress this warning.\n"
          ],
          "name": "stderr"
        },
        {
          "output_type": "stream",
          "text": [
            "Iteration [ 3400/ 5000] | d_real_loss: 0.0032 | d_Y_loss: 0.0038 | d_X_loss: 0.0041 | d_fake_loss: 0.0079 | g_loss: 219.3929\n",
            "Saved results/samples_cyclegan/sample-003400-X-Y.png\n",
            "Saved results/samples_cyclegan/sample-003400-Y-X.png\n"
          ],
          "name": "stdout"
        },
        {
          "output_type": "stream",
          "text": [
            "WARNING:root:Lossy conversion from float64 to uint8. Range [-1.0, 1.0]. Convert image to uint8 prior to saving to suppress this warning.\n",
            "WARNING:root:Lossy conversion from float64 to uint8. Range [-1.0, 1.0]. Convert image to uint8 prior to saving to suppress this warning.\n"
          ],
          "name": "stderr"
        },
        {
          "output_type": "stream",
          "text": [
            "Iteration [ 3600/ 5000] | d_real_loss: 0.0072 | d_Y_loss: 0.0103 | d_X_loss: 0.0017 | d_fake_loss: 0.0119 | g_loss: 285.1161\n",
            "Saved results/samples_cyclegan/sample-003600-X-Y.png\n",
            "Saved results/samples_cyclegan/sample-003600-Y-X.png\n"
          ],
          "name": "stdout"
        },
        {
          "output_type": "stream",
          "text": [
            "WARNING:root:Lossy conversion from float64 to uint8. Range [-1.0, 1.0]. Convert image to uint8 prior to saving to suppress this warning.\n",
            "WARNING:root:Lossy conversion from float64 to uint8. Range [-1.0, 1.0]. Convert image to uint8 prior to saving to suppress this warning.\n"
          ],
          "name": "stderr"
        },
        {
          "output_type": "stream",
          "text": [
            "Iteration [ 3800/ 5000] | d_real_loss: 0.0113 | d_Y_loss: 0.0004 | d_X_loss: 0.0008 | d_fake_loss: 0.0012 | g_loss: 242.8293\n",
            "Saved results/samples_cyclegan/sample-003800-X-Y.png\n",
            "Saved results/samples_cyclegan/sample-003800-Y-X.png\n"
          ],
          "name": "stdout"
        },
        {
          "output_type": "stream",
          "text": [
            "WARNING:root:Lossy conversion from float64 to uint8. Range [-1.0, 1.0]. Convert image to uint8 prior to saving to suppress this warning.\n",
            "WARNING:root:Lossy conversion from float64 to uint8. Range [-1.0, 1.0]. Convert image to uint8 prior to saving to suppress this warning.\n"
          ],
          "name": "stderr"
        },
        {
          "output_type": "stream",
          "text": [
            "Iteration [ 4000/ 5000] | d_real_loss: 0.0077 | d_Y_loss: 0.0004 | d_X_loss: 0.0046 | d_fake_loss: 0.0050 | g_loss: 227.7630\n",
            "Saved results/samples_cyclegan/sample-004000-X-Y.png\n",
            "Saved results/samples_cyclegan/sample-004000-Y-X.png\n"
          ],
          "name": "stdout"
        },
        {
          "output_type": "stream",
          "text": [
            "WARNING:root:Lossy conversion from float64 to uint8. Range [-1.0, 1.0]. Convert image to uint8 prior to saving to suppress this warning.\n",
            "WARNING:root:Lossy conversion from float64 to uint8. Range [-1.0, 1.0]. Convert image to uint8 prior to saving to suppress this warning.\n"
          ],
          "name": "stderr"
        },
        {
          "output_type": "stream",
          "text": [
            "Iteration [ 4200/ 5000] | d_real_loss: 0.0046 | d_Y_loss: 0.0031 | d_X_loss: 0.0003 | d_fake_loss: 0.0035 | g_loss: 219.9838\n",
            "Saved results/samples_cyclegan/sample-004200-X-Y.png\n",
            "Saved results/samples_cyclegan/sample-004200-Y-X.png\n"
          ],
          "name": "stdout"
        },
        {
          "output_type": "stream",
          "text": [
            "WARNING:root:Lossy conversion from float64 to uint8. Range [-1.0, 1.0]. Convert image to uint8 prior to saving to suppress this warning.\n",
            "WARNING:root:Lossy conversion from float64 to uint8. Range [-1.0, 1.0]. Convert image to uint8 prior to saving to suppress this warning.\n"
          ],
          "name": "stderr"
        },
        {
          "output_type": "stream",
          "text": [
            "Iteration [ 4400/ 5000] | d_real_loss: 0.0028 | d_Y_loss: 0.0033 | d_X_loss: 0.0062 | d_fake_loss: 0.0096 | g_loss: 227.1474\n",
            "Saved results/samples_cyclegan/sample-004400-X-Y.png\n",
            "Saved results/samples_cyclegan/sample-004400-Y-X.png\n"
          ],
          "name": "stdout"
        },
        {
          "output_type": "stream",
          "text": [
            "WARNING:root:Lossy conversion from float64 to uint8. Range [-1.0, 1.0]. Convert image to uint8 prior to saving to suppress this warning.\n",
            "WARNING:root:Lossy conversion from float64 to uint8. Range [-1.0, 1.0]. Convert image to uint8 prior to saving to suppress this warning.\n"
          ],
          "name": "stderr"
        },
        {
          "output_type": "stream",
          "text": [
            "Iteration [ 4600/ 5000] | d_real_loss: 0.0028 | d_Y_loss: 0.0049 | d_X_loss: 0.0030 | d_fake_loss: 0.0079 | g_loss: 257.9308\n",
            "Saved results/samples_cyclegan/sample-004600-X-Y.png\n",
            "Saved results/samples_cyclegan/sample-004600-Y-X.png\n"
          ],
          "name": "stdout"
        },
        {
          "output_type": "stream",
          "text": [
            "WARNING:root:Lossy conversion from float64 to uint8. Range [-1.0, 1.0]. Convert image to uint8 prior to saving to suppress this warning.\n",
            "WARNING:root:Lossy conversion from float64 to uint8. Range [-1.0, 1.0]. Convert image to uint8 prior to saving to suppress this warning.\n"
          ],
          "name": "stderr"
        },
        {
          "output_type": "stream",
          "text": [
            "Iteration [ 4800/ 5000] | d_real_loss: 0.0019 | d_Y_loss: 0.0003 | d_X_loss: 0.0037 | d_fake_loss: 0.0040 | g_loss: 249.4363\n",
            "Saved results/samples_cyclegan/sample-004800-X-Y.png\n",
            "Saved results/samples_cyclegan/sample-004800-Y-X.png\n"
          ],
          "name": "stdout"
        },
        {
          "output_type": "stream",
          "text": [
            "WARNING:root:Lossy conversion from float64 to uint8. Range [-1.0, 1.0]. Convert image to uint8 prior to saving to suppress this warning.\n",
            "WARNING:root:Lossy conversion from float64 to uint8. Range [-1.0, 1.0]. Convert image to uint8 prior to saving to suppress this warning.\n"
          ],
          "name": "stderr"
        },
        {
          "output_type": "stream",
          "text": [
            "Iteration [ 5000/ 5000] | d_real_loss: 0.0044 | d_Y_loss: 0.0043 | d_X_loss: 0.0122 | d_fake_loss: 0.0165 | g_loss: 230.6954\n",
            "Saved results/samples_cyclegan/sample-005000-X-Y.png\n",
            "Saved results/samples_cyclegan/sample-005000-Y-X.png\n",
            "adding image results/samples_cyclegan/sample-000200-X-Y.png\n",
            "adding image results/samples_cyclegan/sample-000400-X-Y.png\n",
            "adding image results/samples_cyclegan/sample-000600-X-Y.png\n",
            "adding image results/samples_cyclegan/sample-000800-X-Y.png\n",
            "adding image results/samples_cyclegan/sample-001000-X-Y.png\n",
            "adding image results/samples_cyclegan/sample-001200-X-Y.png\n",
            "adding image results/samples_cyclegan/sample-001400-X-Y.png\n",
            "adding image results/samples_cyclegan/sample-001600-X-Y.png\n",
            "adding image results/samples_cyclegan/sample-001800-X-Y.png\n",
            "adding image results/samples_cyclegan/sample-002000-X-Y.png\n",
            "adding image results/samples_cyclegan/sample-002200-X-Y.png\n",
            "adding image results/samples_cyclegan/sample-002400-X-Y.png\n",
            "adding image results/samples_cyclegan/sample-002600-X-Y.png\n",
            "adding image results/samples_cyclegan/sample-002800-X-Y.png\n",
            "adding image results/samples_cyclegan/sample-003000-X-Y.png\n",
            "adding image results/samples_cyclegan/sample-003200-X-Y.png\n",
            "adding image results/samples_cyclegan/sample-003400-X-Y.png\n",
            "adding image results/samples_cyclegan/sample-003600-X-Y.png\n",
            "adding image results/samples_cyclegan/sample-003800-X-Y.png\n",
            "adding image results/samples_cyclegan/sample-004000-X-Y.png\n",
            "adding image results/samples_cyclegan/sample-004200-X-Y.png\n",
            "adding image results/samples_cyclegan/sample-004400-X-Y.png\n",
            "adding image results/samples_cyclegan/sample-004600-X-Y.png\n",
            "adding image results/samples_cyclegan/sample-004800-X-Y.png\n",
            "adding image results/samples_cyclegan/sample-005000-X-Y.png\n",
            "adding image results/samples_cyclegan/sample-000200-Y-X.png\n",
            "adding image results/samples_cyclegan/sample-000400-Y-X.png\n",
            "adding image results/samples_cyclegan/sample-000600-Y-X.png\n",
            "adding image results/samples_cyclegan/sample-000800-Y-X.png\n",
            "adding image results/samples_cyclegan/sample-001000-Y-X.png\n",
            "adding image results/samples_cyclegan/sample-001200-Y-X.png\n",
            "adding image results/samples_cyclegan/sample-001400-Y-X.png\n",
            "adding image results/samples_cyclegan/sample-001600-Y-X.png\n",
            "adding image results/samples_cyclegan/sample-001800-Y-X.png\n",
            "adding image results/samples_cyclegan/sample-002000-Y-X.png\n",
            "adding image results/samples_cyclegan/sample-002200-Y-X.png\n",
            "adding image results/samples_cyclegan/sample-002400-Y-X.png\n",
            "adding image results/samples_cyclegan/sample-002600-Y-X.png\n",
            "adding image results/samples_cyclegan/sample-002800-Y-X.png\n",
            "adding image results/samples_cyclegan/sample-003000-Y-X.png\n",
            "adding image results/samples_cyclegan/sample-003200-Y-X.png\n",
            "adding image results/samples_cyclegan/sample-003400-Y-X.png\n",
            "adding image results/samples_cyclegan/sample-003600-Y-X.png\n",
            "adding image results/samples_cyclegan/sample-003800-Y-X.png\n",
            "adding image results/samples_cyclegan/sample-004000-Y-X.png\n",
            "adding image results/samples_cyclegan/sample-004200-Y-X.png\n",
            "adding image results/samples_cyclegan/sample-004400-Y-X.png\n",
            "adding image results/samples_cyclegan/sample-004600-Y-X.png\n",
            "adding image results/samples_cyclegan/sample-004800-Y-X.png\n",
            "adding image results/samples_cyclegan/sample-005000-Y-X.png\n"
          ],
          "name": "stdout"
        }
      ]
    },
    {
      "cell_type": "markdown",
      "metadata": {
        "id": "lphbpQLOIO2r",
        "colab_type": "text"
      },
      "source": [
        "'lambda_cycle' = 10"
      ]
    },
    {
      "cell_type": "code",
      "metadata": {
        "id": "aoQiYjUhIP5W",
        "colab_type": "code",
        "colab": {
          "base_uri": "https://localhost:8080/",
          "height": 1000
        },
        "outputId": "2e9fc8ee-422a-4b2b-ecb6-4769d81915bc"
      },
      "source": [
        "SEED = 30\n",
        "\n",
        "# Set the random seed manually for reproducibility.\n",
        "np.random.seed(SEED)\n",
        "torch.manual_seed(SEED)\n",
        "if torch.cuda.is_available():\n",
        "    torch.cuda.manual_seed(SEED)\n",
        "\n",
        "\n",
        "args = AttrDict()\n",
        "args_dict = {\n",
        "              'image_size':32, \n",
        "              'g_conv_dim':32, \n",
        "              'd_conv_dim':32,\n",
        "              'init_zero_weights': False,\n",
        "              'num_workers': 0,\n",
        "              'train_iters':5000,\n",
        "              'X':'Apple',\n",
        "              'Y':'Windows',\n",
        "              'lambda_cycle': 10,\n",
        "              'lr':0.0003,\n",
        "              'beta1':0.3,\n",
        "              'beta2':0.999,\n",
        "              'batch_size':32, \n",
        "              'checkpoint_dir': 'results/checkpoints_cyclegan',\n",
        "              'sample_dir': 'results/samples_cyclegan',\n",
        "              'load': None,\n",
        "              'log_step':200,\n",
        "              'sample_every':200,\n",
        "              'checkpoint_every':1000\n",
        "}\n",
        "args.update(args_dict)\n",
        "\n",
        "\n",
        "print_opts(args)\n",
        "G_XtoY, G_YtoX, D_X, D_Y = train(args)\n",
        "generate_gif(\"results/samples_cyclegan\", keyword='X-Y')\n",
        "generate_gif(\"results/samples_cyclegan\", keyword='Y-X')"
      ],
      "execution_count": 43,
      "outputs": [
        {
          "output_type": "stream",
          "text": [
            "================================================================================\n",
            "                                      Opts                                      \n",
            "--------------------------------------------------------------------------------\n",
            "                             image_size: 32                                     \n",
            "                             g_conv_dim: 32                                     \n",
            "                             d_conv_dim: 32                                     \n",
            "                            train_iters: 5000                                   \n",
            "                                      X: Apple                                  \n",
            "                                      Y: Windows                                \n",
            "                           lambda_cycle: 10                                     \n",
            "                                     lr: 0.0003                                 \n",
            "                                  beta1: 0.3                                    \n",
            "                                  beta2: 0.999                                  \n",
            "                             batch_size: 32                                     \n",
            "                         checkpoint_dir: results/checkpoints_cyclegan           \n",
            "                             sample_dir: results/samples_cyclegan               \n",
            "                               log_step: 200                                    \n",
            "                           sample_every: 200                                    \n",
            "                       checkpoint_every: 1000                                   \n",
            "================================================================================\n",
            "                 G_XtoY                \n",
            "---------------------------------------\n",
            "CycleGenerator(\n",
            "  (conv1): Sequential(\n",
            "    (0): Conv2d(3, 32, kernel_size=(5, 5), stride=(2, 2), padding=(2, 2), bias=False)\n",
            "    (1): BatchNorm2d(32, eps=1e-05, momentum=0.1, affine=True, track_running_stats=True)\n",
            "  )\n",
            "  (conv2): Sequential(\n",
            "    (0): Conv2d(32, 64, kernel_size=(5, 5), stride=(2, 2), padding=(2, 2), bias=False)\n",
            "    (1): BatchNorm2d(64, eps=1e-05, momentum=0.1, affine=True, track_running_stats=True)\n",
            "  )\n",
            "  (resnet_block): ResnetBlock(\n",
            "    (conv_layer): Sequential(\n",
            "      (0): Conv2d(64, 64, kernel_size=(3, 3), stride=(1, 1), padding=(1, 1), bias=False)\n",
            "      (1): BatchNorm2d(64, eps=1e-05, momentum=0.1, affine=True, track_running_stats=True)\n",
            "    )\n",
            "  )\n",
            "  (upconv1): Sequential(\n",
            "    (0): Upsample(scale_factor=2.0, mode=nearest)\n",
            "    (1): Conv2d(64, 32, kernel_size=(5, 5), stride=(1, 1), padding=(2, 2), bias=False)\n",
            "    (2): BatchNorm2d(32, eps=1e-05, momentum=0.1, affine=True, track_running_stats=True)\n",
            "  )\n",
            "  (upconv2): Sequential(\n",
            "    (0): Upsample(scale_factor=2.0, mode=nearest)\n",
            "    (1): Conv2d(32, 3, kernel_size=(5, 5), stride=(1, 1), padding=(2, 2), bias=False)\n",
            "  )\n",
            ")\n",
            "---------------------------------------\n",
            "                 G_YtoX                \n",
            "---------------------------------------\n",
            "CycleGenerator(\n",
            "  (conv1): Sequential(\n",
            "    (0): Conv2d(3, 32, kernel_size=(5, 5), stride=(2, 2), padding=(2, 2), bias=False)\n",
            "    (1): BatchNorm2d(32, eps=1e-05, momentum=0.1, affine=True, track_running_stats=True)\n",
            "  )\n",
            "  (conv2): Sequential(\n",
            "    (0): Conv2d(32, 64, kernel_size=(5, 5), stride=(2, 2), padding=(2, 2), bias=False)\n",
            "    (1): BatchNorm2d(64, eps=1e-05, momentum=0.1, affine=True, track_running_stats=True)\n",
            "  )\n",
            "  (resnet_block): ResnetBlock(\n",
            "    (conv_layer): Sequential(\n",
            "      (0): Conv2d(64, 64, kernel_size=(3, 3), stride=(1, 1), padding=(1, 1), bias=False)\n",
            "      (1): BatchNorm2d(64, eps=1e-05, momentum=0.1, affine=True, track_running_stats=True)\n",
            "    )\n",
            "  )\n",
            "  (upconv1): Sequential(\n",
            "    (0): Upsample(scale_factor=2.0, mode=nearest)\n",
            "    (1): Conv2d(64, 32, kernel_size=(5, 5), stride=(1, 1), padding=(2, 2), bias=False)\n",
            "    (2): BatchNorm2d(32, eps=1e-05, momentum=0.1, affine=True, track_running_stats=True)\n",
            "  )\n",
            "  (upconv2): Sequential(\n",
            "    (0): Upsample(scale_factor=2.0, mode=nearest)\n",
            "    (1): Conv2d(32, 3, kernel_size=(5, 5), stride=(1, 1), padding=(2, 2), bias=False)\n",
            "  )\n",
            ")\n",
            "---------------------------------------\n",
            "                  D_X                  \n",
            "---------------------------------------\n",
            "DCDiscriminator(\n",
            "  (conv1): Sequential(\n",
            "    (0): Conv2d(3, 32, kernel_size=(5, 5), stride=(2, 2), padding=(2, 2), bias=False)\n",
            "    (1): BatchNorm2d(32, eps=1e-05, momentum=0.1, affine=True, track_running_stats=True)\n",
            "  )\n",
            "  (conv2): Sequential(\n",
            "    (0): Conv2d(32, 64, kernel_size=(5, 5), stride=(2, 2), padding=(2, 2), bias=False)\n",
            "    (1): BatchNorm2d(64, eps=1e-05, momentum=0.1, affine=True, track_running_stats=True)\n",
            "  )\n",
            "  (conv3): Sequential(\n",
            "    (0): Conv2d(64, 128, kernel_size=(5, 5), stride=(2, 2), padding=(2, 2), bias=False)\n",
            "    (1): BatchNorm2d(128, eps=1e-05, momentum=0.1, affine=True, track_running_stats=True)\n",
            "  )\n",
            "  (conv4): Sequential(\n",
            "    (0): Conv2d(128, 1, kernel_size=(5, 5), stride=(2, 2), padding=(1, 1), bias=False)\n",
            "  )\n",
            ")\n",
            "---------------------------------------\n",
            "                  D_Y                  \n",
            "---------------------------------------\n",
            "DCDiscriminator(\n",
            "  (conv1): Sequential(\n",
            "    (0): Conv2d(3, 32, kernel_size=(5, 5), stride=(2, 2), padding=(2, 2), bias=False)\n",
            "    (1): BatchNorm2d(32, eps=1e-05, momentum=0.1, affine=True, track_running_stats=True)\n",
            "  )\n",
            "  (conv2): Sequential(\n",
            "    (0): Conv2d(32, 64, kernel_size=(5, 5), stride=(2, 2), padding=(2, 2), bias=False)\n",
            "    (1): BatchNorm2d(64, eps=1e-05, momentum=0.1, affine=True, track_running_stats=True)\n",
            "  )\n",
            "  (conv3): Sequential(\n",
            "    (0): Conv2d(64, 128, kernel_size=(5, 5), stride=(2, 2), padding=(2, 2), bias=False)\n",
            "    (1): BatchNorm2d(128, eps=1e-05, momentum=0.1, affine=True, track_running_stats=True)\n",
            "  )\n",
            "  (conv4): Sequential(\n",
            "    (0): Conv2d(128, 1, kernel_size=(5, 5), stride=(2, 2), padding=(1, 1), bias=False)\n",
            "  )\n",
            ")\n",
            "---------------------------------------\n",
            "Models moved to GPU.\n"
          ],
          "name": "stdout"
        },
        {
          "output_type": "stream",
          "text": [
            "/usr/local/lib/python3.6/dist-packages/torchvision/transforms/transforms.py:220: UserWarning: The use of the transforms.Scale transform is deprecated, please use transforms.Resize instead.\n",
            "  \"please use transforms.Resize instead.\")\n",
            "/usr/local/lib/python3.6/dist-packages/PIL/Image.py:932: UserWarning: Palette images with Transparency expressed in bytes should be converted to RGBA images\n",
            "  \"Palette images with Transparency expressed in bytes should be \"\n",
            "/usr/local/lib/python3.6/dist-packages/torch/nn/functional.py:1340: UserWarning: nn.functional.tanh is deprecated. Use torch.tanh instead.\n",
            "  warnings.warn(\"nn.functional.tanh is deprecated. Use torch.tanh instead.\")\n",
            "WARNING:root:Lossy conversion from float64 to uint8. Range [-1.0, 1.0]. Convert image to uint8 prior to saving to suppress this warning.\n",
            "WARNING:root:Lossy conversion from float64 to uint8. Range [-1.0, 1.0]. Convert image to uint8 prior to saving to suppress this warning.\n"
          ],
          "name": "stderr"
        },
        {
          "output_type": "stream",
          "text": [
            "Iteration [  200/ 5000] | d_real_loss: 0.0652 | d_Y_loss: 0.0159 | d_X_loss: 0.0137 | d_fake_loss: 0.0296 | g_loss: 4359.2227\n",
            "Saved results/samples_cyclegan/sample-000200-X-Y.png\n",
            "Saved results/samples_cyclegan/sample-000200-Y-X.png\n"
          ],
          "name": "stdout"
        },
        {
          "output_type": "stream",
          "text": [
            "WARNING:root:Lossy conversion from float64 to uint8. Range [-1.0, 1.0]. Convert image to uint8 prior to saving to suppress this warning.\n",
            "WARNING:root:Lossy conversion from float64 to uint8. Range [-1.0, 1.0]. Convert image to uint8 prior to saving to suppress this warning.\n"
          ],
          "name": "stderr"
        },
        {
          "output_type": "stream",
          "text": [
            "Iteration [  400/ 5000] | d_real_loss: 0.0065 | d_Y_loss: 0.0050 | d_X_loss: 0.0109 | d_fake_loss: 0.0159 | g_loss: 3472.7688\n",
            "Saved results/samples_cyclegan/sample-000400-X-Y.png\n",
            "Saved results/samples_cyclegan/sample-000400-Y-X.png\n"
          ],
          "name": "stdout"
        },
        {
          "output_type": "stream",
          "text": [
            "WARNING:root:Lossy conversion from float64 to uint8. Range [-1.0, 1.0]. Convert image to uint8 prior to saving to suppress this warning.\n",
            "WARNING:root:Lossy conversion from float64 to uint8. Range [-1.0, 1.0]. Convert image to uint8 prior to saving to suppress this warning.\n"
          ],
          "name": "stderr"
        },
        {
          "output_type": "stream",
          "text": [
            "Iteration [  600/ 5000] | d_real_loss: 0.0087 | d_Y_loss: 0.0046 | d_X_loss: 0.0041 | d_fake_loss: 0.0087 | g_loss: 3127.4736\n",
            "Saved results/samples_cyclegan/sample-000600-X-Y.png\n",
            "Saved results/samples_cyclegan/sample-000600-Y-X.png\n"
          ],
          "name": "stdout"
        },
        {
          "output_type": "stream",
          "text": [
            "WARNING:root:Lossy conversion from float64 to uint8. Range [-1.0, 1.0]. Convert image to uint8 prior to saving to suppress this warning.\n",
            "WARNING:root:Lossy conversion from float64 to uint8. Range [-1.0, 1.0]. Convert image to uint8 prior to saving to suppress this warning.\n"
          ],
          "name": "stderr"
        },
        {
          "output_type": "stream",
          "text": [
            "Iteration [  800/ 5000] | d_real_loss: 0.0087 | d_Y_loss: 0.0066 | d_X_loss: 0.0053 | d_fake_loss: 0.0119 | g_loss: 3370.5122\n",
            "Saved results/samples_cyclegan/sample-000800-X-Y.png\n",
            "Saved results/samples_cyclegan/sample-000800-Y-X.png\n"
          ],
          "name": "stdout"
        },
        {
          "output_type": "stream",
          "text": [
            "WARNING:root:Lossy conversion from float64 to uint8. Range [-1.0, 1.0]. Convert image to uint8 prior to saving to suppress this warning.\n",
            "WARNING:root:Lossy conversion from float64 to uint8. Range [-1.0, 1.0]. Convert image to uint8 prior to saving to suppress this warning.\n"
          ],
          "name": "stderr"
        },
        {
          "output_type": "stream",
          "text": [
            "Iteration [ 1000/ 5000] | d_real_loss: 0.0110 | d_Y_loss: 0.0024 | d_X_loss: 0.0040 | d_fake_loss: 0.0064 | g_loss: 2990.1450\n",
            "Saved results/samples_cyclegan/sample-001000-X-Y.png\n",
            "Saved results/samples_cyclegan/sample-001000-Y-X.png\n"
          ],
          "name": "stdout"
        },
        {
          "output_type": "stream",
          "text": [
            "WARNING:root:Lossy conversion from float64 to uint8. Range [-1.0, 1.0]. Convert image to uint8 prior to saving to suppress this warning.\n",
            "WARNING:root:Lossy conversion from float64 to uint8. Range [-1.0, 1.0]. Convert image to uint8 prior to saving to suppress this warning.\n"
          ],
          "name": "stderr"
        },
        {
          "output_type": "stream",
          "text": [
            "Iteration [ 1200/ 5000] | d_real_loss: 0.0101 | d_Y_loss: 0.0303 | d_X_loss: 0.0035 | d_fake_loss: 0.0338 | g_loss: 3293.0950\n",
            "Saved results/samples_cyclegan/sample-001200-X-Y.png\n",
            "Saved results/samples_cyclegan/sample-001200-Y-X.png\n"
          ],
          "name": "stdout"
        },
        {
          "output_type": "stream",
          "text": [
            "WARNING:root:Lossy conversion from float64 to uint8. Range [-1.0, 1.0]. Convert image to uint8 prior to saving to suppress this warning.\n",
            "WARNING:root:Lossy conversion from float64 to uint8. Range [-1.0, 1.0]. Convert image to uint8 prior to saving to suppress this warning.\n"
          ],
          "name": "stderr"
        },
        {
          "output_type": "stream",
          "text": [
            "Iteration [ 1400/ 5000] | d_real_loss: 0.0361 | d_Y_loss: 0.0150 | d_X_loss: 0.0087 | d_fake_loss: 0.0237 | g_loss: 2840.6313\n",
            "Saved results/samples_cyclegan/sample-001400-X-Y.png\n",
            "Saved results/samples_cyclegan/sample-001400-Y-X.png\n"
          ],
          "name": "stdout"
        },
        {
          "output_type": "stream",
          "text": [
            "WARNING:root:Lossy conversion from float64 to uint8. Range [-1.0, 1.0]. Convert image to uint8 prior to saving to suppress this warning.\n",
            "WARNING:root:Lossy conversion from float64 to uint8. Range [-1.0, 1.0]. Convert image to uint8 prior to saving to suppress this warning.\n"
          ],
          "name": "stderr"
        },
        {
          "output_type": "stream",
          "text": [
            "Iteration [ 1600/ 5000] | d_real_loss: 0.0128 | d_Y_loss: 0.0020 | d_X_loss: 0.0044 | d_fake_loss: 0.0063 | g_loss: 2694.8967\n",
            "Saved results/samples_cyclegan/sample-001600-X-Y.png\n",
            "Saved results/samples_cyclegan/sample-001600-Y-X.png\n"
          ],
          "name": "stdout"
        },
        {
          "output_type": "stream",
          "text": [
            "WARNING:root:Lossy conversion from float64 to uint8. Range [-1.0, 1.0]. Convert image to uint8 prior to saving to suppress this warning.\n",
            "WARNING:root:Lossy conversion from float64 to uint8. Range [-1.0, 1.0]. Convert image to uint8 prior to saving to suppress this warning.\n"
          ],
          "name": "stderr"
        },
        {
          "output_type": "stream",
          "text": [
            "Iteration [ 1800/ 5000] | d_real_loss: 0.0232 | d_Y_loss: 0.0026 | d_X_loss: 0.0258 | d_fake_loss: 0.0284 | g_loss: 2767.0703\n",
            "Saved results/samples_cyclegan/sample-001800-X-Y.png\n",
            "Saved results/samples_cyclegan/sample-001800-Y-X.png\n"
          ],
          "name": "stdout"
        },
        {
          "output_type": "stream",
          "text": [
            "WARNING:root:Lossy conversion from float64 to uint8. Range [-1.0, 1.0]. Convert image to uint8 prior to saving to suppress this warning.\n",
            "WARNING:root:Lossy conversion from float64 to uint8. Range [-1.0, 1.0]. Convert image to uint8 prior to saving to suppress this warning.\n"
          ],
          "name": "stderr"
        },
        {
          "output_type": "stream",
          "text": [
            "Iteration [ 2000/ 5000] | d_real_loss: 0.0056 | d_Y_loss: 0.0154 | d_X_loss: 0.0077 | d_fake_loss: 0.0230 | g_loss: 2683.7866\n",
            "Saved results/samples_cyclegan/sample-002000-X-Y.png\n",
            "Saved results/samples_cyclegan/sample-002000-Y-X.png\n"
          ],
          "name": "stdout"
        },
        {
          "output_type": "stream",
          "text": [
            "WARNING:root:Lossy conversion from float64 to uint8. Range [-1.0, 1.0]. Convert image to uint8 prior to saving to suppress this warning.\n",
            "WARNING:root:Lossy conversion from float64 to uint8. Range [-1.0, 1.0]. Convert image to uint8 prior to saving to suppress this warning.\n"
          ],
          "name": "stderr"
        },
        {
          "output_type": "stream",
          "text": [
            "Iteration [ 2200/ 5000] | d_real_loss: 0.0038 | d_Y_loss: 0.0038 | d_X_loss: 0.0083 | d_fake_loss: 0.0121 | g_loss: 2915.6956\n",
            "Saved results/samples_cyclegan/sample-002200-X-Y.png\n",
            "Saved results/samples_cyclegan/sample-002200-Y-X.png\n"
          ],
          "name": "stdout"
        },
        {
          "output_type": "stream",
          "text": [
            "WARNING:root:Lossy conversion from float64 to uint8. Range [-1.0, 1.0]. Convert image to uint8 prior to saving to suppress this warning.\n",
            "WARNING:root:Lossy conversion from float64 to uint8. Range [-1.0, 1.0]. Convert image to uint8 prior to saving to suppress this warning.\n"
          ],
          "name": "stderr"
        },
        {
          "output_type": "stream",
          "text": [
            "Iteration [ 2400/ 5000] | d_real_loss: 0.0098 | d_Y_loss: 0.0169 | d_X_loss: 0.0106 | d_fake_loss: 0.0275 | g_loss: 2834.2021\n",
            "Saved results/samples_cyclegan/sample-002400-X-Y.png\n",
            "Saved results/samples_cyclegan/sample-002400-Y-X.png\n"
          ],
          "name": "stdout"
        },
        {
          "output_type": "stream",
          "text": [
            "WARNING:root:Lossy conversion from float64 to uint8. Range [-1.0, 1.0]. Convert image to uint8 prior to saving to suppress this warning.\n",
            "WARNING:root:Lossy conversion from float64 to uint8. Range [-1.0, 1.0]. Convert image to uint8 prior to saving to suppress this warning.\n"
          ],
          "name": "stderr"
        },
        {
          "output_type": "stream",
          "text": [
            "Iteration [ 2600/ 5000] | d_real_loss: 0.0052 | d_Y_loss: 0.0058 | d_X_loss: 0.0038 | d_fake_loss: 0.0096 | g_loss: 3052.3235\n",
            "Saved results/samples_cyclegan/sample-002600-X-Y.png\n",
            "Saved results/samples_cyclegan/sample-002600-Y-X.png\n"
          ],
          "name": "stdout"
        },
        {
          "output_type": "stream",
          "text": [
            "WARNING:root:Lossy conversion from float64 to uint8. Range [-1.0, 1.0]. Convert image to uint8 prior to saving to suppress this warning.\n",
            "WARNING:root:Lossy conversion from float64 to uint8. Range [-1.0, 1.0]. Convert image to uint8 prior to saving to suppress this warning.\n"
          ],
          "name": "stderr"
        },
        {
          "output_type": "stream",
          "text": [
            "Iteration [ 2800/ 5000] | d_real_loss: 0.0143 | d_Y_loss: 0.0060 | d_X_loss: 0.0041 | d_fake_loss: 0.0101 | g_loss: 3109.8989\n",
            "Saved results/samples_cyclegan/sample-002800-X-Y.png\n",
            "Saved results/samples_cyclegan/sample-002800-Y-X.png\n"
          ],
          "name": "stdout"
        },
        {
          "output_type": "stream",
          "text": [
            "WARNING:root:Lossy conversion from float64 to uint8. Range [-1.0, 1.0]. Convert image to uint8 prior to saving to suppress this warning.\n",
            "WARNING:root:Lossy conversion from float64 to uint8. Range [-1.0, 1.0]. Convert image to uint8 prior to saving to suppress this warning.\n"
          ],
          "name": "stderr"
        },
        {
          "output_type": "stream",
          "text": [
            "Iteration [ 3000/ 5000] | d_real_loss: 0.0021 | d_Y_loss: 0.0010 | d_X_loss: 0.0008 | d_fake_loss: 0.0018 | g_loss: 2123.3486\n",
            "Saved results/samples_cyclegan/sample-003000-X-Y.png\n",
            "Saved results/samples_cyclegan/sample-003000-Y-X.png\n"
          ],
          "name": "stdout"
        },
        {
          "output_type": "stream",
          "text": [
            "WARNING:root:Lossy conversion from float64 to uint8. Range [-1.0, 1.0]. Convert image to uint8 prior to saving to suppress this warning.\n",
            "WARNING:root:Lossy conversion from float64 to uint8. Range [-1.0, 1.0]. Convert image to uint8 prior to saving to suppress this warning.\n"
          ],
          "name": "stderr"
        },
        {
          "output_type": "stream",
          "text": [
            "Iteration [ 3200/ 5000] | d_real_loss: 0.0011 | d_Y_loss: 0.0008 | d_X_loss: 0.0024 | d_fake_loss: 0.0032 | g_loss: 2252.9202\n",
            "Saved results/samples_cyclegan/sample-003200-X-Y.png\n",
            "Saved results/samples_cyclegan/sample-003200-Y-X.png\n"
          ],
          "name": "stdout"
        },
        {
          "output_type": "stream",
          "text": [
            "WARNING:root:Lossy conversion from float64 to uint8. Range [-1.0, 1.0]. Convert image to uint8 prior to saving to suppress this warning.\n",
            "WARNING:root:Lossy conversion from float64 to uint8. Range [-1.0, 1.0]. Convert image to uint8 prior to saving to suppress this warning.\n"
          ],
          "name": "stderr"
        },
        {
          "output_type": "stream",
          "text": [
            "Iteration [ 3400/ 5000] | d_real_loss: 0.0019 | d_Y_loss: 0.0012 | d_X_loss: 0.0026 | d_fake_loss: 0.0038 | g_loss: 2200.2068\n",
            "Saved results/samples_cyclegan/sample-003400-X-Y.png\n",
            "Saved results/samples_cyclegan/sample-003400-Y-X.png\n"
          ],
          "name": "stdout"
        },
        {
          "output_type": "stream",
          "text": [
            "WARNING:root:Lossy conversion from float64 to uint8. Range [-1.0, 1.0]. Convert image to uint8 prior to saving to suppress this warning.\n",
            "WARNING:root:Lossy conversion from float64 to uint8. Range [-1.0, 1.0]. Convert image to uint8 prior to saving to suppress this warning.\n"
          ],
          "name": "stderr"
        },
        {
          "output_type": "stream",
          "text": [
            "Iteration [ 3600/ 5000] | d_real_loss: 0.0053 | d_Y_loss: 0.0082 | d_X_loss: 0.0019 | d_fake_loss: 0.0101 | g_loss: 2794.4810\n",
            "Saved results/samples_cyclegan/sample-003600-X-Y.png\n",
            "Saved results/samples_cyclegan/sample-003600-Y-X.png\n"
          ],
          "name": "stdout"
        },
        {
          "output_type": "stream",
          "text": [
            "WARNING:root:Lossy conversion from float64 to uint8. Range [-1.0, 1.0]. Convert image to uint8 prior to saving to suppress this warning.\n",
            "WARNING:root:Lossy conversion from float64 to uint8. Range [-1.0, 1.0]. Convert image to uint8 prior to saving to suppress this warning.\n"
          ],
          "name": "stderr"
        },
        {
          "output_type": "stream",
          "text": [
            "Iteration [ 3800/ 5000] | d_real_loss: 0.0095 | d_Y_loss: 0.0005 | d_X_loss: 0.0010 | d_fake_loss: 0.0014 | g_loss: 2419.2837\n",
            "Saved results/samples_cyclegan/sample-003800-X-Y.png\n",
            "Saved results/samples_cyclegan/sample-003800-Y-X.png\n"
          ],
          "name": "stdout"
        },
        {
          "output_type": "stream",
          "text": [
            "WARNING:root:Lossy conversion from float64 to uint8. Range [-1.0, 1.0]. Convert image to uint8 prior to saving to suppress this warning.\n",
            "WARNING:root:Lossy conversion from float64 to uint8. Range [-1.0, 1.0]. Convert image to uint8 prior to saving to suppress this warning.\n"
          ],
          "name": "stderr"
        },
        {
          "output_type": "stream",
          "text": [
            "Iteration [ 4000/ 5000] | d_real_loss: 0.0082 | d_Y_loss: 0.0004 | d_X_loss: 0.0060 | d_fake_loss: 0.0063 | g_loss: 2258.5122\n",
            "Saved results/samples_cyclegan/sample-004000-X-Y.png\n",
            "Saved results/samples_cyclegan/sample-004000-Y-X.png\n"
          ],
          "name": "stdout"
        },
        {
          "output_type": "stream",
          "text": [
            "WARNING:root:Lossy conversion from float64 to uint8. Range [-1.0, 1.0]. Convert image to uint8 prior to saving to suppress this warning.\n",
            "WARNING:root:Lossy conversion from float64 to uint8. Range [-1.0, 1.0]. Convert image to uint8 prior to saving to suppress this warning.\n"
          ],
          "name": "stderr"
        },
        {
          "output_type": "stream",
          "text": [
            "Iteration [ 4200/ 5000] | d_real_loss: 0.0045 | d_Y_loss: 0.0097 | d_X_loss: 0.0003 | d_fake_loss: 0.0101 | g_loss: 2192.8096\n",
            "Saved results/samples_cyclegan/sample-004200-X-Y.png\n",
            "Saved results/samples_cyclegan/sample-004200-Y-X.png\n"
          ],
          "name": "stdout"
        },
        {
          "output_type": "stream",
          "text": [
            "WARNING:root:Lossy conversion from float64 to uint8. Range [-1.0, 1.0]. Convert image to uint8 prior to saving to suppress this warning.\n",
            "WARNING:root:Lossy conversion from float64 to uint8. Range [-1.0, 1.0]. Convert image to uint8 prior to saving to suppress this warning.\n"
          ],
          "name": "stderr"
        },
        {
          "output_type": "stream",
          "text": [
            "Iteration [ 4400/ 5000] | d_real_loss: 0.0022 | d_Y_loss: 0.0048 | d_X_loss: 0.0031 | d_fake_loss: 0.0079 | g_loss: 2217.8579\n",
            "Saved results/samples_cyclegan/sample-004400-X-Y.png\n",
            "Saved results/samples_cyclegan/sample-004400-Y-X.png\n"
          ],
          "name": "stdout"
        },
        {
          "output_type": "stream",
          "text": [
            "WARNING:root:Lossy conversion from float64 to uint8. Range [-1.0, 1.0]. Convert image to uint8 prior to saving to suppress this warning.\n",
            "WARNING:root:Lossy conversion from float64 to uint8. Range [-1.0, 1.0]. Convert image to uint8 prior to saving to suppress this warning.\n"
          ],
          "name": "stderr"
        },
        {
          "output_type": "stream",
          "text": [
            "Iteration [ 4600/ 5000] | d_real_loss: 0.0009 | d_Y_loss: 0.0025 | d_X_loss: 0.0035 | d_fake_loss: 0.0061 | g_loss: 2574.7144\n",
            "Saved results/samples_cyclegan/sample-004600-X-Y.png\n",
            "Saved results/samples_cyclegan/sample-004600-Y-X.png\n"
          ],
          "name": "stdout"
        },
        {
          "output_type": "stream",
          "text": [
            "WARNING:root:Lossy conversion from float64 to uint8. Range [-1.0, 1.0]. Convert image to uint8 prior to saving to suppress this warning.\n",
            "WARNING:root:Lossy conversion from float64 to uint8. Range [-1.0, 1.0]. Convert image to uint8 prior to saving to suppress this warning.\n"
          ],
          "name": "stderr"
        },
        {
          "output_type": "stream",
          "text": [
            "Iteration [ 4800/ 5000] | d_real_loss: 0.0061 | d_Y_loss: 0.0002 | d_X_loss: 0.0022 | d_fake_loss: 0.0024 | g_loss: 2465.5940\n",
            "Saved results/samples_cyclegan/sample-004800-X-Y.png\n",
            "Saved results/samples_cyclegan/sample-004800-Y-X.png\n"
          ],
          "name": "stdout"
        },
        {
          "output_type": "stream",
          "text": [
            "WARNING:root:Lossy conversion from float64 to uint8. Range [-1.0, 1.0]. Convert image to uint8 prior to saving to suppress this warning.\n",
            "WARNING:root:Lossy conversion from float64 to uint8. Range [-1.0, 1.0]. Convert image to uint8 prior to saving to suppress this warning.\n"
          ],
          "name": "stderr"
        },
        {
          "output_type": "stream",
          "text": [
            "Iteration [ 5000/ 5000] | d_real_loss: 0.0041 | d_Y_loss: 0.0022 | d_X_loss: 0.0084 | d_fake_loss: 0.0106 | g_loss: 2315.5229\n",
            "Saved results/samples_cyclegan/sample-005000-X-Y.png\n",
            "Saved results/samples_cyclegan/sample-005000-Y-X.png\n",
            "adding image results/samples_cyclegan/sample-000200-X-Y.png\n",
            "adding image results/samples_cyclegan/sample-000400-X-Y.png\n",
            "adding image results/samples_cyclegan/sample-000600-X-Y.png\n",
            "adding image results/samples_cyclegan/sample-000800-X-Y.png\n",
            "adding image results/samples_cyclegan/sample-001000-X-Y.png\n",
            "adding image results/samples_cyclegan/sample-001200-X-Y.png\n",
            "adding image results/samples_cyclegan/sample-001400-X-Y.png\n",
            "adding image results/samples_cyclegan/sample-001600-X-Y.png\n",
            "adding image results/samples_cyclegan/sample-001800-X-Y.png\n",
            "adding image results/samples_cyclegan/sample-002000-X-Y.png\n",
            "adding image results/samples_cyclegan/sample-002200-X-Y.png\n",
            "adding image results/samples_cyclegan/sample-002400-X-Y.png\n",
            "adding image results/samples_cyclegan/sample-002600-X-Y.png\n",
            "adding image results/samples_cyclegan/sample-002800-X-Y.png\n",
            "adding image results/samples_cyclegan/sample-003000-X-Y.png\n",
            "adding image results/samples_cyclegan/sample-003200-X-Y.png\n",
            "adding image results/samples_cyclegan/sample-003400-X-Y.png\n",
            "adding image results/samples_cyclegan/sample-003600-X-Y.png\n",
            "adding image results/samples_cyclegan/sample-003800-X-Y.png\n",
            "adding image results/samples_cyclegan/sample-004000-X-Y.png\n",
            "adding image results/samples_cyclegan/sample-004200-X-Y.png\n",
            "adding image results/samples_cyclegan/sample-004400-X-Y.png\n",
            "adding image results/samples_cyclegan/sample-004600-X-Y.png\n",
            "adding image results/samples_cyclegan/sample-004800-X-Y.png\n",
            "adding image results/samples_cyclegan/sample-005000-X-Y.png\n",
            "adding image results/samples_cyclegan/sample-000200-Y-X.png\n",
            "adding image results/samples_cyclegan/sample-000400-Y-X.png\n",
            "adding image results/samples_cyclegan/sample-000600-Y-X.png\n",
            "adding image results/samples_cyclegan/sample-000800-Y-X.png\n",
            "adding image results/samples_cyclegan/sample-001000-Y-X.png\n",
            "adding image results/samples_cyclegan/sample-001200-Y-X.png\n",
            "adding image results/samples_cyclegan/sample-001400-Y-X.png\n",
            "adding image results/samples_cyclegan/sample-001600-Y-X.png\n",
            "adding image results/samples_cyclegan/sample-001800-Y-X.png\n",
            "adding image results/samples_cyclegan/sample-002000-Y-X.png\n",
            "adding image results/samples_cyclegan/sample-002200-Y-X.png\n",
            "adding image results/samples_cyclegan/sample-002400-Y-X.png\n",
            "adding image results/samples_cyclegan/sample-002600-Y-X.png\n",
            "adding image results/samples_cyclegan/sample-002800-Y-X.png\n",
            "adding image results/samples_cyclegan/sample-003000-Y-X.png\n",
            "adding image results/samples_cyclegan/sample-003200-Y-X.png\n",
            "adding image results/samples_cyclegan/sample-003400-Y-X.png\n",
            "adding image results/samples_cyclegan/sample-003600-Y-X.png\n",
            "adding image results/samples_cyclegan/sample-003800-Y-X.png\n",
            "adding image results/samples_cyclegan/sample-004000-Y-X.png\n",
            "adding image results/samples_cyclegan/sample-004200-Y-X.png\n",
            "adding image results/samples_cyclegan/sample-004400-Y-X.png\n",
            "adding image results/samples_cyclegan/sample-004600-Y-X.png\n",
            "adding image results/samples_cyclegan/sample-004800-Y-X.png\n",
            "adding image results/samples_cyclegan/sample-005000-Y-X.png\n"
          ],
          "name": "stdout"
        }
      ]
    }
  ]
}